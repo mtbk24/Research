{
 "cells": [
  {
   "cell_type": "markdown",
   "metadata": {},
   "source": [
    "# Band Function\n",
    "\n",
    "This program shows you how to calcualte the integrated photon and energy fluxes of the Band Function using two different methods.\n",
    "\n",
    "1.  Integrating the Function in Wolfram Alpha and then passing an energy array to the integrated function.\n",
    "2.  Using scipy.integrate to numerically integrate the function. This way is more precise."
   ]
  },
  {
   "cell_type": "markdown",
   "metadata": {},
   "source": [
    "### The equation for the Band Function can be found in the following paper:\n",
    "### Band, D., Matteson, J., Ford, L., et al. 1993, ApJ, 413, 281  Equation 1.\n",
    "http://adsabs.harvard.edu/abs/1993ApJ...413..281B"
   ]
  },
  {
   "cell_type": "markdown",
   "metadata": {
    "collapsed": false
   },
   "source": [
    "\n",
    "Original Function, before integration: \n",
    "\n",
    "<br />\n",
    "<br />\n",
    "\n",
    "for   $E < (\\ (\\alpha - \\beta) \\times E_0 \\ )$\n",
    "<br />\n",
    "<br />\n",
    "\\begin{equation}\n",
    "f\\left(E\\right) = N \\times \\left(\\frac{E}{100}\\right)^{\\alpha} \\times  \\exp \\left( \\frac{-E}{E_0} \\right) dE \\ \\ \\ \\ \n",
    "\\end{equation}\n",
    "<br />\n",
    "<br />\n",
    "for   $E >= (\\ (\\alpha - \\beta) \\times E_0 \\ )$\n",
    "<br />\n",
    "<br />\n",
    "\\begin{equation}\n",
    "f\\left(E\\right) = N \\times \\left(\\frac{(\\alpha-\\beta) \\times E_0}{100}\\right)^{(\\alpha - \\beta)} \\left(\\frac{E}{100}\\right)^{\\beta} \\times \\exp \\left(-(\\alpha - \\beta) \\right) dE \\ \\ \\ \\ \n",
    "\\end{equation}"
   ]
  },
  {
   "cell_type": "markdown",
   "metadata": {},
   "source": [
    "### My version of this equation:\n",
    "\n",
    "We use E-folding energy instead of Epeak here, but Epeak can easily be derived by using the equation in the next block.\n",
    "\n",
    "t is used to represent the e-folding energy because in PYXSPEC, the parameter name for it is 'tem'.  \n",
    "    \n",
    "    alpha: low energy index\n",
    "    beta:  high energy index\n",
    "    a - alpha\n",
    "    b - beta\n",
    "    t:     e-folding energy (E_0, or tem)\n",
    "    N:     normalization\n",
    "    E:     energy to integrate over, 10 to 10,000 keV\n",
    "        \n",
    "\n",
    "    for E < ((a-b) * t):\n",
    "        f(E)= N * (((E/100.0)**a) * exp(-E/t)) dE\n",
    "        \n",
    "    for E >= ((a-b) * t):\n",
    "        f(E)= N * ((((a-b)*t)/100.0)**(a-b)*((E/100)**b)*exp(-(a-b))) dE\n"
   ]
  },
  {
   "cell_type": "markdown",
   "metadata": {},
   "source": [
    "### Converstion between E-folding energy and Epeak energy:\n",
    "Sometimes you'll see the energy as Epeak.\n",
    "\n",
    "    epk    = 516.59979\n",
    "    alpha  = -1.0355458\n",
    "    efold  = (epk)/(alpha + 2.)\n",
    "    efold  = (516.59979)/(-1.0355458 + 2.)"
   ]
  },
  {
   "cell_type": "markdown",
   "metadata": {},
   "source": [
    "\\begin{equation}\n",
    "E_{pk} = E_0 \\times \\left( \\alpha + 2.0 \\right) \\ \\ \\ \\ \\ \n",
    "\\end{equation}"
   ]
  },
  {
   "cell_type": "markdown",
   "metadata": {},
   "source": [
    "# Begin Program"
   ]
  },
  {
   "cell_type": "code",
   "execution_count": 1,
   "metadata": {
    "collapsed": true
   },
   "outputs": [],
   "source": [
    "from __future__ import division\n",
    "import numpy as np\n",
    "from scipy import integrate"
   ]
  },
  {
   "cell_type": "markdown",
   "metadata": {},
   "source": [
    "### Constants and Parameters"
   ]
  },
  {
   "cell_type": "code",
   "execution_count": 2,
   "metadata": {
    "collapsed": true
   },
   "outputs": [],
   "source": [
    "keVtoerg    = 1.60217657E-9\n",
    "emin        = 10.0\n",
    "emax        = 10000.0\n",
    "\n",
    "pars     = [-1.0355458, -2.2196138, 535.6395254435099, 0.017525647]  \n",
    "# [alpha, beta, tem, norm]\n",
    "\n",
    "\n",
    "def get_parVals():\n",
    "    pars     = [-1.0355458, -2.2196138, 535.6395254435099, 0.017525647]  \n",
    "    return pars\n"
   ]
  },
  {
   "cell_type": "markdown",
   "metadata": {},
   "source": [
    "## Wolfram Alpha Integration of the Band Function:\n",
    "\n",
    "Lower part ($E < ((\\alpha - \\beta) \\times E_0))$:\n",
    "\n",
    "http://www.wolframalpha.com/input/?i=(((x%2F100)**a)+*+(exp(-x%2Ft)))+dx\n",
    "\n",
    "Upper part  ($E >= ((\\alpha - \\beta) \\times E_0))$:\n",
    "\n",
    "http://www.wolframalpha.com/input/?i=((y*t)%2F100)%5Ey+*+exp(-y)+*+(x%2F100)%5Eb+dx\n",
    "\n",
    "\n",
    "When using Wolfram Alpha to integrate, be careful which letters you use for parameters.  Wolfram alpha has some letters set aside to mean something.  If they are used, you will not get the right answer. For example, E stands for exponential. Do NOT use E for energy.\n",
    "\n",
    "N can be left out of integration. Simply multiply it back on at the end. The more parameters you have, the less likely Wolfram Alpha will calculate the function without a calculation time issue.\n",
    "\n",
    "    a - alpha\n",
    "    b - beta\n",
    "    y = (a - b)\n",
    "    N - normalization\n",
    "    t - tem or efolding energy\n",
    "    x - energy"
   ]
  },
  {
   "cell_type": "markdown",
   "metadata": {},
   "source": [
    "    LOWER PART = (-100.**(-a) * (t**(a+1.))\n",
    "    "
   ]
  },
  {
   "cell_type": "markdown",
   "metadata": {},
   "source": [
    "#### The upper part of the Band Function is a bit daunting, so I'll break down the steps:"
   ]
  },
  {
   "cell_type": "markdown",
   "metadata": {},
   "source": [
    "    UPPER PART = (1./(b+1.))*(exp**-(y)) * (x**(b+1.)) * (100.**( -(b-(y)) )) * (t * (y))**(y)\n",
    "    \n",
    "replace y with (a-b)\n",
    "\n",
    "    UPPER PART = (1./(b+1.))*(exp**-(a-b)) * (x**(b+1.)) * (100.**( -(b-(a-b)) )) * (t * (a-b))**(a-b)\n",
    "\n",
    "\n",
    "reduce the exponent of the 100.\n",
    "    \n",
    "    -(b-(a-b)) = -(b - a + b) = -(a) = -a\n",
    "\n",
    "    UPPER PART = (1./(b+1.))*(exp**-(a-b)) * (x**(b+1.)) * (100.**(-a)) * (t * (a-b))**(a-b)\n",
    "\n",
    "move 100. to the front, but just after the (1./(b+1.))\n",
    "\n",
    "    UPPER PART = (1./(b+1.)) * (100.**(-a)) * (exp**-(a-b)) * (x**(b+1.)) * (t * (a-b))**(a-b)\n",
    "    \n",
    "x - eng\n",
    "    \n",
    "    UPPER PART = (1./(b+1.)) * (100.**(-a)) * (exp**-(a-b)) * (t * (a-b))**(a-b) * (eng**(b+1.))\n",
    "    \n",
    "separate (t * (a-b))^(a-b)  into   (a-b)^(a-b)  and (t^(a-b))\n",
    "    \n",
    "    UPPER PART = (1./(b+1.)) * (100.**(-a)) * (exp**-(a-b)) * \n",
    "    \n",
    "    ((a-b)**(a-b)) * (t**(a-b)) * (eng**(b+1.))\n",
    "re-arrange:\n",
    "    \n",
    "    UPPER PART = (1./(b+1.)) * (100.**(-a)) * ((a-b)**(a-b)) * (exp**-(a-b)) * (t**(a-b)) * (eng**(b+1.))\n",
    "    "
   ]
  },
  {
   "cell_type": "code",
   "execution_count": 3,
   "metadata": {
    "collapsed": true
   },
   "outputs": [],
   "source": [
    "def band(engs, flux, *params):\n",
    "    from mpmath import gammainc, exp\n",
    "    from mpmath import fp   # use fp.gammainc, speeds up calculation\n",
    "    import time\n",
    "    \n",
    "    a   = float(params[0])  # alpha\n",
    "    b   = float(params[1])  # beta\n",
    "    t   = float(params[2])  # e-folding energy, E_0 or tem\n",
    "    \n",
    "    start_time = time.time()\n",
    "\n",
    "    for i in range(len(engs)-1):\n",
    "        if engs[i] < ((a - b) * t):\n",
    "            lowIntegral   = (-100.**(-a)) * (t**(a+1.)) * float( fp.gammainc(a + 1., (engs[i]/t)) )\n",
    "            highIntegral  = (-100.**(-a)) * (t**(a+1.)) * float( fp.gammainc(a + 1., (engs[i+1]/t)) )\n",
    "            val           = (highIntegral - lowIntegral)\n",
    "            flux[i]       = val\n",
    "        else:\n",
    "            lowIntegral   = ((1./(b+1.))*((100.**(-a))*((a-b)**(a-b)) * exp(b-a)*(t**(a-b)))) * (engs[i]**(b+1.))\n",
    "            highIntegral  = ((1./(b+1.))*((100.**(-a))*((a-b)**(a-b)) * exp(b-a)*(t**(a-b)))) * (engs[i+1]**(b+1.))\n",
    "            \n",
    "            val           = (highIntegral - lowIntegral)\n",
    "            flux[i]       = val\n",
    "    stop_time = time.time() - start_time \n",
    "    print('time: %f seconds'%(stop_time))"
   ]
  },
  {
   "cell_type": "markdown",
   "metadata": {},
   "source": [
    "#### We ran this function twice:\n",
    "Once with fp.gammainc and once without it, gammainc.\n",
    "\n",
    "fp stands for fast low-precision arithmetic.  This speeds up the process.\n",
    "\n",
    "    With fp:     2.11708402634 seconds  \n",
    "        Fluxes: 6.218796647 and 2.047850400e-06 \n",
    "        \n",
    "    Without fp:  6.34235787392 seconds\n",
    "        Fluxes: 6.218796647 and 2.047850400e-06\n",
    "        \n",
    "You can see that the lower precision doesn't change the flux values.\n",
    "http://docs.sympy.org/0.6.7/modules/mpmath/basics.html"
   ]
  },
  {
   "cell_type": "code",
   "execution_count": 4,
   "metadata": {
    "collapsed": false
   },
   "outputs": [
    {
     "name": "stdout",
     "output_type": "stream",
     "text": [
      "time: 4.071095 seconds\n",
      "\n",
      "Photon Flux:  6.218796647 \t photons s^-1 cm^-2\n",
      "Energy Flux:  2.047850400e-06 \t ergs s^-1 cm^-2\n",
      "\n"
     ]
    }
   ],
   "source": [
    "N      = 5000\n",
    "engs   = np.logspace(1, 4, N)\n",
    "flux   = np.zeros(N)\n",
    "\n",
    "# WILL STORE CALCULATIONS IN FLUX ARRAY.\n",
    "band(engs, flux, *pars)\n",
    "\n",
    "norm    = pars[-1]\n",
    "flux_ph = np.sum(flux) * norm\n",
    "\n",
    "# NO NEED TO MAKE AN EBAND FUNCTION.  MULTIPLY ENGS BY THE FLUX.\n",
    "flux_en = np.sum(flux * engs * keVtoerg) * norm\n",
    "\n",
    "print(\n",
    "'''\n",
    "Photon Flux:  %.9f \\t photons s^-1 cm^-2\n",
    "Energy Flux:  %.9e \\t ergs s^-1 cm^-2\n",
    "'''%(flux_ph, flux_en))"
   ]
  },
  {
   "cell_type": "markdown",
   "metadata": {},
   "source": [
    "## FUNCTION WITHOUT BEING INTEGRATED."
   ]
  },
  {
   "cell_type": "code",
   "execution_count": 5,
   "metadata": {
    "collapsed": true
   },
   "outputs": [],
   "source": [
    "def band(energy):\n",
    "    from numpy import exp\n",
    "    alpha, beta, tem, norm = get_parVals()\n",
    "    \n",
    "    \n",
    "    a = float(alpha)\n",
    "    b = float(beta)\n",
    "    t = float(tem)\n",
    "    N = float(norm)\n",
    "    eng  = energy\n",
    "    \n",
    "    if eng < ( (a-b) * t ):\n",
    "        return  N * (((eng/100.0)**a) * (exp(-eng/t)))\n",
    "    else:\n",
    "        return  N * (((((a-b)*t)/100.0)**(a-b)) * (exp(b-a))*((eng/100.0)**b))\n",
    "\n",
    "def eband(energy):\n",
    "    eng  = energy\n",
    "    return eng * band(eng)\n"
   ]
  },
  {
   "cell_type": "code",
   "execution_count": 6,
   "metadata": {
    "collapsed": false
   },
   "outputs": [
    {
     "name": "stdout",
     "output_type": "stream",
     "text": [
      "\n",
      "Photon Flux:  6.218796647 \t photons s^-1 cm^-2\n",
      "Energy Flux:  2.049265654e-06 \t ergs s^-1 cm^-2\n",
      "\n"
     ]
    }
   ],
   "source": [
    "Flux_Ph = integrate.quad(band, emin, emax, limit=100)[0]\n",
    "Flux_En = integrate.quad(eband, emin, emax, limit=100)[0] * keVtoerg\n",
    "\n",
    "print(\n",
    "'''\n",
    "Photon Flux:  %.9f \\t photons s^-1 cm^-2\n",
    "Energy Flux:  %.9e \\t ergs s^-1 cm^-2\n",
    "'''%(Flux_Ph, Flux_En))"
   ]
  }
 ],
 "metadata": {
  "kernelspec": {
   "display_name": "Python 2",
   "language": "python",
   "name": "python2"
  },
  "language_info": {
   "codemirror_mode": {
    "name": "ipython",
    "version": 2
   },
   "file_extension": ".py",
   "mimetype": "text/x-python",
   "name": "python",
   "nbconvert_exporter": "python",
   "pygments_lexer": "ipython2",
   "version": "2.7.12"
  }
 },
 "nbformat": 4,
 "nbformat_minor": 0
}
