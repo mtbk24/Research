{
 "cells": [
  {
   "cell_type": "markdown",
   "metadata": {},
   "source": [
    "# Cutoff Power-Law or Comptonized Power-Law\n",
    "\n",
    "This program shows you how to calcualte the integrated photon and energy fluxes of the COPL using two different methods.\n",
    "\n",
    "1.  Integrating the Function in Wolfram Alpha and then passing an energy array to the integrated function.\n",
    "2.  Using scipy.integrate to numerically integrate the function. This way is more precise."
   ]
  },
  {
   "cell_type": "markdown",
   "metadata": {},
   "source": [
    "### The equation for the Cutoff Power Law can be found here:\n",
    "https://heasarc.gsfc.nasa.gov/xanadu/xspec/manual/XSmodelCutoffpl.html\n",
    "\n",
    "#### \\** NOTE:  I switch the sign on the cutoff power-law index."
   ]
  },
  {
   "cell_type": "markdown",
   "metadata": {},
   "source": [
    "Original Function, before integration: \n",
    "    \n",
    "\\begin{equation}\n",
    "f\\left(E\\right) = N \\times \\left(\\frac{E}{100}\\right)^{\\alpha} \\times \\exp \\left( -\\frac{E}{E_{C}} \\right)  dE \\ \\ \\ \\ \\ \\ \\ \\         \n",
    "\\end{equation}\n",
    "\n",
    "where $\\alpha$ is the cutoff power-law index or low-energy slope.\n",
    "\n",
    "$E_C$ is the high energy cutoff."
   ]
  },
  {
   "cell_type": "markdown",
   "metadata": {},
   "source": [
    "### My version of this equation:\n",
    "I use different parameters to represent the variables that can be used within python to run calculations."
   ]
  },
  {
   "cell_type": "markdown",
   "metadata": {},
   "source": [
    "Original Function, before integration: \n",
    "    \n",
    "    cplIndex or alpha: low energy index\n",
    "    cutoff:  high-energy cutoff\n",
    "    N:     normalization\n",
    "    E:     energy to integrate over, 10 to 10,000 keV\n",
    "\n",
    "\n",
    "    f(E) = N * (E**(cplIdx) * exp(-E/cutoff)) dE"
   ]
  },
  {
   "cell_type": "markdown",
   "metadata": {},
   "source": [
    "### Converstion between High Energy Cutoff and Epeak energy:\n",
    "Sometimes you'll see the energy as Epeak.\n",
    "\n",
    "    epk    = 580.22058\n",
    "    alpha  = -1.0534484\n",
    "\n",
    "    ecut   = (epk)/(alpha + 2.); ecut\n",
    "    ecut   = (580.22058)/(-1.0534484 + 2.)\n",
    "    # ecut = 612.9835711016706"
   ]
  },
  {
   "cell_type": "markdown",
   "metadata": {},
   "source": [
    "\\begin{equation}\n",
    "E_{pk} = E_{cutoff} \\times \\left( \\alpha + 2.0 \\right) \\ \\ \\ \\ \\ \n",
    "\\end{equation}"
   ]
  },
  {
   "cell_type": "markdown",
   "metadata": {},
   "source": [
    "# Begin Program"
   ]
  },
  {
   "cell_type": "code",
   "execution_count": 1,
   "metadata": {
    "collapsed": true
   },
   "outputs": [],
   "source": [
    "from __future__ import division\n",
    "import numpy as np\n",
    "from scipy import integrate"
   ]
  },
  {
   "cell_type": "markdown",
   "metadata": {},
   "source": [
    "### Constants and Parameters"
   ]
  },
  {
   "cell_type": "code",
   "execution_count": 2,
   "metadata": {
    "collapsed": true
   },
   "outputs": [],
   "source": [
    "keVtoerg    = 1.60217657E-9\n",
    "emin        = 10.0\n",
    "emax        = 10000.0\n",
    "\n",
    "pars     = [-1.0534484, 612.9835711016706, 0.017022533]  \n",
    "# [cplIndex, highEcut, norm]\n",
    "\n",
    "def get_parVals():\n",
    "    pars     = [-1.0534484, 612.9835711016706, 0.017022533]  \n",
    "    return pars\n"
   ]
  },
  {
   "cell_type": "markdown",
   "metadata": {},
   "source": [
    "## Wolfram Alpha Integration of the Cutoff Power-Law:\n",
    "\n",
    "http://www.wolframalpha.com/input/?i=((x%2F100)%5Ea+*+exp(-x%2FC)+)+dx\n",
    "\n",
    "\n",
    "When using Wolfram Alpha to integrate, be careful which letters you use for parameters.  Wolfram alpha has some letters set aside to mean something.  If they are used, you will not get the right answer. For example, E stands for exponential. Do NOT use E for energy.\n",
    "\n",
    "N can be left out of integration. Simply multiply it back on at the end. The more parameters you have, the less likely Wolfram Alpha will calculate the function without a calculation time issue.\n",
    "\n",
    "    a - cutoff power-law index\n",
    "    C - high energy cutoff\n",
    "    N - normalization\n",
    "    x - energy\n"
   ]
  },
  {
   "cell_type": "code",
   "execution_count": 3,
   "metadata": {
    "collapsed": true
   },
   "outputs": [],
   "source": [
    "'''\n",
    "See here to understand the difference between the regularized (normalized)\n",
    "and generalized (non-normalized) incomplete gamma functions.  \n",
    "http://www.boost.org/doc/libs/1_61_0/libs/math/doc/html/math_toolkit/sf_gamma/igamma.html\n",
    "\n",
    "scipy.special's version of the incomplete gamma function is the \n",
    "** regularized ** version and doesn't work well here.\n",
    "Read about it here:\n",
    "https://docs.scipy.org/doc/scipy/reference/generated/scipy.special.gammainc.html\n",
    "\n",
    "The mpmath version is the ** generalized **  version of the \n",
    "incomplete gamma function and it does work well here.\n",
    "Please read about it here.\n",
    "http://mpmath.org/doc/0.19/functions/expintegrals.html\n",
    "\n",
    "\n",
    "   Evaluation of a generalized incomplete gamma function:\n",
    "fp.gammainc( cplIdx + 1., a = (engs[i]/cutoff) )\n",
    "a - the lower integral limit.\n",
    "b - the upper integral limit, default: b is infinity.\n",
    "'''\n",
    "\n",
    "def copl(engs, flux, *params):\n",
    "    '''\n",
    "    I do not use a here for the cutoff power-law index (or alpha) because of the \n",
    "    a used in the lower limit of the gammainc calculation.  I didn't want them \n",
    "    to become confused.\n",
    "    \n",
    "    '''\n",
    "    from mpmath import gammainc\n",
    "    from mpmath import fp\n",
    "    import time\n",
    "    \n",
    "    start_time = time.time()\n",
    "    \n",
    "    for i in range(len(engs)-1):\n",
    "        cplIdx   = float(params[0])    # low-energy slope (alpha)\n",
    "        cutoff   = float(params[1])    # cutoff energy\n",
    "        lowIntegral   = ((-100.0**(-cplIdx))*(cutoff**(cplIdx+1.))) * float(fp.gammainc( cplIdx + 1., a=(engs[i]/cutoff)) ) \n",
    "        highIntegral  = ((-100.0**(-cplIdx))*(cutoff**(cplIdx+1.))) * float(fp.gammainc( cplIdx + 1., a=(engs[i+1]/cutoff)) )\n",
    "        val = (highIntegral - lowIntegral)\n",
    "        flux[i]       = val\n",
    "    stop_time = time.time() - start_time \n",
    "    print('time: %f seconds'%(stop_time))"
   ]
  },
  {
   "cell_type": "markdown",
   "metadata": {},
   "source": [
    "#### We ran this function twice:\n",
    "Once with fp.gammainc and once without it, gammainc.\n",
    "\n",
    "fp stands for fast low-precision arithmetic.  This speeds up the process.\n",
    "\n",
    "    With fp:     2.908276 seconds  \n",
    "        Fluxes: 6.167920487 and 1.535317095e-06\n",
    "        \n",
    "    Without fp:  11.440344 seconds\n",
    "        Fluxes: 6.167920487 and 1.535317095e-06\n",
    "        \n",
    "You can see that the lower precision doesn't change the flux values.\n",
    "http://docs.sympy.org/0.6.7/modules/mpmath/basics.html"
   ]
  },
  {
   "cell_type": "code",
   "execution_count": 4,
   "metadata": {
    "collapsed": false
   },
   "outputs": [
    {
     "name": "stdout",
     "output_type": "stream",
     "text": [
      "time: 8.073252 seconds\n",
      "\n",
      "Photon Flux:  6.167920487 \t photons s^-1 cm^-2\n",
      "Energy Flux:  1.535317095e-06 \t ergs s^-1 cm^-2\n",
      "\n"
     ]
    }
   ],
   "source": [
    "N      = 5000\n",
    "engs   = np.logspace(1, 4, N)\n",
    "flux   = np.zeros(N)\n",
    "\n",
    "# WILL STORE CALCULATIONS IN FLUX ARRAY.\n",
    "copl(engs, flux, *pars)\n",
    "\n",
    "norm   = pars[-1]\n",
    "flux_ph = np.sum(flux) * norm\n",
    "\n",
    "# NO NEED TO MAKE AN ESBPL FUNCTION.  MULTIPLY ENGS BY THE FLUX.\n",
    "flux_en = np.sum(flux * engs * keVtoerg) * norm\n",
    "\n",
    "print(\n",
    "'''\n",
    "Photon Flux:  %.9f \\t photons s^-1 cm^-2\n",
    "Energy Flux:  %.9e \\t ergs s^-1 cm^-2\n",
    "'''%(flux_ph, flux_en))"
   ]
  },
  {
   "cell_type": "markdown",
   "metadata": {},
   "source": [
    "## FUNCTION WITHOUT BEING INTEGRATED."
   ]
  },
  {
   "cell_type": "code",
   "execution_count": 5,
   "metadata": {
    "collapsed": true
   },
   "outputs": [],
   "source": [
    "def copl(energy):\n",
    "    from numpy import exp\n",
    "    cplIndex, highEcut, norm = get_parVals()\n",
    "    a = float(cplIndex)\n",
    "    C = float(highEcut)\n",
    "    N = float(norm)\n",
    "    eng = energy\n",
    "    return N * ((eng/100.0)**a) * (exp(-eng/C))\n",
    "\n",
    "def ecopl(energy):\n",
    "    eng = energy\n",
    "    return eng * copl(eng)"
   ]
  },
  {
   "cell_type": "code",
   "execution_count": 6,
   "metadata": {
    "collapsed": false
   },
   "outputs": [
    {
     "name": "stdout",
     "output_type": "stream",
     "text": [
      "\n",
      "Photon Flux:  6.167920487 \t photons s^-1 cm^-2\n",
      "Energy Flux:  1.536378106e-06 \t ergs s^-1 cm^-2\n",
      "\n"
     ]
    }
   ],
   "source": [
    "Flux_Ph = integrate.quad(copl, emin, emax, limit=100)[0]\n",
    "Flux_En = integrate.quad(ecopl, emin, emax, limit=100)[0] * keVtoerg\n",
    "\n",
    "print(\n",
    "'''\n",
    "Photon Flux:  %.9f \\t photons s^-1 cm^-2\n",
    "Energy Flux:  %.9e \\t ergs s^-1 cm^-2\n",
    "'''%(Flux_Ph, Flux_En))"
   ]
  }
 ],
 "metadata": {
  "kernelspec": {
   "display_name": "Python 2",
   "language": "python",
   "name": "python2"
  },
  "language_info": {
   "codemirror_mode": {
    "name": "ipython",
    "version": 2
   },
   "file_extension": ".py",
   "mimetype": "text/x-python",
   "name": "python",
   "nbconvert_exporter": "python",
   "pygments_lexer": "ipython2",
   "version": "2.7.12"
  }
 },
 "nbformat": 4,
 "nbformat_minor": 0
}
