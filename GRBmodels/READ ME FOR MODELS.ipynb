{
 "cells": [
  {
   "cell_type": "markdown",
   "metadata": {},
   "source": [
    "# GRB Model README\n",
    "\n",
    "These programs shows you how to calcualte the integrated photon and energy fluxes of for each model using two different methods.\n",
    "\n",
    "1)  The first example in each file was done by taking the integral of each GRB Function in Wolfram Alpha and then using those integrated equations to estimate fluxes.  An array of energies is passed to the integrated functions and the fluxes are estimated for each increment of energy by calculating the flux at Energy[i] and subtracting it from the flux at Energy[i+1]. \n",
    "\n",
    "    ** A link to the Wolfram Alpha Integration will be provided for \n",
    "    each model in their own Jupyter Notebooks.\n",
    "    \n",
    "<br >\n",
    "<br >\n",
    "\n",
    "2)  Using scipy.integrate.quad to run quadrature integration on the origianl GRB function."
   ]
  },
  {
   "cell_type": "markdown",
   "metadata": {},
   "source": [
    "   "
   ]
  },
  {
   "cell_type": "markdown",
   "metadata": {},
   "source": [
    "## Here we will show you an example using the Power-Law Model."
   ]
  },
  {
   "cell_type": "markdown",
   "metadata": {},
   "source": [
    "---"
   ]
  },
  {
   "cell_type": "code",
   "execution_count": 1,
   "metadata": {
    "collapsed": true
   },
   "outputs": [],
   "source": [
    "from __future__ import division\n",
    "import numpy as np\n",
    "from scipy import integrate"
   ]
  },
  {
   "cell_type": "markdown",
   "metadata": {},
   "source": [
    "   "
   ]
  },
  {
   "cell_type": "markdown",
   "metadata": {},
   "source": [
    "## First Example:\n",
    "\n",
    "### Original Function Integrated"
   ]
  },
  {
   "cell_type": "code",
   "execution_count": 2,
   "metadata": {
    "collapsed": true
   },
   "outputs": [],
   "source": [
    "def lpow(engs, flux, *params):\n",
    "    '''\n",
    "    ** This function is normalized to 100 keV, which is why the 100's are \n",
    "       included in this function.  We integrated the following equation:\n",
    "       f(E) = N * ((E/100.0)**a)\n",
    "        a:     power-law index\n",
    "        N:     normalization\n",
    "        E:     energy to integrate over, 10 to 10,000 keV\n",
    "               \n",
    "       \n",
    "    engs:  array of energies from 10 to 10,000 keV \n",
    "           (lower and upper integration limits).\n",
    "    \n",
    "    flux:  array of zero's or nan's to prepare for fluxes to be appended to.\n",
    "           It's faster to append to an already existing array by doing\n",
    "           flux[i] = 1.234 rather than flux.append(1.234).  The .append \n",
    "           syntax eats up computation time.\n",
    "           \n",
    "    *params: a list of parameters (floats) in the order they would be in PYXSPEC.\n",
    "             You should make sure the function reads them in that same order.\n",
    "             \n",
    "    '''\n",
    "    \n",
    "    plIdx = float(params[0])    # power-law index\n",
    "\n",
    "    for i in range(len(engs)-1):\n",
    "        lowIntegral     = (100.**(-plIdx)) * ((engs[i]**(plIdx+1.)) /(plIdx + 1.))\n",
    "        highIntegral    = (100.**(-plIdx)) * ((engs[i+1]**(plIdx+1.))/(plIdx + 1.))\n",
    "        val             = (highIntegral - lowIntegral)\n",
    "        flux[i]         = val"
   ]
  },
  {
   "cell_type": "markdown",
   "metadata": {},
   "source": [
    "#### The normalization parameter is left out of this function for 1 reason only:\n",
    "Without it, these functions are set up exactly as the PYXSPEC functions should be to fit the data and estimate parameters.  This function can be used to fit the data.\n",
    "See Documentation on adding a local model to PyXspec:\n",
    "https://heasarc.gsfc.nasa.gov/xanadu/xspec/python/html/extended.html#local-models-in-python\n"
   ]
  },
  {
   "cell_type": "markdown",
   "metadata": {},
   "source": [
    "#### Parameters and Constants:"
   ]
  },
  {
   "cell_type": "code",
   "execution_count": 3,
   "metadata": {
    "collapsed": true
   },
   "outputs": [],
   "source": [
    "pars     = [-1.492, 4.05928592E-02]  # plIndex, plNormalization\n",
    "\n",
    "def get_parVals():\n",
    "    pars     = [-1.492, 4.05928592E-02]  \n",
    "    return pars\n",
    "\n",
    "# Constants:\n",
    "keVtoerg    = 1.60217657E-9\n",
    "emin        = 10.0\n",
    "emax        = 10000.0"
   ]
  },
  {
   "cell_type": "code",
   "execution_count": 4,
   "metadata": {
    "collapsed": false
   },
   "outputs": [],
   "source": [
    "Num    = 5000\n",
    "engs   = np.logspace(1, 4, Num)\n",
    "flux   = np.zeros(Num)"
   ]
  },
  {
   "cell_type": "code",
   "execution_count": 5,
   "metadata": {
    "collapsed": true
   },
   "outputs": [],
   "source": [
    "# WILL STORE CALCULATIONS IN ARRAY 'flux'\n",
    "lpow(engs, flux, *pars)"
   ]
  },
  {
   "cell_type": "markdown",
   "metadata": {},
   "source": [
    "#### Photon Flux:\n",
    "    Photon Flux =  f(E) dE \n",
    "    (units: photons s^-1 cm^-2)"
   ]
  },
  {
   "cell_type": "code",
   "execution_count": 6,
   "metadata": {
    "collapsed": true
   },
   "outputs": [],
   "source": [
    "# MULTIPLY BY NORMALIZATION PARAMETER\n",
    "norm     = pars[-1]\n",
    "flux_ph  = np.sum(flux) * norm"
   ]
  },
  {
   "cell_type": "markdown",
   "metadata": {},
   "source": [
    "#### Energy Flux:\n",
    "\n",
    "    Energy Flux =  E * f(E) dE \n",
    "    (units: ergs s^-1 cm^-2)\n",
    "    ** units come out in keV and need to be converted to ergs."
   ]
  },
  {
   "cell_type": "code",
   "execution_count": 7,
   "metadata": {
    "collapsed": false
   },
   "outputs": [],
   "source": [
    "flux_en = np.sum(flux * engs * keVtoerg) * norm"
   ]
  },
  {
   "cell_type": "code",
   "execution_count": 8,
   "metadata": {
    "collapsed": false
   },
   "outputs": [
    {
     "name": "stdout",
     "output_type": "stream",
     "text": [
      "\n",
      "Photon Flux:  24.758399542 \t photons s^-1 cm^-2\n",
      "Energy Flux:  1.287664172e-05 \t ergs s^-1 cm^-2\n",
      "\n"
     ]
    }
   ],
   "source": [
    "print(\n",
    "'''\n",
    "Photon Flux:  %.9f \\t photons s^-1 cm^-2\n",
    "Energy Flux:  %.9e \\t ergs s^-1 cm^-2\n",
    "'''%(flux_ph, flux_en))"
   ]
  },
  {
   "cell_type": "markdown",
   "metadata": {},
   "source": [
    "1.  In order to get the function we have in the lpow function above, we first integrate the origianl Power-Law Function in Wolfram Alpha.\n",
    "\n",
    "2.  We then pass it an array of energies and take the difference between energy[i+1] and energy[i].\n",
    "\n",
    "3.  Multiply the fluxes by the normalization parameter.  Since it's a constant during the integration, it can be pulled out front and multiplied to the final sum (np.sum(flux) \\* norm) or each individual element np.sum(flux \\* norm), it does not make a difference."
   ]
  },
  {
   "cell_type": "markdown",
   "metadata": {},
   "source": [
    "### Extra Notes:\n",
    "\n",
    "Make a flux array of 5000 elements that will be filled with flux increments.\n",
    "An energy array with 5000 energies ranging from 10 to 10,000 keV in log space will be passed to the integrated BAND function and will calculate an increment of flux for each energy element passed to it.  \n",
    "Those increments will be stored in the flux array of 5000 elements.\n",
    "\n",
    "After running band(engs, flux, *pars) the fluxes (un-normalized) will be appended to the flux array.  Then you can multiply each flux element by the normalization factor.  \n",
    "You could pass the normalization to the band function and multiply it within the function instead of at the end.  \n",
    "I do not do that here because the equation (shown below) was the exact one  used during PYXSPEC fitting.  The only difference between this function and the PYXSPEC one is that the order the variables passed to the band function in PYXSPEC are:  band(engs, params, flux)\n",
    "\n",
    "\n",
    "If you sum up the 5000 increments in the flux array and then multiply by the the normalization, you are getting the integrated flux from 10 to 10,000 keV.\n",
    "You are essentially summing up the flux area under the flux curve.\n",
    "\n",
    "\n",
    "In this example, we leave the BAND normalization parameter out of the function and multiply it at the end.  We do this because PYXSPEC uses this exact function for band (as below) during the Maximum Likelihood fitting process of parameter estimation.  \n",
    "\n",
    "This is how PYXSPEC estiamtes its flux calculations when you use the commands:\n",
    "\n",
    "    AllModels.setEnergies(\"10. 10000.\")\n",
    "    AllModels.calcFlux(\"10. 10000.0 err\")\n",
    " \n",
    "This is a crude method to estimate the flux and is not the  most accurate way.  The best way to calculate the integrated flux is to take the original function and numerically integrate it with scipy.integrate.quad for quadrature integration.\n",
    "\n",
    "    Photon Flux Units:  photons s^-1 cm^-2\n",
    "    Energy Flux Units:  ergs s^-1 cm^-2\n",
    "\n",
    "\n"
   ]
  },
  {
   "cell_type": "markdown",
   "metadata": {},
   "source": [
    "   "
   ]
  },
  {
   "cell_type": "markdown",
   "metadata": {},
   "source": [
    "---"
   ]
  },
  {
   "cell_type": "markdown",
   "metadata": {},
   "source": [
    "## Second Example:\n",
    "\n",
    "### Original Function.\n",
    "This uses scipy.integrate.quad\n",
    "\n",
    "This way is more precise.\n",
    "\n",
    "https://docs.scipy.org/doc/scipy/reference/generated/scipy.integrate.quad.html"
   ]
  },
  {
   "cell_type": "code",
   "execution_count": 9,
   "metadata": {
    "collapsed": true
   },
   "outputs": [],
   "source": [
    "def pl(energy):\n",
    "    '''\n",
    "    Integrating this function will provide the Integrated Photon Flux.\n",
    "    \n",
    "    Can not pass parameters to this function.  Need to call them from\n",
    "    within.  The reason for this is because scipy.integrate.quad setup\n",
    "    needs to call a function that is set up to only pass one parameter \n",
    "    to, the parameter to integrate over.  Here, that would be energy.\n",
    "    \n",
    "    '''\n",
    "    plIdx, N    = get_parVals()  #power-law index and  its normalization.\n",
    "    \n",
    "    eng    = energy\n",
    "    return N * ((eng/100.0)**plIdx)\n",
    "\n",
    "def epl(energy):\n",
    "    '''\n",
    "    Integrating this function will provide the Integrated Energy Flux.\n",
    "    Must Convert from keV to ergs after integration.\n",
    "    '''\n",
    "    eng    = energy\n",
    "    return eng * pl(eng)"
   ]
  },
  {
   "cell_type": "code",
   "execution_count": 10,
   "metadata": {
    "collapsed": false
   },
   "outputs": [
    {
     "name": "stdout",
     "output_type": "stream",
     "text": [
      "\n",
      "Photon Flux:  24.758399542 \t photons s^-1 cm^-2\n",
      "Energy Flux:  1.288554146e-05 \t ergs s^-1 cm^-2\n",
      "\n"
     ]
    }
   ],
   "source": [
    "Flux_Ph = integrate.quad(pl, emin, emax, limit=100)[0]\n",
    "Flux_En = integrate.quad(epl, emin, emax, limit=100)[0] * keVtoerg\n",
    "\n",
    "print(\n",
    "'''\n",
    "Photon Flux:  %.9f \\t photons s^-1 cm^-2\n",
    "Energy Flux:  %.9e \\t ergs s^-1 cm^-2\n",
    "'''%(Flux_Ph, Flux_En))"
   ]
  },
  {
   "cell_type": "markdown",
   "metadata": {},
   "source": [
    "### If you don't want to call the parameters from inside the function, you can do this:"
   ]
  },
  {
   "cell_type": "code",
   "execution_count": 11,
   "metadata": {
    "collapsed": true
   },
   "outputs": [],
   "source": [
    "def pl(energy, *args):\n",
    "    '''\n",
    "    Integrating this function will provide the Integrated Photon Flux.\n",
    "    \n",
    "    '''\n",
    "    plIdx, N = args\n",
    "    eng = energy\n",
    "    return N * ((eng/100.0)**plIdx)\n",
    "\n",
    "\n",
    "def epl(energy, *args):\n",
    "    '''\n",
    "    Integrating this function will provide the Integrated Energy Flux.\n",
    "    Must Convert from keV to ergs after integration.\n",
    "    '''\n",
    "    plIdx, N = args\n",
    "    eng = energy\n",
    "    return eng * pl(eng, *args)"
   ]
  },
  {
   "cell_type": "code",
   "execution_count": 12,
   "metadata": {
    "collapsed": false
   },
   "outputs": [
    {
     "name": "stdout",
     "output_type": "stream",
     "text": [
      "\n",
      "Photon Flux:  24.758399542 \t photons s^-1 cm^-2\n",
      "Energy Flux:  1.288554146e-05 \t ergs s^-1 cm^-2\n",
      "\n"
     ]
    }
   ],
   "source": [
    "pars = [-1.492, 4.05928592E-02]\n",
    "\n",
    "Flux_Ph = integrate.quad(pl, emin, emax, args=tuple(pars), limit=100)[0]\n",
    "Flux_En = integrate.quad(epl, emin, emax, args=tuple(pars), limit=100)[0] * keVtoerg\n",
    "\n",
    "print(\n",
    "'''\n",
    "Photon Flux:  %.9f \\t photons s^-1 cm^-2\n",
    "Energy Flux:  %.9e \\t ergs s^-1 cm^-2\n",
    "'''%(Flux_Ph, Flux_En))"
   ]
  }
 ],
 "metadata": {
  "kernelspec": {
   "display_name": "Python 2",
   "language": "python",
   "name": "python2"
  },
  "language_info": {
   "codemirror_mode": {
    "name": "ipython",
    "version": 2
   },
   "file_extension": ".py",
   "mimetype": "text/x-python",
   "name": "python",
   "nbconvert_exporter": "python",
   "pygments_lexer": "ipython2",
   "version": "2.7.12"
  }
 },
 "nbformat": 4,
 "nbformat_minor": 0
}
