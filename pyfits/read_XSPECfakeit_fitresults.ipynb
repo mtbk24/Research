{
 "cells": [
  {
   "cell_type": "markdown",
   "metadata": {},
   "source": [
    "# Read the XSPEC program's fakeit fitting results.\n",
    "\n",
    "This file holds 10,000 sets of parameter results for the 10,000 sets of synthetic data sets that XSPEC fakeit produced and then fit with the Band function.\n",
    "\n",
    "These results are for GRB 080916C for its GBM and LAT combined data analysis.  \n",
    "We can find the 1-sigma error bars on each parameter by plotting the parameter distributions and then finding the one-sided gaussian equivalent confidence intervals. "
   ]
  },
  {
   "cell_type": "code",
   "execution_count": 1,
   "metadata": {
    "collapsed": true
   },
   "outputs": [],
   "source": [
    "from __future__ import division\n",
    "import os\n",
    "import numpy as np\n",
    "import pandas as pd\n",
    "from collections import OrderedDict\n",
    "from astropy.io import fits as pyfits\n",
    "import json"
   ]
  },
  {
   "cell_type": "code",
   "execution_count": 2,
   "metadata": {
    "collapsed": true
   },
   "outputs": [],
   "source": [
    "burst        = 'bn080916009'\n",
    "modName      = 'grbm'\n",
    "version      = '-01-'\n",
    "det          = 'L'\n",
    "detdir       = ('GBMwLAT' if 'L' in det else 'GBM')\n",
    "\n",
    "data_dir = \"/Users/KimiZ/GRBs2/analysis/LAT/%s/integrated/\"%burst\n",
    "mod_dir  = \"/Users/KimiZ/GRBs2/analysis/LAT/%s/PYXSPEC/%s/%s/\"%(burst, detdir, modName)\n",
    "\n",
    "filename = os.path.join(mod_dir, \"fakeit_fitresults_%s_%s_%s_.fit\"%(modName, version, det))\n",
    "\n",
    "if os.path.exists(filename):\n",
    "    pass\n",
    "else:\n",
    "    raise Exception, \"File does not exist.\""
   ]
  },
  {
   "cell_type": "code",
   "execution_count": 3,
   "metadata": {
    "collapsed": false
   },
   "outputs": [
    {
     "data": {
      "text/plain": [
       "['alpha', 'beta', 'tem', 'norm']"
      ]
     },
     "execution_count": 3,
     "metadata": {},
     "output_type": "execute_result"
    }
   ],
   "source": [
    "# GET PARAMETER NAMES FOR THE MODEL BEING USED.\n",
    "# STORED IN A JSON FILE.\n",
    "\n",
    "def get_ParNames(model):\n",
    "    '''\n",
    "    Given a model name, it will return the parameter names of the model.\n",
    "    See file 'ParameterNames.json in the $PYX/Analysis/ directory.\n",
    "    '\n",
    "    '''\n",
    "    fname   = \"/Users/KimiZ/GRBs2/analysis/pyxspec_programs/Analysis/ParameterNames.json\"\n",
    "    f       = json.load(open(fname, 'r'), encoding='utf-8')\n",
    "    names   = f[model] # DICTIONARY OF PARAMETERS\n",
    "    names   = [str(i) for i in names]\n",
    "    return names\n",
    "\n",
    "Pars = get_ParNames(modName)\n",
    "Pars"
   ]
  },
  {
   "cell_type": "code",
   "execution_count": 4,
   "metadata": {
    "collapsed": true
   },
   "outputs": [],
   "source": [
    "# OPEN FITS FILE\n",
    "f = pyfits.open(filename)"
   ]
  },
  {
   "cell_type": "code",
   "execution_count": 5,
   "metadata": {
    "collapsed": false
   },
   "outputs": [
    {
     "data": {
      "text/plain": [
       "rec.array([ (-1.0343088968086347, -2.1863291992389478, 518.25167315620536, 0.017422771588835789, 380, 376, 398.40978291886495, -199.20489145943247, 406.40978291886495, 422.17046792974668),\n",
       " (-1.0268620098020422, -2.2089298450948061, 526.11124683415017, 0.017560621907015645, 380, 376, 376.25528942895107, -188.12764471447554, 384.25528942895107, 400.0159744398328),\n",
       " (-1.0185897883645765, -2.1797242349890396, 487.36836637436897, 0.017846813418616245, 380, 376, 396.59519216449735, -198.29759608224867, 404.59519216449735, 420.35587717537908),\n",
       " ...,\n",
       " (-1.035036087796446, -2.2093421436214431, 543.03671053660969, 0.017483418643133079, 380, 376, 401.5904362629978, -200.7952181314989, 409.5904362629978, 425.35112127387953),\n",
       " (-1.0595351887321625, -2.2194470675939546, 612.22089368846741, 0.016856968183887679, 380, 376, 365.86744277008842, -182.93372138504421, 373.86744277008842, 389.62812778097015),\n",
       " (-1.0293266535168215, -2.1838409146379671, 502.95446222293236, 0.017719575810905094, 380, 376, 380.71743035113712, -190.35871517556856, 388.71743035113712, 404.47811536201885)], \n",
       "          dtype=[('PARAM1', '>f8'), ('PARAM2', '>f8'), ('PARAM3', '>f8'), ('PARAM4', '>f8'), ('NDATA', '>i2'), ('DOF', '>i2'), ('CSTAT', '>f8'), ('LOGLIKE', '>f8'), ('AIC', '>f8'), ('BIC', '>f8')])"
      ]
     },
     "execution_count": 5,
     "metadata": {},
     "output_type": "execute_result"
    }
   ],
   "source": [
    "f[1].data"
   ]
  },
  {
   "cell_type": "code",
   "execution_count": 6,
   "metadata": {
    "collapsed": false
   },
   "outputs": [
    {
     "data": {
      "text/plain": [
       "ColDefs(\n",
       "    name = 'PARAM1'; format = '1D'\n",
       "    name = 'PARAM2'; format = '1D'\n",
       "    name = 'PARAM3'; format = '1D'\n",
       "    name = 'PARAM4'; format = '1D'\n",
       "    name = 'NDATA'; format = '1I'\n",
       "    name = 'DOF'; format = '1I'\n",
       "    name = 'CSTAT'; format = '1D'\n",
       "    name = 'LOGLIKE'; format = '1D'\n",
       "    name = 'AIC'; format = '1D'\n",
       "    name = 'BIC'; format = '1D'\n",
       ")"
      ]
     },
     "execution_count": 6,
     "metadata": {},
     "output_type": "execute_result"
    }
   ],
   "source": [
    "f[1].data.columns"
   ]
  },
  {
   "cell_type": "code",
   "execution_count": 7,
   "metadata": {
    "collapsed": true
   },
   "outputs": [],
   "source": [
    "# put data into a panda dataframe \n",
    "\n",
    "\n",
    "data = pd.DataFrame()\n",
    "for i,name in enumerate(f[1].data.columns.names):\n",
    "    if 'PARAM' in name:\n",
    "        data[\"%s__%i\"%(Pars[i],i+1)] = f[1].data[name]\n",
    "    else:\n",
    "        data[name] = f[1].data[name]"
   ]
  },
  {
   "cell_type": "code",
   "execution_count": 8,
   "metadata": {
    "collapsed": false
   },
   "outputs": [
    {
     "data": {
      "text/plain": [
       "alpha__1    >f8\n",
       "beta__2     >f8\n",
       "tem__3      >f8\n",
       "norm__4     >f8\n",
       "NDATA       >i2\n",
       "DOF         >i2\n",
       "CSTAT       >f8\n",
       "LOGLIKE     >f8\n",
       "AIC         >f8\n",
       "BIC         >f8\n",
       "dtype: object"
      ]
     },
     "execution_count": 8,
     "metadata": {},
     "output_type": "execute_result"
    }
   ],
   "source": [
    "data.dtypes"
   ]
  },
  {
   "cell_type": "code",
   "execution_count": 9,
   "metadata": {
    "collapsed": false
   },
   "outputs": [],
   "source": [
    "for col in data.columns:\n",
    "    if 'f' in data[col].dtype.str:\n",
    "        data[col] = data[col].astype(float)\n",
    "    elif 'i' in data[col].dtype.str:\n",
    "        data[col] = data[col].astype(int)\n",
    "    else:\n",
    "        data[col] = data[col].astype(object)"
   ]
  },
  {
   "cell_type": "code",
   "execution_count": 10,
   "metadata": {
    "collapsed": false
   },
   "outputs": [
    {
     "data": {
      "text/plain": [
       "alpha__1    float64\n",
       "beta__2     float64\n",
       "tem__3      float64\n",
       "norm__4     float64\n",
       "NDATA         int64\n",
       "DOF           int64\n",
       "CSTAT       float64\n",
       "LOGLIKE     float64\n",
       "AIC         float64\n",
       "BIC         float64\n",
       "dtype: object"
      ]
     },
     "execution_count": 10,
     "metadata": {},
     "output_type": "execute_result"
    }
   ],
   "source": [
    "data.dtypes"
   ]
  },
  {
   "cell_type": "code",
   "execution_count": 11,
   "metadata": {
    "collapsed": false
   },
   "outputs": [
    {
     "data": {
      "text/html": [
       "<div>\n",
       "<table border=\"1\" class=\"dataframe\">\n",
       "  <thead>\n",
       "    <tr style=\"text-align: right;\">\n",
       "      <th></th>\n",
       "      <th>alpha__1</th>\n",
       "      <th>beta__2</th>\n",
       "      <th>tem__3</th>\n",
       "      <th>norm__4</th>\n",
       "    </tr>\n",
       "  </thead>\n",
       "  <tbody>\n",
       "    <tr>\n",
       "      <th>count</th>\n",
       "      <td>10000.000000</td>\n",
       "      <td>10000.000000</td>\n",
       "      <td>10000.000000</td>\n",
       "      <td>10000.000000</td>\n",
       "    </tr>\n",
       "    <tr>\n",
       "      <th>mean</th>\n",
       "      <td>-1.029481</td>\n",
       "      <td>-2.198826</td>\n",
       "      <td>529.275561</td>\n",
       "      <td>0.017533</td>\n",
       "    </tr>\n",
       "    <tr>\n",
       "      <th>std</th>\n",
       "      <td>0.019281</td>\n",
       "      <td>0.012208</td>\n",
       "      <td>44.877163</td>\n",
       "      <td>0.000452</td>\n",
       "    </tr>\n",
       "    <tr>\n",
       "      <th>min</th>\n",
       "      <td>-1.094060</td>\n",
       "      <td>-2.245450</td>\n",
       "      <td>387.944237</td>\n",
       "      <td>0.016040</td>\n",
       "    </tr>\n",
       "    <tr>\n",
       "      <th>25%</th>\n",
       "      <td>-1.042561</td>\n",
       "      <td>-2.206923</td>\n",
       "      <td>497.582049</td>\n",
       "      <td>0.017221</td>\n",
       "    </tr>\n",
       "    <tr>\n",
       "      <th>50%</th>\n",
       "      <td>-1.029867</td>\n",
       "      <td>-2.198529</td>\n",
       "      <td>526.894974</td>\n",
       "      <td>0.017517</td>\n",
       "    </tr>\n",
       "    <tr>\n",
       "      <th>75%</th>\n",
       "      <td>-1.016628</td>\n",
       "      <td>-2.190475</td>\n",
       "      <td>558.145240</td>\n",
       "      <td>0.017837</td>\n",
       "    </tr>\n",
       "    <tr>\n",
       "      <th>max</th>\n",
       "      <td>-0.937351</td>\n",
       "      <td>-2.156676</td>\n",
       "      <td>733.097632</td>\n",
       "      <td>0.019463</td>\n",
       "    </tr>\n",
       "  </tbody>\n",
       "</table>\n",
       "</div>"
      ],
      "text/plain": [
       "           alpha__1       beta__2        tem__3       norm__4\n",
       "count  10000.000000  10000.000000  10000.000000  10000.000000\n",
       "mean      -1.029481     -2.198826    529.275561      0.017533\n",
       "std        0.019281      0.012208     44.877163      0.000452\n",
       "min       -1.094060     -2.245450    387.944237      0.016040\n",
       "25%       -1.042561     -2.206923    497.582049      0.017221\n",
       "50%       -1.029867     -2.198529    526.894974      0.017517\n",
       "75%       -1.016628     -2.190475    558.145240      0.017837\n",
       "max       -0.937351     -2.156676    733.097632      0.019463"
      ]
     },
     "execution_count": 11,
     "metadata": {},
     "output_type": "execute_result"
    }
   ],
   "source": [
    "data.loc[:, 'alpha__1':'norm__4'].describe()"
   ]
  },
  {
   "cell_type": "code",
   "execution_count": 12,
   "metadata": {
    "collapsed": false
   },
   "outputs": [
    {
     "data": {
      "text/html": [
       "<div>\n",
       "<table border=\"1\" class=\"dataframe\">\n",
       "  <thead>\n",
       "    <tr style=\"text-align: right;\">\n",
       "      <th></th>\n",
       "      <th>alpha__1</th>\n",
       "      <th>beta__2</th>\n",
       "      <th>tem__3</th>\n",
       "      <th>norm__4</th>\n",
       "      <th>NDATA</th>\n",
       "      <th>DOF</th>\n",
       "      <th>CSTAT</th>\n",
       "      <th>LOGLIKE</th>\n",
       "      <th>AIC</th>\n",
       "      <th>BIC</th>\n",
       "    </tr>\n",
       "  </thead>\n",
       "  <tbody>\n",
       "    <tr>\n",
       "      <th>0</th>\n",
       "      <td>-1.034309</td>\n",
       "      <td>-2.186329</td>\n",
       "      <td>518.251673</td>\n",
       "      <td>0.017423</td>\n",
       "      <td>380</td>\n",
       "      <td>376</td>\n",
       "      <td>398.409783</td>\n",
       "      <td>-199.204891</td>\n",
       "      <td>406.409783</td>\n",
       "      <td>422.170468</td>\n",
       "    </tr>\n",
       "    <tr>\n",
       "      <th>1</th>\n",
       "      <td>-1.026862</td>\n",
       "      <td>-2.208930</td>\n",
       "      <td>526.111247</td>\n",
       "      <td>0.017561</td>\n",
       "      <td>380</td>\n",
       "      <td>376</td>\n",
       "      <td>376.255289</td>\n",
       "      <td>-188.127645</td>\n",
       "      <td>384.255289</td>\n",
       "      <td>400.015974</td>\n",
       "    </tr>\n",
       "    <tr>\n",
       "      <th>2</th>\n",
       "      <td>-1.018590</td>\n",
       "      <td>-2.179724</td>\n",
       "      <td>487.368366</td>\n",
       "      <td>0.017847</td>\n",
       "      <td>380</td>\n",
       "      <td>376</td>\n",
       "      <td>396.595192</td>\n",
       "      <td>-198.297596</td>\n",
       "      <td>404.595192</td>\n",
       "      <td>420.355877</td>\n",
       "    </tr>\n",
       "    <tr>\n",
       "      <th>3</th>\n",
       "      <td>-1.025784</td>\n",
       "      <td>-2.200338</td>\n",
       "      <td>521.443331</td>\n",
       "      <td>0.017746</td>\n",
       "      <td>380</td>\n",
       "      <td>376</td>\n",
       "      <td>338.583193</td>\n",
       "      <td>-169.291597</td>\n",
       "      <td>346.583193</td>\n",
       "      <td>362.343878</td>\n",
       "    </tr>\n",
       "    <tr>\n",
       "      <th>4</th>\n",
       "      <td>-1.039200</td>\n",
       "      <td>-2.205553</td>\n",
       "      <td>574.771565</td>\n",
       "      <td>0.017148</td>\n",
       "      <td>380</td>\n",
       "      <td>376</td>\n",
       "      <td>348.633210</td>\n",
       "      <td>-174.316605</td>\n",
       "      <td>356.633210</td>\n",
       "      <td>372.393895</td>\n",
       "    </tr>\n",
       "  </tbody>\n",
       "</table>\n",
       "</div>"
      ],
      "text/plain": [
       "   alpha__1   beta__2      tem__3   norm__4  NDATA  DOF       CSTAT  \\\n",
       "0 -1.034309 -2.186329  518.251673  0.017423    380  376  398.409783   \n",
       "1 -1.026862 -2.208930  526.111247  0.017561    380  376  376.255289   \n",
       "2 -1.018590 -2.179724  487.368366  0.017847    380  376  396.595192   \n",
       "3 -1.025784 -2.200338  521.443331  0.017746    380  376  338.583193   \n",
       "4 -1.039200 -2.205553  574.771565  0.017148    380  376  348.633210   \n",
       "\n",
       "      LOGLIKE         AIC         BIC  \n",
       "0 -199.204891  406.409783  422.170468  \n",
       "1 -188.127645  384.255289  400.015974  \n",
       "2 -198.297596  404.595192  420.355877  \n",
       "3 -169.291597  346.583193  362.343878  \n",
       "4 -174.316605  356.633210  372.393895  "
      ]
     },
     "execution_count": 12,
     "metadata": {},
     "output_type": "execute_result"
    }
   ],
   "source": [
    "data.head()"
   ]
  },
  {
   "cell_type": "markdown",
   "metadata": {},
   "source": [
    "# Distribution of Parameters only."
   ]
  },
  {
   "cell_type": "code",
   "execution_count": 13,
   "metadata": {
    "collapsed": false
   },
   "outputs": [
    {
     "data": {
      "text/html": [
       "<div>\n",
       "<table border=\"1\" class=\"dataframe\">\n",
       "  <thead>\n",
       "    <tr style=\"text-align: right;\">\n",
       "      <th></th>\n",
       "      <th>alpha__1</th>\n",
       "      <th>beta__2</th>\n",
       "      <th>tem__3</th>\n",
       "      <th>norm__4</th>\n",
       "    </tr>\n",
       "  </thead>\n",
       "  <tbody>\n",
       "    <tr>\n",
       "      <th>0</th>\n",
       "      <td>-1.034309</td>\n",
       "      <td>-2.186329</td>\n",
       "      <td>518.251673</td>\n",
       "      <td>0.017423</td>\n",
       "    </tr>\n",
       "    <tr>\n",
       "      <th>1</th>\n",
       "      <td>-1.026862</td>\n",
       "      <td>-2.208930</td>\n",
       "      <td>526.111247</td>\n",
       "      <td>0.017561</td>\n",
       "    </tr>\n",
       "    <tr>\n",
       "      <th>2</th>\n",
       "      <td>-1.018590</td>\n",
       "      <td>-2.179724</td>\n",
       "      <td>487.368366</td>\n",
       "      <td>0.017847</td>\n",
       "    </tr>\n",
       "    <tr>\n",
       "      <th>3</th>\n",
       "      <td>-1.025784</td>\n",
       "      <td>-2.200338</td>\n",
       "      <td>521.443331</td>\n",
       "      <td>0.017746</td>\n",
       "    </tr>\n",
       "    <tr>\n",
       "      <th>4</th>\n",
       "      <td>-1.039200</td>\n",
       "      <td>-2.205553</td>\n",
       "      <td>574.771565</td>\n",
       "      <td>0.017148</td>\n",
       "    </tr>\n",
       "  </tbody>\n",
       "</table>\n",
       "</div>"
      ],
      "text/plain": [
       "   alpha__1   beta__2      tem__3   norm__4\n",
       "0 -1.034309 -2.186329  518.251673  0.017423\n",
       "1 -1.026862 -2.208930  526.111247  0.017561\n",
       "2 -1.018590 -2.179724  487.368366  0.017847\n",
       "3 -1.025784 -2.200338  521.443331  0.017746\n",
       "4 -1.039200 -2.205553  574.771565  0.017148"
      ]
     },
     "execution_count": 13,
     "metadata": {},
     "output_type": "execute_result"
    }
   ],
   "source": [
    "data.loc[:, 'alpha__1':'norm__4'].head()"
   ]
  },
  {
   "cell_type": "code",
   "execution_count": 14,
   "metadata": {
    "collapsed": false
   },
   "outputs": [
    {
     "data": {
      "text/html": [
       "<div>\n",
       "<table border=\"1\" class=\"dataframe\">\n",
       "  <thead>\n",
       "    <tr style=\"text-align: right;\">\n",
       "      <th></th>\n",
       "      <th>alpha__1</th>\n",
       "      <th>beta__2</th>\n",
       "      <th>tem__3</th>\n",
       "      <th>norm__4</th>\n",
       "    </tr>\n",
       "  </thead>\n",
       "  <tbody>\n",
       "    <tr>\n",
       "      <th>count</th>\n",
       "      <td>10000.000000</td>\n",
       "      <td>10000.000000</td>\n",
       "      <td>10000.000000</td>\n",
       "      <td>10000.000000</td>\n",
       "    </tr>\n",
       "    <tr>\n",
       "      <th>mean</th>\n",
       "      <td>-1.029481</td>\n",
       "      <td>-2.198826</td>\n",
       "      <td>529.275561</td>\n",
       "      <td>0.017533</td>\n",
       "    </tr>\n",
       "    <tr>\n",
       "      <th>std</th>\n",
       "      <td>0.019281</td>\n",
       "      <td>0.012208</td>\n",
       "      <td>44.877163</td>\n",
       "      <td>0.000452</td>\n",
       "    </tr>\n",
       "    <tr>\n",
       "      <th>min</th>\n",
       "      <td>-1.094060</td>\n",
       "      <td>-2.245450</td>\n",
       "      <td>387.944237</td>\n",
       "      <td>0.016040</td>\n",
       "    </tr>\n",
       "    <tr>\n",
       "      <th>25%</th>\n",
       "      <td>-1.042561</td>\n",
       "      <td>-2.206923</td>\n",
       "      <td>497.582049</td>\n",
       "      <td>0.017221</td>\n",
       "    </tr>\n",
       "    <tr>\n",
       "      <th>50%</th>\n",
       "      <td>-1.029867</td>\n",
       "      <td>-2.198529</td>\n",
       "      <td>526.894974</td>\n",
       "      <td>0.017517</td>\n",
       "    </tr>\n",
       "    <tr>\n",
       "      <th>75%</th>\n",
       "      <td>-1.016628</td>\n",
       "      <td>-2.190475</td>\n",
       "      <td>558.145240</td>\n",
       "      <td>0.017837</td>\n",
       "    </tr>\n",
       "    <tr>\n",
       "      <th>max</th>\n",
       "      <td>-0.937351</td>\n",
       "      <td>-2.156676</td>\n",
       "      <td>733.097632</td>\n",
       "      <td>0.019463</td>\n",
       "    </tr>\n",
       "  </tbody>\n",
       "</table>\n",
       "</div>"
      ],
      "text/plain": [
       "           alpha__1       beta__2        tem__3       norm__4\n",
       "count  10000.000000  10000.000000  10000.000000  10000.000000\n",
       "mean      -1.029481     -2.198826    529.275561      0.017533\n",
       "std        0.019281      0.012208     44.877163      0.000452\n",
       "min       -1.094060     -2.245450    387.944237      0.016040\n",
       "25%       -1.042561     -2.206923    497.582049      0.017221\n",
       "50%       -1.029867     -2.198529    526.894974      0.017517\n",
       "75%       -1.016628     -2.190475    558.145240      0.017837\n",
       "max       -0.937351     -2.156676    733.097632      0.019463"
      ]
     },
     "execution_count": 14,
     "metadata": {},
     "output_type": "execute_result"
    }
   ],
   "source": [
    "data.loc[:, 'alpha__1':'norm__4'].describe()"
   ]
  },
  {
   "cell_type": "markdown",
   "metadata": {},
   "source": [
    "Lets make a new dataframe of parameters so they are easier to handle. "
   ]
  },
  {
   "cell_type": "code",
   "execution_count": 15,
   "metadata": {
    "collapsed": true
   },
   "outputs": [],
   "source": [
    "pars = data.loc[:, 'alpha__1':'norm__4']"
   ]
  },
  {
   "cell_type": "code",
   "execution_count": 16,
   "metadata": {
    "collapsed": false
   },
   "outputs": [
    {
     "data": {
      "text/html": [
       "<div>\n",
       "<table border=\"1\" class=\"dataframe\">\n",
       "  <thead>\n",
       "    <tr style=\"text-align: right;\">\n",
       "      <th></th>\n",
       "      <th>alpha__1</th>\n",
       "      <th>beta__2</th>\n",
       "      <th>tem__3</th>\n",
       "      <th>norm__4</th>\n",
       "    </tr>\n",
       "  </thead>\n",
       "  <tbody>\n",
       "    <tr>\n",
       "      <th>count</th>\n",
       "      <td>10000.000000</td>\n",
       "      <td>10000.000000</td>\n",
       "      <td>10000.000000</td>\n",
       "      <td>10000.000000</td>\n",
       "    </tr>\n",
       "    <tr>\n",
       "      <th>mean</th>\n",
       "      <td>-1.029481</td>\n",
       "      <td>-2.198826</td>\n",
       "      <td>529.275561</td>\n",
       "      <td>0.017533</td>\n",
       "    </tr>\n",
       "    <tr>\n",
       "      <th>std</th>\n",
       "      <td>0.019281</td>\n",
       "      <td>0.012208</td>\n",
       "      <td>44.877163</td>\n",
       "      <td>0.000452</td>\n",
       "    </tr>\n",
       "    <tr>\n",
       "      <th>min</th>\n",
       "      <td>-1.094060</td>\n",
       "      <td>-2.245450</td>\n",
       "      <td>387.944237</td>\n",
       "      <td>0.016040</td>\n",
       "    </tr>\n",
       "    <tr>\n",
       "      <th>25%</th>\n",
       "      <td>-1.042561</td>\n",
       "      <td>-2.206923</td>\n",
       "      <td>497.582049</td>\n",
       "      <td>0.017221</td>\n",
       "    </tr>\n",
       "    <tr>\n",
       "      <th>50%</th>\n",
       "      <td>-1.029867</td>\n",
       "      <td>-2.198529</td>\n",
       "      <td>526.894974</td>\n",
       "      <td>0.017517</td>\n",
       "    </tr>\n",
       "    <tr>\n",
       "      <th>75%</th>\n",
       "      <td>-1.016628</td>\n",
       "      <td>-2.190475</td>\n",
       "      <td>558.145240</td>\n",
       "      <td>0.017837</td>\n",
       "    </tr>\n",
       "    <tr>\n",
       "      <th>max</th>\n",
       "      <td>-0.937351</td>\n",
       "      <td>-2.156676</td>\n",
       "      <td>733.097632</td>\n",
       "      <td>0.019463</td>\n",
       "    </tr>\n",
       "  </tbody>\n",
       "</table>\n",
       "</div>"
      ],
      "text/plain": [
       "           alpha__1       beta__2        tem__3       norm__4\n",
       "count  10000.000000  10000.000000  10000.000000  10000.000000\n",
       "mean      -1.029481     -2.198826    529.275561      0.017533\n",
       "std        0.019281      0.012208     44.877163      0.000452\n",
       "min       -1.094060     -2.245450    387.944237      0.016040\n",
       "25%       -1.042561     -2.206923    497.582049      0.017221\n",
       "50%       -1.029867     -2.198529    526.894974      0.017517\n",
       "75%       -1.016628     -2.190475    558.145240      0.017837\n",
       "max       -0.937351     -2.156676    733.097632      0.019463"
      ]
     },
     "execution_count": 16,
     "metadata": {},
     "output_type": "execute_result"
    }
   ],
   "source": [
    "pars.describe()"
   ]
  },
  {
   "cell_type": "code",
   "execution_count": 17,
   "metadata": {
    "collapsed": true
   },
   "outputs": [],
   "source": [
    "?pars.quantile"
   ]
  },
  {
   "cell_type": "code",
   "execution_count": 18,
   "metadata": {
    "collapsed": false
   },
   "outputs": [
    {
     "data": {
      "text/html": [
       "<div>\n",
       "<table border=\"1\" class=\"dataframe\">\n",
       "  <thead>\n",
       "    <tr style=\"text-align: right;\">\n",
       "      <th></th>\n",
       "      <th>alpha__1</th>\n",
       "      <th>beta__2</th>\n",
       "      <th>tem__3</th>\n",
       "      <th>norm__4</th>\n",
       "    </tr>\n",
       "  </thead>\n",
       "  <tbody>\n",
       "    <tr>\n",
       "      <th>0.25</th>\n",
       "      <td>-1.042561</td>\n",
       "      <td>-2.206923</td>\n",
       "      <td>497.582049</td>\n",
       "      <td>0.017221</td>\n",
       "    </tr>\n",
       "    <tr>\n",
       "      <th>0.50</th>\n",
       "      <td>-1.029867</td>\n",
       "      <td>-2.198529</td>\n",
       "      <td>526.894974</td>\n",
       "      <td>0.017517</td>\n",
       "    </tr>\n",
       "    <tr>\n",
       "      <th>0.75</th>\n",
       "      <td>-1.016628</td>\n",
       "      <td>-2.190475</td>\n",
       "      <td>558.145240</td>\n",
       "      <td>0.017837</td>\n",
       "    </tr>\n",
       "  </tbody>\n",
       "</table>\n",
       "</div>"
      ],
      "text/plain": [
       "      alpha__1   beta__2      tem__3   norm__4\n",
       "0.25 -1.042561 -2.206923  497.582049  0.017221\n",
       "0.50 -1.029867 -2.198529  526.894974  0.017517\n",
       "0.75 -1.016628 -2.190475  558.145240  0.017837"
      ]
     },
     "execution_count": 18,
     "metadata": {},
     "output_type": "execute_result"
    }
   ],
   "source": [
    "# these quantiles should match those above in .describe()\n",
    "pars.quantile(q = [.25, .50, .75], interpolation='linear')"
   ]
  },
  {
   "cell_type": "code",
   "execution_count": 19,
   "metadata": {
    "collapsed": false
   },
   "outputs": [
    {
     "data": {
      "text/html": [
       "<div>\n",
       "<table border=\"1\" class=\"dataframe\">\n",
       "  <thead>\n",
       "    <tr style=\"text-align: right;\">\n",
       "      <th></th>\n",
       "      <th>alpha__1</th>\n",
       "      <th>beta__2</th>\n",
       "      <th>tem__3</th>\n",
       "      <th>norm__4</th>\n",
       "    </tr>\n",
       "  </thead>\n",
       "  <tbody>\n",
       "    <tr>\n",
       "      <th>0.15865</th>\n",
       "      <td>-1.048789</td>\n",
       "      <td>-2.211207</td>\n",
       "      <td>484.433759</td>\n",
       "      <td>0.017085</td>\n",
       "    </tr>\n",
       "    <tr>\n",
       "      <th>0.50000</th>\n",
       "      <td>-1.029867</td>\n",
       "      <td>-2.198529</td>\n",
       "      <td>526.894974</td>\n",
       "      <td>0.017517</td>\n",
       "    </tr>\n",
       "    <tr>\n",
       "      <th>0.84135</th>\n",
       "      <td>-1.010152</td>\n",
       "      <td>-2.186547</td>\n",
       "      <td>574.010261</td>\n",
       "      <td>0.017991</td>\n",
       "    </tr>\n",
       "  </tbody>\n",
       "</table>\n",
       "</div>"
      ],
      "text/plain": [
       "         alpha__1   beta__2      tem__3   norm__4\n",
       "0.15865 -1.048789 -2.211207  484.433759  0.017085\n",
       "0.50000 -1.029867 -2.198529  526.894974  0.017517\n",
       "0.84135 -1.010152 -2.186547  574.010261  0.017991"
      ]
     },
     "execution_count": 19,
     "metadata": {},
     "output_type": "execute_result"
    }
   ],
   "source": [
    "# 1-sigma are quantiles \n",
    "pars.quantile(q = [.15865, .50, .84135], interpolation='linear')"
   ]
  },
  {
   "cell_type": "code",
   "execution_count": 20,
   "metadata": {
    "collapsed": true
   },
   "outputs": [],
   "source": [
    "%matplotlib inline"
   ]
  },
  {
   "cell_type": "code",
   "execution_count": 21,
   "metadata": {
    "collapsed": false
   },
   "outputs": [
    {
     "data": {
      "text/plain": [
       "<matplotlib.axes._subplots.AxesSubplot at 0x10d6f66d0>"
      ]
     },
     "execution_count": 21,
     "metadata": {},
     "output_type": "execute_result"
    },
    {
     "data": {
      "image/png": "[encoded data removed]",
      "text/plain": [
       "<matplotlib.figure.Figure at 0x10e3b3d10>"
      ]
     },
     "metadata": {},
     "output_type": "display_data"
    }
   ],
   "source": [
    "pars.alpha__1.plot(kind='hist', bins=50)"
   ]
  },
  {
   "cell_type": "code",
   "execution_count": 22,
   "metadata": {
    "collapsed": false
   },
   "outputs": [
    {
     "data": {
      "text/plain": [
       "<matplotlib.axes._subplots.AxesSubplot at 0x10e3b3c50>"
      ]
     },
     "execution_count": 22,
     "metadata": {},
     "output_type": "execute_result"
    },
    {
     "data": {
      "image/png": "[encoded data removed]",
      "text/plain": [
       "<matplotlib.figure.Figure at 0x10e3b3d90>"
      ]
     },
     "metadata": {},
     "output_type": "display_data"
    }
   ],
   "source": [
    "pars.beta__2.plot(kind='hist', bins=50)"
   ]
  },
  {
   "cell_type": "code",
   "execution_count": 23,
   "metadata": {
    "collapsed": false
   },
   "outputs": [
    {
     "data": {
      "text/plain": [
       "<matplotlib.axes._subplots.AxesSubplot at 0x10e3b3fd0>"
      ]
     },
     "execution_count": 23,
     "metadata": {},
     "output_type": "execute_result"
    },
    {
     "data": {
      "image/png": "[encoded data removed]",
      "text/plain": [
       "<matplotlib.figure.Figure at 0x10e52e510>"
      ]
     },
     "metadata": {},
     "output_type": "display_data"
    }
   ],
   "source": [
    "pars.tem__3.plot(kind='hist', bins=50)"
   ]
  },
  {
   "cell_type": "code",
   "execution_count": 24,
   "metadata": {
    "collapsed": false
   },
   "outputs": [
    {
     "data": {
      "text/plain": [
       "<matplotlib.axes._subplots.AxesSubplot at 0x10e561450>"
      ]
     },
     "execution_count": 24,
     "metadata": {},
     "output_type": "execute_result"
    },
    {
     "data": {
      "image/png": "[encoded data removed]",
      "text/plain": [
       "<matplotlib.figure.Figure at 0x10d6f6790>"
      ]
     },
     "metadata": {},
     "output_type": "display_data"
    }
   ],
   "source": [
    "pars.norm__4.plot(kind='hist', bins=50)"
   ]
  },
  {
   "cell_type": "code",
   "execution_count": null,
   "metadata": {
    "collapsed": true
   },
   "outputs": [],
   "source": []
  }
 ],
 "metadata": {
  "kernelspec": {
   "display_name": "Python 2",
   "language": "python",
   "name": "python2"
  },
  "language_info": {
   "codemirror_mode": {
    "name": "ipython",
    "version": 2
   },
   "file_extension": ".py",
   "mimetype": "text/x-python",
   "name": "python",
   "nbconvert_exporter": "python",
   "pygments_lexer": "ipython2",
   "version": "2.7.11"
  }
 },
 "nbformat": 4,
 "nbformat_minor": 0
}
