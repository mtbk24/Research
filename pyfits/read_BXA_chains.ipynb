{
 "cells": [
  {
   "cell_type": "markdown",
   "metadata": {},
   "source": [
    "This file holds the results from the bxa fitting process.  It holds the best fit parameters based on the Multinest algorithm use of the Maximum Likelihood.  Holds best fit parameters, errors, and statistics."
   ]
  },
  {
   "cell_type": "markdown",
   "metadata": {},
   "source": [
    "For the 'PARAM' lists, the values are as in the following order:\n",
    "    - best-fit parameter\n",
    "    - 1-sigma lower\n",
    "    - 1-sigma upper\n",
    "    - 2-sigma lower\n",
    "    - 2-sigma upper\n",
    "    - 3-sigma lower\n",
    "    - 3-sigma upper"
   ]
  },
  {
   "cell_type": "code",
   "execution_count": 6,
   "metadata": {
    "collapsed": true
   },
   "outputs": [],
   "source": [
    "from __future__ import division\n",
    "import os\n",
    "import numpy as np\n",
    "import pandas as pd\n",
    "from collections import OrderedDict\n",
    "from astropy.io import fits as pyfits\n",
    "import json\n",
    "%matplotlib inline"
   ]
  },
  {
   "cell_type": "code",
   "execution_count": 7,
   "metadata": {
    "collapsed": true
   },
   "outputs": [],
   "source": [
    "burst        = 'bn080916009'\n",
    "modName      = 'grbm'\n",
    "version      = '-01-'\n",
    "det          = 'L'\n",
    "detdir       = ('GBMwLAT' if 'L' in det else 'GBM')\n",
    "\n",
    "\n",
    "data_dir = \"/Users/KimiZ/GRBs2/analysis/LAT/%s/integrated/\"%burst\n",
    "mod_dir = \"/Users/KimiZ/GRBs2/analysis/LAT/%s/BXA/%s/%s/\"%(burst, detdir, modName)\n",
    "\n",
    "filename = os.path.join(mod_dir, \"%s_%s_%s_chain.fits\"%(modName, version, det))\n",
    "\n",
    "if os.path.exists(filename):\n",
    "    pass\n",
    "else:\n",
    "    raise Exception, \"File does not exist.\""
   ]
  },
  {
   "cell_type": "code",
   "execution_count": 8,
   "metadata": {
    "collapsed": true
   },
   "outputs": [],
   "source": [
    "# OPEN FILE\n",
    "f          = pyfits.open(filename)"
   ]
  },
  {
   "cell_type": "code",
   "execution_count": 9,
   "metadata": {
    "collapsed": false
   },
   "outputs": [],
   "source": [
    "f1 = f[1]"
   ]
  },
  {
   "cell_type": "code",
   "execution_count": 10,
   "metadata": {
    "collapsed": false
   },
   "outputs": [
    {
     "data": {
      "text/plain": [
       "XTENSION= 'BINTABLE'           / binary table extension                         \n",
       "BITPIX  =                    8 / array data type                                \n",
       "NAXIS   =                    2 / number of array dimensions                     \n",
       "NAXIS1  =                   40 / length of dimension 1                          \n",
       "NAXIS2  =                 3966 / length of dimension 2                          \n",
       "PCOUNT  =                    0 / number of group parameters                     \n",
       "GCOUNT  =                    1 / number of groups                               \n",
       "TFIELDS =                    5 / number of table fields                         \n",
       "TEMPR001=                  1.0                                                  \n",
       "STROW001=                    1                                                  \n",
       "TTYPE1  = 'alpha__1'                                                            \n",
       "TFORM1  = 'D       '                                                            \n",
       "TTYPE2  = 'beta__2 '                                                            \n",
       "TFORM2  = 'D       '                                                            \n",
       "TTYPE3  = 'tem__3  '                                                            \n",
       "TFORM3  = 'D       '                                                            \n",
       "TTYPE4  = 'norm__4 '                                                            \n",
       "TFORM4  = 'D       '                                                            \n",
       "TTYPE5  = 'FIT_STATISTIC'                                                       \n",
       "TFORM5  = 'D       '                                                            \n",
       "EXTNAME = 'CHAIN   '                                                            \n",
       "COMMENT Created by BXA (Bayesian X-ray spectal Analysis) for Xspec              \n",
       "COMMENT refer to https://github.com/JohannesBuchner/                            "
      ]
     },
     "execution_count": 10,
     "metadata": {},
     "output_type": "execute_result"
    }
   ],
   "source": [
    "f1.header"
   ]
  },
  {
   "cell_type": "code",
   "execution_count": 11,
   "metadata": {
    "collapsed": true
   },
   "outputs": [],
   "source": [
    "data      = pd.DataFrame()\n",
    "for n,name in enumerate(f[1].data.columns.names):\n",
    "    data[name]   = f[1].data[name]"
   ]
  },
  {
   "cell_type": "code",
   "execution_count": 12,
   "metadata": {
    "collapsed": false
   },
   "outputs": [
    {
     "data": {
      "text/plain": [
       "alpha__1         >f8\n",
       "beta__2          >f8\n",
       "tem__3           >f8\n",
       "norm__4          >f8\n",
       "FIT_STATISTIC    >f8\n",
       "dtype: object"
      ]
     },
     "execution_count": 12,
     "metadata": {},
     "output_type": "execute_result"
    }
   ],
   "source": [
    "data.dtypes"
   ]
  },
  {
   "cell_type": "code",
   "execution_count": 13,
   "metadata": {
    "collapsed": true
   },
   "outputs": [],
   "source": [
    "data   = data.astype('float64')"
   ]
  },
  {
   "cell_type": "code",
   "execution_count": 14,
   "metadata": {
    "collapsed": false
   },
   "outputs": [
    {
     "data": {
      "text/plain": [
       "alpha__1         float64\n",
       "beta__2          float64\n",
       "tem__3           float64\n",
       "norm__4          float64\n",
       "FIT_STATISTIC    float64\n",
       "dtype: object"
      ]
     },
     "execution_count": 14,
     "metadata": {},
     "output_type": "execute_result"
    }
   ],
   "source": [
    "data.dtypes"
   ]
  },
  {
   "cell_type": "code",
   "execution_count": 15,
   "metadata": {
    "collapsed": false
   },
   "outputs": [
    {
     "data": {
      "text/html": [
       "<div>\n",
       "<table border=\"1\" class=\"dataframe\">\n",
       "  <thead>\n",
       "    <tr style=\"text-align: right;\">\n",
       "      <th></th>\n",
       "      <th>alpha__1</th>\n",
       "      <th>beta__2</th>\n",
       "      <th>tem__3</th>\n",
       "      <th>norm__4</th>\n",
       "      <th>FIT_STATISTIC</th>\n",
       "    </tr>\n",
       "  </thead>\n",
       "  <tbody>\n",
       "    <tr>\n",
       "      <th>0</th>\n",
       "      <td>-0.968598</td>\n",
       "      <td>-2.150078</td>\n",
       "      <td>390.852617</td>\n",
       "      <td>0.019055</td>\n",
       "      <td>-166.125006</td>\n",
       "    </tr>\n",
       "    <tr>\n",
       "      <th>1</th>\n",
       "      <td>-1.089891</td>\n",
       "      <td>-2.229887</td>\n",
       "      <td>728.953035</td>\n",
       "      <td>0.016415</td>\n",
       "      <td>-166.120039</td>\n",
       "    </tr>\n",
       "    <tr>\n",
       "      <th>2</th>\n",
       "      <td>-1.078749</td>\n",
       "      <td>-2.194799</td>\n",
       "      <td>573.502486</td>\n",
       "      <td>0.017313</td>\n",
       "      <td>-166.019305</td>\n",
       "    </tr>\n",
       "    <tr>\n",
       "      <th>3</th>\n",
       "      <td>-0.988709</td>\n",
       "      <td>-2.163344</td>\n",
       "      <td>435.311161</td>\n",
       "      <td>0.018085</td>\n",
       "      <td>-165.620797</td>\n",
       "    </tr>\n",
       "    <tr>\n",
       "      <th>4</th>\n",
       "      <td>-0.960726</td>\n",
       "      <td>-2.151723</td>\n",
       "      <td>385.127119</td>\n",
       "      <td>0.019343</td>\n",
       "      <td>-165.539894</td>\n",
       "    </tr>\n",
       "  </tbody>\n",
       "</table>\n",
       "</div>"
      ],
      "text/plain": [
       "   alpha__1   beta__2      tem__3   norm__4  FIT_STATISTIC\n",
       "0 -0.968598 -2.150078  390.852617  0.019055    -166.125006\n",
       "1 -1.089891 -2.229887  728.953035  0.016415    -166.120039\n",
       "2 -1.078749 -2.194799  573.502486  0.017313    -166.019305\n",
       "3 -0.988709 -2.163344  435.311161  0.018085    -165.620797\n",
       "4 -0.960726 -2.151723  385.127119  0.019343    -165.539894"
      ]
     },
     "execution_count": 15,
     "metadata": {},
     "output_type": "execute_result"
    }
   ],
   "source": [
    "data.head()"
   ]
  },
  {
   "cell_type": "code",
   "execution_count": 16,
   "metadata": {
    "collapsed": false
   },
   "outputs": [
    {
     "data": {
      "text/plain": [
       "(3966, 5)"
      ]
     },
     "execution_count": 16,
     "metadata": {},
     "output_type": "execute_result"
    }
   ],
   "source": [
    "data.shape"
   ]
  },
  {
   "cell_type": "code",
   "execution_count": 17,
   "metadata": {
    "collapsed": false
   },
   "outputs": [
    {
     "data": {
      "text/html": [
       "<div>\n",
       "<table border=\"1\" class=\"dataframe\">\n",
       "  <thead>\n",
       "    <tr style=\"text-align: right;\">\n",
       "      <th></th>\n",
       "      <th>alpha__1</th>\n",
       "      <th>beta__2</th>\n",
       "      <th>tem__3</th>\n",
       "      <th>norm__4</th>\n",
       "      <th>FIT_STATISTIC</th>\n",
       "    </tr>\n",
       "  </thead>\n",
       "  <tbody>\n",
       "    <tr>\n",
       "      <th>count</th>\n",
       "      <td>3966.000000</td>\n",
       "      <td>3966.000000</td>\n",
       "      <td>3966.000000</td>\n",
       "      <td>3966.000000</td>\n",
       "      <td>3966.000000</td>\n",
       "    </tr>\n",
       "    <tr>\n",
       "      <th>mean</th>\n",
       "      <td>-1.030854</td>\n",
       "      <td>-2.199697</td>\n",
       "      <td>533.310478</td>\n",
       "      <td>0.017495</td>\n",
       "      <td>-157.734493</td>\n",
       "    </tr>\n",
       "    <tr>\n",
       "      <th>std</th>\n",
       "      <td>0.020252</td>\n",
       "      <td>0.012514</td>\n",
       "      <td>47.528082</td>\n",
       "      <td>0.000469</td>\n",
       "      <td>1.483195</td>\n",
       "    </tr>\n",
       "    <tr>\n",
       "      <th>min</th>\n",
       "      <td>-1.095308</td>\n",
       "      <td>-2.250688</td>\n",
       "      <td>385.127119</td>\n",
       "      <td>0.016064</td>\n",
       "      <td>-166.125006</td>\n",
       "    </tr>\n",
       "    <tr>\n",
       "      <th>25%</th>\n",
       "      <td>-1.044222</td>\n",
       "      <td>-2.207904</td>\n",
       "      <td>500.349968</td>\n",
       "      <td>0.017169</td>\n",
       "      <td>-158.496146</td>\n",
       "    </tr>\n",
       "    <tr>\n",
       "      <th>50%</th>\n",
       "      <td>-1.030950</td>\n",
       "      <td>-2.199172</td>\n",
       "      <td>529.967473</td>\n",
       "      <td>0.017489</td>\n",
       "      <td>-157.377105</td>\n",
       "    </tr>\n",
       "    <tr>\n",
       "      <th>75%</th>\n",
       "      <td>-1.017322</td>\n",
       "      <td>-2.191266</td>\n",
       "      <td>561.641019</td>\n",
       "      <td>0.017795</td>\n",
       "      <td>-156.631192</td>\n",
       "    </tr>\n",
       "    <tr>\n",
       "      <th>max</th>\n",
       "      <td>-0.960726</td>\n",
       "      <td>-2.150078</td>\n",
       "      <td>740.743156</td>\n",
       "      <td>0.019343</td>\n",
       "      <td>-155.670979</td>\n",
       "    </tr>\n",
       "  </tbody>\n",
       "</table>\n",
       "</div>"
      ],
      "text/plain": [
       "          alpha__1      beta__2       tem__3      norm__4  FIT_STATISTIC\n",
       "count  3966.000000  3966.000000  3966.000000  3966.000000    3966.000000\n",
       "mean     -1.030854    -2.199697   533.310478     0.017495    -157.734493\n",
       "std       0.020252     0.012514    47.528082     0.000469       1.483195\n",
       "min      -1.095308    -2.250688   385.127119     0.016064    -166.125006\n",
       "25%      -1.044222    -2.207904   500.349968     0.017169    -158.496146\n",
       "50%      -1.030950    -2.199172   529.967473     0.017489    -157.377105\n",
       "75%      -1.017322    -2.191266   561.641019     0.017795    -156.631192\n",
       "max      -0.960726    -2.150078   740.743156     0.019343    -155.670979"
      ]
     },
     "execution_count": 17,
     "metadata": {},
     "output_type": "execute_result"
    }
   ],
   "source": [
    "data.describe()"
   ]
  },
  {
   "cell_type": "markdown",
   "metadata": {},
   "source": [
    "Lets make a new dataframe of parameters so they are easier to handle. "
   ]
  },
  {
   "cell_type": "code",
   "execution_count": 18,
   "metadata": {
    "collapsed": true
   },
   "outputs": [],
   "source": [
    "pars = data.loc[:, 'alpha__1':'norm__4']"
   ]
  },
  {
   "cell_type": "code",
   "execution_count": 19,
   "metadata": {
    "collapsed": false
   },
   "outputs": [
    {
     "data": {
      "text/html": [
       "<div>\n",
       "<table border=\"1\" class=\"dataframe\">\n",
       "  <thead>\n",
       "    <tr style=\"text-align: right;\">\n",
       "      <th></th>\n",
       "      <th>alpha__1</th>\n",
       "      <th>beta__2</th>\n",
       "      <th>tem__3</th>\n",
       "      <th>norm__4</th>\n",
       "    </tr>\n",
       "  </thead>\n",
       "  <tbody>\n",
       "    <tr>\n",
       "      <th>0.25</th>\n",
       "      <td>-1.044222</td>\n",
       "      <td>-2.207904</td>\n",
       "      <td>500.349968</td>\n",
       "      <td>0.017169</td>\n",
       "    </tr>\n",
       "    <tr>\n",
       "      <th>0.50</th>\n",
       "      <td>-1.030950</td>\n",
       "      <td>-2.199172</td>\n",
       "      <td>529.967473</td>\n",
       "      <td>0.017489</td>\n",
       "    </tr>\n",
       "    <tr>\n",
       "      <th>0.75</th>\n",
       "      <td>-1.017322</td>\n",
       "      <td>-2.191266</td>\n",
       "      <td>561.641019</td>\n",
       "      <td>0.017795</td>\n",
       "    </tr>\n",
       "  </tbody>\n",
       "</table>\n",
       "</div>"
      ],
      "text/plain": [
       "      alpha__1   beta__2      tem__3   norm__4\n",
       "0.25 -1.044222 -2.207904  500.349968  0.017169\n",
       "0.50 -1.030950 -2.199172  529.967473  0.017489\n",
       "0.75 -1.017322 -2.191266  561.641019  0.017795"
      ]
     },
     "execution_count": 19,
     "metadata": {},
     "output_type": "execute_result"
    }
   ],
   "source": [
    "# these quantiles should match those above in .describe()\n",
    "pars.quantile(q = [.25, .50, .75], interpolation='linear')"
   ]
  },
  {
   "cell_type": "code",
   "execution_count": 20,
   "metadata": {
    "collapsed": false
   },
   "outputs": [
    {
     "data": {
      "text/html": [
       "<div>\n",
       "<table border=\"1\" class=\"dataframe\">\n",
       "  <thead>\n",
       "    <tr style=\"text-align: right;\">\n",
       "      <th></th>\n",
       "      <th>alpha__1</th>\n",
       "      <th>beta__2</th>\n",
       "      <th>tem__3</th>\n",
       "      <th>norm__4</th>\n",
       "    </tr>\n",
       "  </thead>\n",
       "  <tbody>\n",
       "    <tr>\n",
       "      <th>0.15865</th>\n",
       "      <td>-1.050846</td>\n",
       "      <td>-2.212021</td>\n",
       "      <td>486.666765</td>\n",
       "      <td>0.017033</td>\n",
       "    </tr>\n",
       "    <tr>\n",
       "      <th>0.50000</th>\n",
       "      <td>-1.030950</td>\n",
       "      <td>-2.199172</td>\n",
       "      <td>529.967473</td>\n",
       "      <td>0.017489</td>\n",
       "    </tr>\n",
       "    <tr>\n",
       "      <th>0.84135</th>\n",
       "      <td>-1.010685</td>\n",
       "      <td>-2.187280</td>\n",
       "      <td>579.775702</td>\n",
       "      <td>0.017964</td>\n",
       "    </tr>\n",
       "  </tbody>\n",
       "</table>\n",
       "</div>"
      ],
      "text/plain": [
       "         alpha__1   beta__2      tem__3   norm__4\n",
       "0.15865 -1.050846 -2.212021  486.666765  0.017033\n",
       "0.50000 -1.030950 -2.199172  529.967473  0.017489\n",
       "0.84135 -1.010685 -2.187280  579.775702  0.017964"
      ]
     },
     "execution_count": 20,
     "metadata": {},
     "output_type": "execute_result"
    }
   ],
   "source": [
    "# 1-sigma are quantiles \n",
    "pars.quantile(q = [.15865, .50, .84135], interpolation='linear')"
   ]
  },
  {
   "cell_type": "code",
   "execution_count": 21,
   "metadata": {
    "collapsed": true
   },
   "outputs": [],
   "source": [
    "%matplotlib inline"
   ]
  },
  {
   "cell_type": "code",
   "execution_count": 22,
   "metadata": {
    "collapsed": false
   },
   "outputs": [
    {
     "data": {
      "text/plain": [
       "<matplotlib.axes._subplots.AxesSubplot at 0x103db9f10>"
      ]
     },
     "execution_count": 22,
     "metadata": {},
     "output_type": "execute_result"
    },
    {
     "data": {
      "image/png": "[encoded data removed]",
      "text/plain": [
       "<matplotlib.figure.Figure at 0x10e9f0b10>"
      ]
     },
     "metadata": {},
     "output_type": "display_data"
    }
   ],
   "source": [
    "pars.alpha__1.plot(kind='hist', bins=50)\n",
    "    "
   ]
  },
  {
   "cell_type": "code",
   "execution_count": 23,
   "metadata": {
    "collapsed": false
   },
   "outputs": [
    {
     "data": {
      "text/plain": [
       "<matplotlib.axes._subplots.AxesSubplot at 0x10e9fcc50>"
      ]
     },
     "execution_count": 23,
     "metadata": {},
     "output_type": "execute_result"
    },
    {
     "data": {
      "image/png": "[encoded data removed]",
      "text/plain": [
       "<matplotlib.figure.Figure at 0x1110e2850>"
      ]
     },
     "metadata": {},
     "output_type": "display_data"
    }
   ],
   "source": [
    "pars.beta__2.plot(kind='hist', bins=50)\n"
   ]
  },
  {
   "cell_type": "code",
   "execution_count": 24,
   "metadata": {
    "collapsed": false
   },
   "outputs": [
    {
     "data": {
      "text/plain": [
       "<matplotlib.axes._subplots.AxesSubplot at 0x110fdc310>"
      ]
     },
     "execution_count": 24,
     "metadata": {},
     "output_type": "execute_result"
    },
    {
     "data": {
      "image/png": "[encoded data removed]",
      "text/plain": [
       "<matplotlib.figure.Figure at 0x111048d50>"
      ]
     },
     "metadata": {},
     "output_type": "display_data"
    }
   ],
   "source": [
    "pars.tem__3.plot(kind='hist', bins=50)\n"
   ]
  },
  {
   "cell_type": "code",
   "execution_count": 25,
   "metadata": {
    "collapsed": false
   },
   "outputs": [
    {
     "data": {
      "text/plain": [
       "<matplotlib.axes._subplots.AxesSubplot at 0x110fd0750>"
      ]
     },
     "execution_count": 25,
     "metadata": {},
     "output_type": "execute_result"
    },
    {
     "data": {
      "image/png": "[encoded data removed]",
      "text/plain": [
       "<matplotlib.figure.Figure at 0x1112522d0>"
      ]
     },
     "metadata": {},
     "output_type": "display_data"
    }
   ],
   "source": [
    "pars.norm__4.plot(kind='hist', bins=50)\n"
   ]
  },
  {
   "cell_type": "code",
   "execution_count": null,
   "metadata": {
    "collapsed": true
   },
   "outputs": [],
   "source": []
  },
  {
   "cell_type": "code",
   "execution_count": 33,
   "metadata": {
    "collapsed": false
   },
   "outputs": [],
   "source": [
    "all_quantiles = OrderedDict()\n",
    "for par in data.columns:\n",
    "    quantiles = np.percentile(data[par], [15.865, 50, 84.135])\n",
    "    all_quantiles[par] = list(quantiles)"
   ]
  },
  {
   "cell_type": "code",
   "execution_count": 34,
   "metadata": {
    "collapsed": false
   },
   "outputs": [
    {
     "data": {
      "text/plain": [
       "OrderedDict([('alpha__1',\n",
       "              [-1.0508461326067404, -1.0309504890375365, -1.0106845131300797]),\n",
       "             ('beta__2',\n",
       "              [-2.2120210737156474, -2.1991722847585766, -2.1872803038408803]),\n",
       "             ('tem__3',\n",
       "              [486.66676485637208, 529.96747253170997, 579.77570155309911]),\n",
       "             ('norm__4',\n",
       "              [0.017033215585806304,\n",
       "               0.017489093534040302,\n",
       "               0.017964032696369085]),\n",
       "             ('FIT_STATISTIC',\n",
       "              [-159.13927897295193,\n",
       "               -157.37710499070425,\n",
       "               -156.36081816952597])])"
      ]
     },
     "execution_count": 34,
     "metadata": {},
     "output_type": "execute_result"
    }
   ],
   "source": [
    "all_quantiles"
   ]
  },
  {
   "cell_type": "code",
   "execution_count": 31,
   "metadata": {
    "collapsed": false
   },
   "outputs": [],
   "source": [
    "param_dict = OrderedDict()\n",
    "\n",
    "for i,name in enumerate(f1.data.columns.names):\n",
    "    if 'PARAM' in name:\n",
    "        values = list(f1.data[name][0])\n",
    "        param_dict[\"%s__%i\"%(Pars[i],i+1)] = values\n",
    "    else:\n",
    "        if 'EVIDENCE' in name:\n",
    "            param_dict[name] = list(f1.data[name][0])\n",
    "        else:\n",
    "            param_dict[name] = f1.data[name][0]\n",
    "        "
   ]
  },
  {
   "cell_type": "code",
   "execution_count": 32,
   "metadata": {
    "collapsed": false
   },
   "outputs": [
    {
     "data": {
      "text/plain": [
       "OrderedDict([('alpha__1', -0.96859785793122732),\n",
       "             ('beta__2', -2.1500778796572151),\n",
       "             ('tem__3', 390.85261708462218),\n",
       "             ('norm__4', 0.019054657060153159),\n",
       "             ('FIT_STATISTIC', -166.12500559199336)])"
      ]
     },
     "execution_count": 32,
     "metadata": {},
     "output_type": "execute_result"
    }
   ],
   "source": [
    "param_dict"
   ]
  },
  {
   "cell_type": "code",
   "execution_count": null,
   "metadata": {
    "collapsed": true
   },
   "outputs": [],
   "source": []
  },
  {
   "cell_type": "code",
   "execution_count": null,
   "metadata": {
    "collapsed": true
   },
   "outputs": [],
   "source": []
  }
 ],
 "metadata": {
  "kernelspec": {
   "display_name": "Python 2",
   "language": "python",
   "name": "python2"
  },
  "language_info": {
   "codemirror_mode": {
    "name": "ipython",
    "version": 2
   },
   "file_extension": ".py",
   "mimetype": "text/x-python",
   "name": "python",
   "nbconvert_exporter": "python",
   "pygments_lexer": "ipython2",
   "version": "2.7.11"
  }
 },
 "nbformat": 4,
 "nbformat_minor": 0
}
