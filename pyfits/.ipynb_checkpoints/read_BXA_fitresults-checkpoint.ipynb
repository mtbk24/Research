{
 "cells": [
  {
   "cell_type": "markdown",
   "metadata": {},
   "source": [
    "# Read the BXA program's fitting results.\n",
    "\n",
    "This file holds the results from the Bayesain X-ray Analysis program's fit to GRB 080916C. \n",
    "\n",
    "—\n",
    "It holds the best fit parameters based on the Multinest algorithm's use of the Maximum Likelihood.  Holds best fit parameters, errors, and statistics.\n",
    "\n",
    "For the 'PARAM' lists, the values are as in the following order:\n",
    "    - best-fit parameter\n",
    "    - 1-sigma lower\n",
    "    - 1-sigma upper\n",
    "    - 2-sigma lower\n",
    "    - 2-sigma upper\n",
    "    - 3-sigma lower\n",
    "    - 3-sigma upper"
   ]
  },
  {
   "cell_type": "code",
   "execution_count": 14,
   "metadata": {
    "collapsed": true
   },
   "outputs": [],
   "source": [
    "from __future__ import division\n",
    "import os\n",
    "import numpy as np\n",
    "import pandas as pd\n",
    "from collections import OrderedDict\n",
    "from astropy.io import fits as pyfits\n",
    "import json"
   ]
  },
  {
   "cell_type": "code",
   "execution_count": 30,
   "metadata": {
    "collapsed": false
   },
   "outputs": [
    {
     "data": {
      "text/plain": [
       "['alpha', 'beta', 'tem', 'norm']"
      ]
     },
     "execution_count": 30,
     "metadata": {},
     "output_type": "execute_result"
    }
   ],
   "source": [
    "def get_ParNames(model):\n",
    "    '''\n",
    "    Given a model name, it will return the parameter names of the model.\n",
    "    See file 'ParameterNames.json in the $PYX/Analysis/ directory.\n",
    "    '\n",
    "    '''\n",
    "    fname   = \"/Users/KimiZ/GRBs2/analysis/pyxspec_programs/Analysis/ParameterNames.json\"\n",
    "    f       = json.load(open(fname, 'r'), encoding='utf-8')\n",
    "    names   = f[model] # DICTIONARY OF PARAMETERS\n",
    "    names   = [str(i) for i in names]\n",
    "    return names\n",
    "\n",
    "Pars = get_ParNames(modName)\n",
    "Pars"
   ]
  },
  {
   "cell_type": "markdown",
   "metadata": {},
   "source": [
    "---"
   ]
  },
  {
   "cell_type": "code",
   "execution_count": 31,
   "metadata": {
    "collapsed": true
   },
   "outputs": [],
   "source": [
    "burst        = 'bn080916009'\n",
    "modName      = 'grbm'\n",
    "version      = '-01-'\n",
    "det          = 'L'\n",
    "detdir       = ('GBMwLAT' if 'L' in det else 'GBM')\n",
    "\n",
    "\n",
    "data_dir = \"/Users/KimiZ/GRBs2/analysis/LAT/%s/integrated/\"%burst\n",
    "mod_dir  = \"/Users/KimiZ/GRBs2/analysis/LAT/%s/BXA/%s/%s/\"%(burst, detdir, modName)\n",
    "\n",
    "filename = os.path.join(mod_dir, \"bxa_fitresults_%s_%s_%s_.fit\"%(modName, version, det))\n",
    "\n",
    "if os.path.exists(filename):\n",
    "    pass\n",
    "else:\n",
    "    raise Exception, \"File does not exist.\""
   ]
  },
  {
   "cell_type": "code",
   "execution_count": 32,
   "metadata": {
    "collapsed": false
   },
   "outputs": [
    {
     "name": "stdout",
     "output_type": "stream",
     "text": [
      "Filename: /Users/KimiZ/GRBs2/analysis/LAT/bn080916009/BXA/GBMwLAT/grbm/bxa_fitresults_grbm_-01-_L_.fit\n",
      "No.    Name         Type      Cards   Dimensions   Format\n",
      "0    PRIMARY     PrimaryHDU       4   ()           uint8   \n",
      "1    PARAMS      BinTableHDU     34   1R x 11C     [1PD(7), 1PD(7), 1PD(7), 1PD(7), 1I, 1I, 1D, 1D, 1D, 1D, 1PD(2)]   \n"
     ]
    }
   ],
   "source": [
    "# OPEN FILE\n",
    "f = pyfits.open(filename)\n",
    "\n",
    "f.info()"
   ]
  },
  {
   "cell_type": "code",
   "execution_count": 33,
   "metadata": {
    "collapsed": false
   },
   "outputs": [
    {
     "data": {
      "text/plain": [
       "SIMPLE  =                    T / conforms to FITS standard                      \n",
       "BITPIX  =                    8 / array data type                                \n",
       "NAXIS   =                    0 / number of array dimensions                     \n",
       "EXTEND  =                    T                                                  "
      ]
     },
     "execution_count": 33,
     "metadata": {},
     "output_type": "execute_result"
    }
   ],
   "source": [
    "f[0].header"
   ]
  },
  {
   "cell_type": "code",
   "execution_count": 34,
   "metadata": {
    "collapsed": false
   },
   "outputs": [
    {
     "data": {
      "text/plain": [
       "XTENSION= 'BINTABLE'           / binary table extension                         \n",
       "BITPIX  =                    8 / array data type                                \n",
       "NAXIS   =                    2 / number of array dimensions                     \n",
       "NAXIS1  =                   76 / length of dimension 1                          \n",
       "NAXIS2  =                    1 / length of dimension 2                          \n",
       "PCOUNT  =                  240 / number of group parameters                     \n",
       "GCOUNT  =                    1 / number of groups                               \n",
       "TFIELDS =                   11 / number of table fields                         \n",
       "TTYPE1  = 'PARAM1  '                                                            \n",
       "TFORM1  = '1PD(7)  '                                                            \n",
       "TTYPE2  = 'PARAM2  '                                                            \n",
       "TFORM2  = '1PD(7)  '                                                            \n",
       "TTYPE3  = 'PARAM3  '                                                            \n",
       "TFORM3  = '1PD(7)  '                                                            \n",
       "TTYPE4  = 'PARAM4  '                                                            \n",
       "TFORM4  = '1PD(7)  '                                                            \n",
       "TTYPE5  = 'NDATA   '                                                            \n",
       "TFORM5  = '1I      '                                                            \n",
       "TTYPE6  = 'DOF     '                                                            \n",
       "TFORM6  = '1I      '                                                            \n",
       "TTYPE7  = 'CSTAT   '                                                            \n",
       "TFORM7  = '1D      '                                                            \n",
       "TTYPE8  = 'LOGLIKE '                                                            \n",
       "TFORM8  = '1D      '                                                            \n",
       "TTYPE9  = 'AIC     '                                                            \n",
       "TFORM9  = '1D      '                                                            \n",
       "TTYPE10 = 'BIC     '                                                            \n",
       "TFORM10 = '1D      '                                                            \n",
       "TTYPE11 = 'EVIDENCE'                                                            \n",
       "TFORM11 = '1PD(2)  '                                                            \n",
       "EXTNAME = 'PARAMS  '                                                            \n",
       "HDUCLASS= 'OGIP    '                                                            \n",
       "HDUCLAS1= 'TYPE:II '                                                            \n",
       "HDUVERS = '1.2.0   '                                                            "
      ]
     },
     "execution_count": 34,
     "metadata": {},
     "output_type": "execute_result"
    }
   ],
   "source": [
    "# DATA IS STORED HERE. \n",
    "f[1].header"
   ]
  },
  {
   "cell_type": "code",
   "execution_count": 35,
   "metadata": {
    "collapsed": false
   },
   "outputs": [
    {
     "data": {
      "text/plain": [
       "rec.array([ (array([-1.02613019, -1.05049177, -1.01084962, -1.06953724, -0.99118583,\n",
       "       -1.08728457, -0.96904342]), array([-2.19617478, -2.21187152, -2.18720468, -2.22529124, -2.17645997,\n",
       "       -2.23890197, -2.16463786]), array([ 519.22663538,  486.94436728,  579.58377543,  448.79164822,\n",
       "        632.22371462,  414.59628335,  698.84074061]), array([-1.75479956, -1.76866364, -1.74576886, -1.77943408, -1.73399592,\n",
       "       -1.78944894, -1.72161385]), 380, 376, 311.34195808817071, -155.67097904408536, 319.34195808817071, 335.10264309905244, array([ -1.80799671e+02,   1.46396155e-02]))], \n",
       "          dtype=[('PARAM1', '>i4', (2,)), ('PARAM2', '>i4', (2,)), ('PARAM3', '>i4', (2,)), ('PARAM4', '>i4', (2,)), ('NDATA', '>i2'), ('DOF', '>i2'), ('CSTAT', '>f8'), ('LOGLIKE', '>f8'), ('AIC', '>f8'), ('BIC', '>f8'), ('EVIDENCE', '>i4', (2,))])"
      ]
     },
     "execution_count": 35,
     "metadata": {},
     "output_type": "execute_result"
    }
   ],
   "source": [
    "f[1].data"
   ]
  },
  {
   "cell_type": "code",
   "execution_count": 36,
   "metadata": {
    "collapsed": true
   },
   "outputs": [],
   "source": [
    "f1 = f[1]"
   ]
  },
  {
   "cell_type": "code",
   "execution_count": 37,
   "metadata": {
    "collapsed": false
   },
   "outputs": [
    {
     "data": {
      "text/plain": [
       "rec.array([ (array([-1.02613019, -1.05049177, -1.01084962, -1.06953724, -0.99118583,\n",
       "       -1.08728457, -0.96904342]), array([-2.19617478, -2.21187152, -2.18720468, -2.22529124, -2.17645997,\n",
       "       -2.23890197, -2.16463786]), array([ 519.22663538,  486.94436728,  579.58377543,  448.79164822,\n",
       "        632.22371462,  414.59628335,  698.84074061]), array([-1.75479956, -1.76866364, -1.74576886, -1.77943408, -1.73399592,\n",
       "       -1.78944894, -1.72161385]), 380, 376, 311.34195808817071, -155.67097904408536, 319.34195808817071, 335.10264309905244, array([ -1.80799671e+02,   1.46396155e-02]))], \n",
       "          dtype=[('PARAM1', '>i4', (2,)), ('PARAM2', '>i4', (2,)), ('PARAM3', '>i4', (2,)), ('PARAM4', '>i4', (2,)), ('NDATA', '>i2'), ('DOF', '>i2'), ('CSTAT', '>f8'), ('LOGLIKE', '>f8'), ('AIC', '>f8'), ('BIC', '>f8'), ('EVIDENCE', '>i4', (2,))])"
      ]
     },
     "execution_count": 37,
     "metadata": {},
     "output_type": "execute_result"
    }
   ],
   "source": [
    "f1.data"
   ]
  },
  {
   "cell_type": "code",
   "execution_count": 38,
   "metadata": {
    "collapsed": false
   },
   "outputs": [
    {
     "data": {
      "text/plain": [
       "ColDefs(\n",
       "    name = 'PARAM1'; format = '1PD(7)'\n",
       "    name = 'PARAM2'; format = '1PD(7)'\n",
       "    name = 'PARAM3'; format = '1PD(7)'\n",
       "    name = 'PARAM4'; format = '1PD(7)'\n",
       "    name = 'NDATA'; format = '1I'\n",
       "    name = 'DOF'; format = '1I'\n",
       "    name = 'CSTAT'; format = '1D'\n",
       "    name = 'LOGLIKE'; format = '1D'\n",
       "    name = 'AIC'; format = '1D'\n",
       "    name = 'BIC'; format = '1D'\n",
       "    name = 'EVIDENCE'; format = '1PD(2)'\n",
       ")"
      ]
     },
     "execution_count": 38,
     "metadata": {},
     "output_type": "execute_result"
    }
   ],
   "source": [
    "f1.columns"
   ]
  },
  {
   "cell_type": "code",
   "execution_count": 39,
   "metadata": {
    "collapsed": false
   },
   "outputs": [
    {
     "name": "stdout",
     "output_type": "stream",
     "text": [
      "['PARAM1', 'PARAM2', 'PARAM3', 'PARAM4', 'NDATA', 'DOF', 'CSTAT', 'LOGLIKE', 'AIC', 'BIC', 'EVIDENCE']\n"
     ]
    }
   ],
   "source": [
    "print( f1.data.columns.names )"
   ]
  },
  {
   "cell_type": "code",
   "execution_count": 41,
   "metadata": {
    "collapsed": false
   },
   "outputs": [],
   "source": [
    "param_dict = OrderedDict()\n",
    "\n",
    "for i,name in enumerate(f1.data.columns.names):\n",
    "    if 'PARAM' in name:\n",
    "        values = list(f1.data[name][0])\n",
    "        param_dict[\"%s__%i\"%(Pars[i],i+1)] = values\n",
    "    else:\n",
    "        if 'EVIDENCE' in name:\n",
    "            param_dict[name] = list(f1.data[name][0])\n",
    "        else:\n",
    "            param_dict[name] = f1.data[name][0]\n",
    "        "
   ]
  },
  {
   "cell_type": "code",
   "execution_count": 42,
   "metadata": {
    "collapsed": false
   },
   "outputs": [
    {
     "data": {
      "text/plain": [
       "OrderedDict([('alpha__1',\n",
       "              [-1.0261301941989505,\n",
       "               -1.0504917692117177,\n",
       "               -1.0108496177344828,\n",
       "               -1.0695372385274353,\n",
       "               -0.99118582562717006,\n",
       "               -1.0872845735701997,\n",
       "               -0.9690434243383601]),\n",
       "             ('beta__2',\n",
       "              [-2.1961747832013394,\n",
       "               -2.2118715235305162,\n",
       "               -2.187204678512312,\n",
       "               -2.225291235004407,\n",
       "               -2.1764599688455144,\n",
       "               -2.2389019716799661,\n",
       "               -2.1646378644058282]),\n",
       "             ('tem__3',\n",
       "              [519.22663537909375,\n",
       "               486.94436728067308,\n",
       "               579.5837754287212,\n",
       "               448.79164822332746,\n",
       "               632.22371462220394,\n",
       "               414.59628334505499,\n",
       "               698.84074060903265]),\n",
       "             ('norm__4',\n",
       "              [-1.7547995633770341,\n",
       "               -1.768663641284596,\n",
       "               -1.7457688580473598,\n",
       "               -1.7794340805225988,\n",
       "               -1.7339959181582438,\n",
       "               -1.7894489393434156,\n",
       "               -1.7216138464409665]),\n",
       "             ('NDATA', 380),\n",
       "             ('DOF', 376),\n",
       "             ('CSTAT', 311.34195808817071),\n",
       "             ('LOGLIKE', -155.67097904408536),\n",
       "             ('AIC', 319.34195808817071),\n",
       "             ('BIC', 335.10264309905244),\n",
       "             ('EVIDENCE', [-180.79967076345991, 0.01463961553092224])])"
      ]
     },
     "execution_count": 42,
     "metadata": {},
     "output_type": "execute_result"
    }
   ],
   "source": [
    "param_dict"
   ]
  },
  {
   "cell_type": "raw",
   "metadata": {
    "collapsed": true
   },
   "source": [
    "This dictionary holds all the fitting results. \n",
    "\n",
    "Each parameter has a list of the value and the 1, 2, and 3 sigam errors (upper and lower confidence interval boundaries) in the following order:\n",
    "    \n",
    "    [value, 1sig_low, 1sig_up, 2sig_low, 2sig_up, 3sig_low, 3sig_up]\n",
    "    \n",
    "NDATA is the number of data points, or the spectral energy channels. \n",
    "DOF is degrees of freedom, which is NDATA - nPars, where nPars is the number of model parameters. \n",
    "CSTAT - Castor C-statistic value of the fit. \n",
    "LOGLIKE - log-likelihood.\n",
    "AIC - aic statistic\n",
    "BIC - bic statistic\n",
    "EVIDENCE - Bayesain Evidence. "
   ]
  },
  {
   "cell_type": "code",
   "execution_count": null,
   "metadata": {
    "collapsed": true
   },
   "outputs": [],
   "source": []
  }
 ],
 "metadata": {
  "kernelspec": {
   "display_name": "Python 2",
   "language": "python",
   "name": "python2"
  },
  "language_info": {
   "codemirror_mode": {
    "name": "ipython",
    "version": 2
   },
   "file_extension": ".py",
   "mimetype": "text/x-python",
   "name": "python",
   "nbconvert_exporter": "python",
   "pygments_lexer": "ipython2",
   "version": "2.7.11"
  }
 },
 "nbformat": 4,
 "nbformat_minor": 0
}
