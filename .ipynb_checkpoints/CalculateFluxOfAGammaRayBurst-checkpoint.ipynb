{
 "cells": [
  {
   "cell_type": "markdown",
   "metadata": {},
   "source": [
    "In order to show a simple version of calculating flux and Eiso, we provide a few variables specific to this GRB (Fermi trigger bn080916009) that would either be read in from a file or calculated based on those variables. "
   ]
  },
  {
   "cell_type": "code",
   "execution_count": 1,
   "metadata": {
    "collapsed": true
   },
   "outputs": [],
   "source": [
    "from __future__ import division\n",
    "import numpy as np\n",
    "from numpy import exp, power, log, log10, exp\n",
    "\n",
    "from scipy import integrate\n",
    "from math import pi\n",
    "\n",
    "\n",
    "def BAND(energy, alpha, beta, enterm, norm, entype='E0'):\n",
    "    '''\n",
    "    BAND(energy, alpha, beta, enterm, norm, entype='E0')\n",
    "\n",
    "    XSPEC Band Function.\n",
    "\n",
    "    PARAMETERS:\n",
    "    ----------\n",
    "    energy: float, energy element from an array of energies over which \n",
    "            the function is integrated over. \n",
    "    alpha:  float, alpha (low-energy index) parameter value.  \n",
    "    beta:   float, beta (high-energy index) parameter value.     \n",
    "    enterm: float, characteristic energy parameter value.  \n",
    "    norm:   float, normalization (aka amplitude) parameter value.  \n",
    "    entype: str, defines which characteristic energy you are using.  \n",
    "                options: 'E0' (default), 'epeak', 'ebreak'  \n",
    "    \n",
    "    '''\n",
    "    eng     = energy\n",
    "    N       = norm\n",
    "    a       = alpha\n",
    "    b       = beta\n",
    "    \n",
    "    if entype == 'epeak':\n",
    "        t   = enterm / (2.+a)  # E0 = epeak / (2.+alpha)\n",
    "    elif entype == 'E0':\n",
    "        t   = enterm           # E0 = E0\n",
    "    elif entype == 'ebreak':\n",
    "        t   = enterm/(a-b)     # E0 = ebreak / (alpha - beta)\n",
    "    else:\n",
    "        raise Exception, \"entype must be 'epeak', 'E0', or 'ebreak' \"\n",
    "\n",
    "    cond1 = eng < (a-b) * t\n",
    "    cond2 = eng >= (a-b) * t\n",
    "    \n",
    "    band = np.piecewise(eng, [cond1, cond2],\\\n",
    "            [lambda x: N * (power(x/100., a) * exp(-x/t)), \\\n",
    "             lambda x: N * (((((a-b)*t)/100.0)**(a-b)) * (exp(b-a))*((x/100.0)**b))])\n",
    "    return band\n"
   ]
  },
  {
   "cell_type": "code",
   "execution_count": 2,
   "metadata": {
    "collapsed": true
   },
   "outputs": [],
   "source": [
    "def Calc_Flux(model, Pars, emin, emax, redshift):\n",
    "        \n",
    "    keVtoerg  = 1.60217657E-9\n",
    "    emin      = emin/(1.+redshift)\n",
    "    emax      = emax/(1.+redshift)\n",
    "    P         = Pars\n",
    "\n",
    "    function = lambda energy: energy * BAND(energy,  \n",
    "                                                P['grbm']['alpha'], \n",
    "                                                P['grbm']['beta'], \n",
    "                                                P['grbm']['enterm'], \n",
    "                                                P['grbm']['norm'], \n",
    "                                                entype=P['grbm']['entype']\n",
    "                                                )\n",
    "    nrgFlux = integrate.quad(function, emin, emax, limit=100)[0] * keVtoerg\n",
    "    return nrgFlux\n"
   ]
  },
  {
   "cell_type": "code",
   "execution_count": 3,
   "metadata": {
    "collapsed": false
   },
   "outputs": [],
   "source": [
    "# model is the band function, aka 'grbm' for grb model\n",
    "model = 'grbm'\n",
    "Pars = {'grbm':         {'alpha':   -1.029586,\n",
    "                         'beta':    -2.198223,\n",
    "                         'enterm':  510.641,     # epeak energy\n",
    "                         'norm':    0.017522454,\n",
    "                         'entype':  'epeak'}}\n",
    "\n",
    "# integrate from 10 keV - 10,000 keV\n",
    "emin     = 10.0\n",
    "emax     = 10000.0\n",
    "redshift = 4.35 \n",
    "# redshift needed to calculate what 10 keV and 10,000 keV are in the rest-frame of the GRB.\n",
    "# 10 keV/(1+redshift) and 10000 keV/(1+redshift)\n",
    "\n",
    "# constants needed for eiso calculation\n",
    "DL       = 1.25078798197959E+29  # GRB's luminosity distance in cm\n",
    "duration = 62.977 # duration of GRB in seconds"
   ]
  },
  {
   "cell_type": "markdown",
   "metadata": {},
   "source": [
    "### Flux should be:    1.504698397590E-06"
   ]
  },
  {
   "cell_type": "code",
   "execution_count": 4,
   "metadata": {
    "collapsed": true
   },
   "outputs": [],
   "source": [
    "import time  # time the calculation"
   ]
  },
  {
   "cell_type": "code",
   "execution_count": 5,
   "metadata": {
    "collapsed": false
   },
   "outputs": [
    {
     "name": "stdout",
     "output_type": "stream",
     "text": [
      "Flux:  1.50469839759E-06  erg cm^-2 s^-1\n",
      "Total Time:  0.04673  seconds\n",
      "Eiso:  3.48220960014E+54 erg\n"
     ]
    }
   ],
   "source": [
    "startTime = time.time()\n",
    "flux = Calc_Flux(model=model, Pars=Pars, emin=emin, emax=emax, redshift=redshift)\n",
    "endTime = time.time()\n",
    "\n",
    "print('Flux:  %.11E  erg cm^-2 s^-1'%flux)\n",
    "print('Total Time:  %.5f  seconds'%(endTime-startTime))\n",
    "\n",
    "eiso = ((4.0 * pi * (DL**2))/(1.+redshift)) * (flux * duration)\n",
    "print('Eiso:  %.11E erg'%eiso)\n"
   ]
  }
 ],
 "metadata": {
  "kernelspec": {
   "display_name": "Python 2",
   "language": "python",
   "name": "python2"
  },
  "language_info": {
   "codemirror_mode": {
    "name": "ipython",
    "version": 2
   },
   "file_extension": ".py",
   "mimetype": "text/x-python",
   "name": "python",
   "nbconvert_exporter": "python",
   "pygments_lexer": "ipython2",
   "version": "2.7.11"
  }
 },
 "nbformat": 4,
 "nbformat_minor": 0
}
