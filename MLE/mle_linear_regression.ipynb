{
 "cells": [
  {
   "cell_type": "markdown",
   "metadata": {},
   "source": [
    "# Maximum Likelihood Estimation Linear Regression\n",
    "\n",
    "Useful Sources:\n",
    "   * http://jekel.me/2016/Maximum-Likelihood-Linear-Regression/\n",
    "   * http://suriyadeepan.github.io/2017-01-22-mle-linear-regression/\n",
    "   * http://dfm.io/emcee/current/user/line/\n",
    "   * https://arxiv.org/pdf/1008.4686.pdf\n",
    "   Data analysis recipes: Fitting a model to data∗  \n",
    "      David W. Hogg, Jo Bovy, Dustin Lang (2010)\n",
    "        Equations 9-11"
   ]
  },
  {
   "cell_type": "code",
   "execution_count": 1,
   "metadata": {
    "collapsed": true
   },
   "outputs": [],
   "source": [
    "from __future__ import division\n",
    "from scipy.optimize import minimize\n",
    "import pandas as pd\n",
    "from math import pi\n",
    "import numpy as np\n",
    "from numpy import std, exp, log, log10\n",
    "\n",
    "from Zoldak.Math.loggingdata import log_margin_of_error\n",
    "\n",
    "import matplotlib.pyplot as plt\n",
    "%matplotlib inline"
   ]
  },
  {
   "cell_type": "markdown",
   "metadata": {},
   "source": [
    "### Log-Likelihood function and Linear Model to minimize.\n",
    "\n",
    "The scipy.optimize module minimizes functions.\n",
    "We want to maximize the likelihood function. \n",
    "To maximize the likelihood, you minimize the negative log likelihood:\n",
    "    \n",
    "    Maximum Likelihood = -1 * loglikelihood "
   ]
  },
  {
   "cell_type": "code",
   "execution_count": 2,
   "metadata": {
    "collapsed": true
   },
   "outputs": [],
   "source": [
    "def LogLikelihood(estimate, true, n, sigma):\n",
    "    '''\n",
    "    LogLikelihood(estimate, true, n, sigma)\n",
    "   \n",
    "    The scipy.optimize.minimize module minimizes functions.\n",
    "    We want to maximize the likelihood function. \n",
    "    To maximize the likelihood, you minimize the negative log-likelihood,\n",
    "    hence the -1 * LogLikelihood.\n",
    "    \n",
    "    This is the LogLikelihood that can then be multiplied by -1 and minimized.\n",
    "    \n",
    "\n",
    "    \n",
    "    PARAMETERS:\n",
    "    ----------\n",
    "    \n",
    "    estimate: float, is the estimate for y based on the model. \n",
    "    true:     float, is the y-data value. \n",
    "    n:        float, length of the estimate. \n",
    "    sigma:    float, scatter about the relation. \n",
    "    \n",
    "    if you don't want sigma to be a free parameter, use\n",
    "        sigma = np.std(error) \n",
    "    and remove it from parameters assignment. \n",
    "    \n",
    "    RETURNS:\n",
    "    ----------\n",
    "    returns the log-likelihood. \n",
    "    \n",
    "    \n",
    "    NOTES:\n",
    "    ----------\n",
    "    The error is the true - estimate, or ydata - ymodel. These are also known \n",
    "    as the residuals of the fit; the distances between the actual data point \n",
    "    along the y-axis and the model. Errors/residuals are along y-axis only\n",
    "    meaning they are the vertical offsets and not perpendicular offsets. \n",
    "    Vertical offsets are the most common in linear regression. \n",
    "    \n",
    "    '''\n",
    "    error = true - estimate       # ydata - yModel, aka residual\n",
    "    L = (-0.5*n*log(2.0*pi*sigma*sigma)) - (sum(error**2)/(2.0*sigma*sigma))\n",
    "    return L\n",
    "    \n",
    "def linear_model(parameters, x, y):\n",
    "    '''\n",
    "    linear_model(parameters, x, y)\n",
    "    -- Linear model. \n",
    "    \n",
    "    PARAMETERS:\n",
    "    ----------\n",
    "    parameters: list, [m, b, sigma], where m and b are the slope and y-intercept\n",
    "                and sigma is the scatter about the lienar relation. \n",
    "    x:          list or array of xdata. **\n",
    "    y:          list or array of ydata. **\n",
    "    \n",
    "    ** - pandas dataframe Series work as well. \n",
    "    \n",
    "    RETURNS:\n",
    "    ----------\n",
    "    returns -1 * Log-Likelihood, where the yModel is a line. \n",
    "    \n",
    "        \n",
    "    '''\n",
    "    m,b,sigma = parameters   # m:slope, b:yintercept\n",
    "    yModel    = m * x + b    # estimate of y based on model. \n",
    "    return (-1 * LogLikelihood(yModel, y, len(yModel), sigma) ) # -1 * loglike"
   ]
  },
  {
   "cell_type": "markdown",
   "metadata": {},
   "source": [
    "### READ IN DATA"
   ]
  },
  {
   "cell_type": "code",
   "execution_count": 3,
   "metadata": {
    "collapsed": false
   },
   "outputs": [
    {
     "data": {
      "text/html": [
       "<div>\n",
       "<table border=\"1\" class=\"dataframe\">\n",
       "  <thead>\n",
       "    <tr style=\"text-align: right;\">\n",
       "      <th></th>\n",
       "      <th>name</th>\n",
       "      <th>z</th>\n",
       "      <th>eiso</th>\n",
       "      <th>eiso_err_low</th>\n",
       "      <th>eiso_err_up</th>\n",
       "      <th>epeak</th>\n",
       "      <th>epeak_err_low</th>\n",
       "      <th>epeak_err_up</th>\n",
       "      <th>epeakRest</th>\n",
       "      <th>epeakRest_err_low</th>\n",
       "      <th>epeakRest_err_up</th>\n",
       "    </tr>\n",
       "  </thead>\n",
       "  <tbody>\n",
       "    <tr>\n",
       "      <th>0</th>\n",
       "      <td>970228</td>\n",
       "      <td>0.695</td>\n",
       "      <td>1.649150e+52</td>\n",
       "      <td>1.241290e+51</td>\n",
       "      <td>1.241290e+51</td>\n",
       "      <td>115.044248</td>\n",
       "      <td>37.758112</td>\n",
       "      <td>37.758112</td>\n",
       "      <td>195.0</td>\n",
       "      <td>64.0</td>\n",
       "      <td>64.0</td>\n",
       "    </tr>\n",
       "    <tr>\n",
       "      <th>1</th>\n",
       "      <td>970508</td>\n",
       "      <td>0.835</td>\n",
       "      <td>6.321990e+51</td>\n",
       "      <td>1.335630e+51</td>\n",
       "      <td>1.335630e+51</td>\n",
       "      <td>79.019074</td>\n",
       "      <td>23.433243</td>\n",
       "      <td>23.433243</td>\n",
       "      <td>145.0</td>\n",
       "      <td>43.0</td>\n",
       "      <td>43.0</td>\n",
       "    </tr>\n",
       "    <tr>\n",
       "      <th>2</th>\n",
       "      <td>970828</td>\n",
       "      <td>0.958</td>\n",
       "      <td>3.037590e+53</td>\n",
       "      <td>3.573640e+52</td>\n",
       "      <td>3.573640e+52</td>\n",
       "      <td>299.284985</td>\n",
       "      <td>59.754852</td>\n",
       "      <td>59.754852</td>\n",
       "      <td>586.0</td>\n",
       "      <td>117.0</td>\n",
       "      <td>117.0</td>\n",
       "    </tr>\n",
       "    <tr>\n",
       "      <th>3</th>\n",
       "      <td>971214</td>\n",
       "      <td>3.420</td>\n",
       "      <td>2.205530e+53</td>\n",
       "      <td>2.756910e+52</td>\n",
       "      <td>2.756910e+52</td>\n",
       "      <td>154.977376</td>\n",
       "      <td>30.090498</td>\n",
       "      <td>30.090498</td>\n",
       "      <td>685.0</td>\n",
       "      <td>133.0</td>\n",
       "      <td>133.0</td>\n",
       "    </tr>\n",
       "    <tr>\n",
       "      <th>4</th>\n",
       "      <td>980326</td>\n",
       "      <td>1.000</td>\n",
       "      <td>5.008430e+51</td>\n",
       "      <td>9.837990e+50</td>\n",
       "      <td>9.837990e+50</td>\n",
       "      <td>35.500000</td>\n",
       "      <td>18.000000</td>\n",
       "      <td>18.000000</td>\n",
       "      <td>71.0</td>\n",
       "      <td>36.0</td>\n",
       "      <td>36.0</td>\n",
       "    </tr>\n",
       "  </tbody>\n",
       "</table>\n",
       "</div>"
      ],
      "text/plain": [
       "     name      z          eiso  eiso_err_low   eiso_err_up       epeak  \\\n",
       "0  970228  0.695  1.649150e+52  1.241290e+51  1.241290e+51  115.044248   \n",
       "1  970508  0.835  6.321990e+51  1.335630e+51  1.335630e+51   79.019074   \n",
       "2  970828  0.958  3.037590e+53  3.573640e+52  3.573640e+52  299.284985   \n",
       "3  971214  3.420  2.205530e+53  2.756910e+52  2.756910e+52  154.977376   \n",
       "4  980326  1.000  5.008430e+51  9.837990e+50  9.837990e+50   35.500000   \n",
       "\n",
       "   epeak_err_low  epeak_err_up  epeakRest  epeakRest_err_low  epeakRest_err_up  \n",
       "0      37.758112     37.758112      195.0               64.0              64.0  \n",
       "1      23.433243     23.433243      145.0               43.0              43.0  \n",
       "2      59.754852     59.754852      586.0              117.0             117.0  \n",
       "3      30.090498     30.090498      685.0              133.0             133.0  \n",
       "4      18.000000     18.000000       71.0               36.0              36.0  "
      ]
     },
     "execution_count": 3,
     "metadata": {},
     "output_type": "execute_result"
    }
   ],
   "source": [
    "df  = pd.read_csv('/Users/KimiZ/GRBs2/Sample/AmatiDataSample.txt', sep=',', header=0)\n",
    "df.head()"
   ]
  },
  {
   "cell_type": "code",
   "execution_count": 4,
   "metadata": {
    "collapsed": true
   },
   "outputs": [],
   "source": [
    "# log_margin_of_error(value, moe_lower, moe_upper)\n",
    "# Logging our Data to make it easier to handle. Apply an offset for eiso data.\n",
    "\n",
    "xoffset = 1.0E52\n",
    "xdata,xerrL,xerrU = log_margin_of_error(df.eiso/xoffset, \n",
    "                                        df.eiso_err_low/xoffset, \n",
    "                                        df.eiso_err_up/xoffset)\n",
    "\n",
    "ydata,yerrL,yerrU = log_margin_of_error(df.epeakRest, \n",
    "                                        df.epeakRest_err_low, \n",
    "                                        df.epeakRest_err_up)"
   ]
  },
  {
   "cell_type": "raw",
   "metadata": {},
   "source": [
    "?minimize"
   ]
  },
  {
   "cell_type": "code",
   "execution_count": 5,
   "metadata": {
    "collapsed": false
   },
   "outputs": [
    {
     "data": {
      "text/plain": [
       "      fun: -14.637374487584538\n",
       " hess_inv: <3x3 LbfgsInvHessProduct with dtype=float64>\n",
       "      jac: array([-0.00030695,  0.00020606,  0.00014779])\n",
       "  message: 'CONVERGENCE: REL_REDUCTION_OF_F_<=_FACTR*EPSMCH'\n",
       "     nfev: 108\n",
       "      nit: 15\n",
       "   status: 0\n",
       "  success: True\n",
       "        x: array([ 0.52089852,  2.05148981,  0.21989446])"
      ]
     },
     "execution_count": 5,
     "metadata": {},
     "output_type": "execute_result"
    }
   ],
   "source": [
    "# run the calculations\n",
    "result = minimize( fun     = linear_model,       # function to minimize (linear model)\n",
    "                   x0      = np.array([1,1,1]),  # initial guess for all parameters. \n",
    "                   method  = 'L-BFGS-B',         # method of solver. \n",
    "                   args    = (xdata, ydata))     # extra arguments to pass to the function. \n",
    "                                                 # Ours are x an y values.  \n",
    "\n",
    "result"
   ]
  },
  {
   "cell_type": "code",
   "execution_count": 6,
   "metadata": {
    "collapsed": false
   },
   "outputs": [],
   "source": [
    "m_ml, b_ml, s_ml = result.x  # slope, yintercept, scatter"
   ]
  },
  {
   "cell_type": "code",
   "execution_count": 7,
   "metadata": {
    "collapsed": true
   },
   "outputs": [],
   "source": [
    "line = lambda x,m,b: m * x + b"
   ]
  },
  {
   "cell_type": "markdown",
   "metadata": {},
   "source": [
    "## Plot"
   ]
  },
  {
   "cell_type": "code",
   "execution_count": 8,
   "metadata": {
    "collapsed": false
   },
   "outputs": [
    {
     "data": {
      "image/png": "[encoded data removed]",
      "text/plain": [
       "<matplotlib.figure.Figure at 0x10ee03110>"
      ]
     },
     "metadata": {},
     "output_type": "display_data"
    }
   ],
   "source": [
    "# plot data\n",
    "plt.figure(figsize=(9,7))\n",
    "plt.errorbar(x = xdata, y = ydata,\n",
    "             xerr = [xerrL, xerrU],\n",
    "             yerr = [yerrL, yerrU],\n",
    "             fmt='k.')\n",
    "# plot model\n",
    "ymodel = lambda m,x,b: m*x+b\n",
    "plt.plot(xdata, line(xdata, m_ml, b_ml), 'r-', label='maximum likelihood model')\n",
    "\n",
    "plt.ylabel('$E^{*}_{pk}$ ($keV$)', fontsize=18)\n",
    "plt.xlabel('$E_{iso}$ ($erg$)', fontsize=18)\n",
    "plt.legend(loc='best', numpoints=1, fontsize=14)\n",
    "plt.show()"
   ]
  },
  {
   "cell_type": "markdown",
   "metadata": {},
   "source": [
    "# To Continue, see mle_linear_regression_w_MCMC_errors.ipynb"
   ]
  }
 ],
 "metadata": {
  "kernelspec": {
   "display_name": "Python 2",
   "language": "python",
   "name": "python2"
  },
  "language_info": {
   "codemirror_mode": {
    "name": "ipython",
    "version": 2
   },
   "file_extension": ".py",
   "mimetype": "text/x-python",
   "name": "python",
   "nbconvert_exporter": "python",
   "pygments_lexer": "ipython2",
   "version": "2.7.11"
  }
 },
 "nbformat": 4,
 "nbformat_minor": 0
}
