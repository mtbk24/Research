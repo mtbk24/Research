{
 "cells": [
  {
   "cell_type": "code",
   "execution_count": 1,
   "metadata": {
    "collapsed": false
   },
   "outputs": [
    {
     "name": "stderr",
     "output_type": "stream",
     "text": [
      "/Users/KimiZ/anaconda/lib/python2.7/site-packages/statsmodels/tsa/base/datetools.py:7: FutureWarning: pandas.core.datetools.BDay is deprecated. Please use pandas.tseries.offsets.BDay instead.\n",
      "  _freq_to_pandas = {'B' : pandas_datetools.BDay(1),\n",
      "/Users/KimiZ/anaconda/lib/python2.7/site-packages/statsmodels/tsa/base/datetools.py:8: FutureWarning: pandas.core.datetools.day is deprecated and will be removed in a future version.\n",
      "  'D' : pandas_datetools.day,\n",
      "/Users/KimiZ/anaconda/lib/python2.7/site-packages/statsmodels/tsa/base/datetools.py:9: FutureWarning: pandas.core.datetools.Week is deprecated. Please use pandas.tseries.offsets.Week instead.\n",
      "  'W' : pandas_datetools.Week(weekday=6),\n",
      "/Users/KimiZ/anaconda/lib/python2.7/site-packages/statsmodels/tsa/base/datetools.py:10: FutureWarning: pandas.core.datetools.monthEnd is deprecated and will be removed in a future version.\n",
      "  'M' : pandas_datetools.monthEnd,\n",
      "/Users/KimiZ/anaconda/lib/python2.7/site-packages/statsmodels/tsa/base/datetools.py:11: FutureWarning: pandas.core.datetools.yearEnd is deprecated and will be removed in a future version.\n",
      "  'A' : pandas_datetools.yearEnd,\n",
      "/Users/KimiZ/anaconda/lib/python2.7/site-packages/statsmodels/tsa/base/datetools.py:12: FutureWarning: pandas.core.datetools.quarterEnd is deprecated and will be removed in a future version.\n",
      "  'Q' : pandas_datetools.quarterEnd}\n"
     ]
    }
   ],
   "source": [
    "\n",
    "from __future__ import division\n",
    "\n",
    "import numpy as np, pandas as pd\n",
    "from matplotlib import pyplot as plt\n",
    "#from numpy import std, exp, log, log10\n",
    "\n",
    "#import seaborn as sns\n",
    "from scipy.optimize import minimize\n",
    "import scipy.stats as stats\n",
    "#import pymc3 as pm3\n",
    "#import numdifftools as ndt\n",
    "import statsmodels.api as sm\n",
    "from statsmodels.base.model import GenericLikelihoodModel\n",
    "%matplotlib inline"
   ]
  },
  {
   "cell_type": "code",
   "execution_count": 2,
   "metadata": {
    "collapsed": true
   },
   "outputs": [],
   "source": [
    "from Zoldak.Math.loggingdata import log_margin_of_error"
   ]
  },
  {
   "cell_type": "code",
   "execution_count": 3,
   "metadata": {
    "collapsed": true
   },
   "outputs": [],
   "source": [
    "df  = pd.read_csv('/Users/KimiZ/GRBs2/Sample/AmatiDataSample.txt', sep=',', header=0)\n",
    "xoffset = 1.0E52\n",
    "xdata,xerrL,xerrU = log_margin_of_error(df.eiso/xoffset, \n",
    "                                        df.eiso_err_low/xoffset, \n",
    "                                        df.eiso_err_up/xoffset)\n",
    "\n",
    "ydata,yerrL,yerrU = log_margin_of_error(df.epeakRest, \n",
    "                                        df.epeakRest_err_low, \n",
    "                                        df.epeakRest_err_up)"
   ]
  },
  {
   "cell_type": "raw",
   "metadata": {
    "collapsed": true
   },
   "source": [
    "# generate data\n",
    "N = 100\n",
    "x = np.linspace(0,20,N)\n",
    "eta = np.random.normal(loc = 0.0, scale = 5.0, size = N)\n",
    "y = 3*x + eta\n",
    "df = pd.DataFrame({'y':y, 'x':x})\n",
    "df['constant'] = 1"
   ]
  },
  {
   "cell_type": "code",
   "execution_count": 4,
   "metadata": {
    "collapsed": true
   },
   "outputs": [],
   "source": [
    "?sm.OLS"
   ]
  },
  {
   "cell_type": "code",
   "execution_count": null,
   "metadata": {
    "collapsed": true
   },
   "outputs": [],
   "source": [
    "# plot\n",
    "#sns.regplot(df.x, df.y);"
   ]
  },
  {
   "cell_type": "raw",
   "metadata": {
    "collapsed": false
   },
   "source": [
    "# split features and target\n",
    "X = df[['constant', 'x']]\n",
    "# fit model and summarize\n",
    "sm.OLS(y,X).fit().summary()"
   ]
  },
  {
   "cell_type": "code",
   "execution_count": null,
   "metadata": {
    "collapsed": true
   },
   "outputs": [],
   "source": []
  },
  {
   "cell_type": "code",
   "execution_count": 14,
   "metadata": {
    "collapsed": false
   },
   "outputs": [],
   "source": [
    "\n",
    "def MLERegression(params, x, y):\n",
    "    intercept, beta, sd = params[0], params[1], params[2] # inputs are guesses at our parameters\n",
    "    yhat = intercept + beta*x # predictions\n",
    "    # compute PDF of observed values normally distributed around mean (yhat)\n",
    "    # with a standard deviation of sd\n",
    "    negLL = -np.sum( stats.norm.logpdf(y, loc=yhat, scale=sd) )\n",
    "    return(negLL) # return negative LL"
   ]
  },
  {
   "cell_type": "code",
   "execution_count": 15,
   "metadata": {
    "collapsed": false
   },
   "outputs": [],
   "source": [
    "# let’s start with some random coefficient guesses and optimize\n",
    "\n",
    "guess = np.array([1,1,1])\n",
    "results = minimize(MLERegression, guess, method = 'Nelder-Mead', args=(xdata,ydata)) ##options={'disp': True})\n"
   ]
  },
  {
   "cell_type": "code",
   "execution_count": 16,
   "metadata": {
    "collapsed": false
   },
   "outputs": [
    {
     "data": {
      "text/plain": [
       "array([ 2.05149552,  0.52092067,  0.21987897])"
      ]
     },
     "execution_count": 16,
     "metadata": {},
     "output_type": "execute_result"
    }
   ],
   "source": [
    "results.x"
   ]
  },
  {
   "cell_type": "code",
   "execution_count": null,
   "metadata": {
    "collapsed": true
   },
   "outputs": [],
   "source": []
  }
 ],
 "metadata": {
  "kernelspec": {
   "display_name": "Python 2",
   "language": "python",
   "name": "python2"
  },
  "language_info": {
   "codemirror_mode": {
    "name": "ipython",
    "version": 2
   },
   "file_extension": ".py",
   "mimetype": "text/x-python",
   "name": "python",
   "nbconvert_exporter": "python",
   "pygments_lexer": "ipython2",
   "version": "2.7.11"
  }
 },
 "nbformat": 4,
 "nbformat_minor": 0
}
