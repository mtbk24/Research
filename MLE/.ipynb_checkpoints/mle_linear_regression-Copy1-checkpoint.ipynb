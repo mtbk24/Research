{
 "cells": [
  {
   "cell_type": "raw",
   "metadata": {},
   "source": [
    "Signature: minimize(fun, x0, args=(), method=None, jac=None, hess=None, hessp=None, bounds=None, constraints=(), tol=None, callback=None, options=None)\n",
    "Docstring:\n",
    "Minimization of scalar function of one or more variables.\n",
    "\n",
    "In general, the optimization problems are of the form::\n",
    "\n",
    "    minimize f(x) subject to\n",
    "\n",
    "    g_i(x) >= 0,  i = 1,...,m\n",
    "    h_j(x)  = 0,  j = 1,...,p\n",
    "\n",
    "where x is a vector of one or more variables.\n",
    "``g_i(x)`` are the inequality constraints.\n",
    "``h_j(x)`` are the equality constrains.\n",
    "\n",
    "Optionally, the lower and upper bounds for each element in x can also be\n",
    "specified using the `bounds` argument.\n",
    "\n",
    "Parameters\n",
    "----------\n",
    "fun : callable\n",
    "    Objective function.\n",
    "x0 : ndarray\n",
    "    Initial guess.\n",
    "args : tuple, optional\n",
    "    Extra arguments passed to the objective function and its\n",
    "    derivatives (Jacobian, Hessian).\n",
    "method : str or callable, optional\n",
    "    Type of solver.  Should be one of\n",
    "\n",
    "        - 'Nelder-Mead' :ref:`(see here) <optimize.minimize-neldermead>`\n",
    "        - 'Powell'      :ref:`(see here) <optimize.minimize-powell>`\n",
    "        - 'CG'          :ref:`(see here) <optimize.minimize-cg>`\n",
    "        - 'BFGS'        :ref:`(see here) <optimize.minimize-bfgs>`\n",
    "        - 'Newton-CG'   :ref:`(see here) <optimize.minimize-newtoncg>`\n",
    "        - 'L-BFGS-B'    :ref:`(see here) <optimize.minimize-lbfgsb>`\n",
    "        - 'TNC'         :ref:`(see here) <optimize.minimize-tnc>`\n",
    "        - 'COBYLA'      :ref:`(see here) <optimize.minimize-cobyla>`\n",
    "        - 'SLSQP'       :ref:`(see here) <optimize.minimize-slsqp>`\n",
    "        - 'dogleg'      :ref:`(see here) <optimize.minimize-dogleg>`\n",
    "        - 'trust-ncg'   :ref:`(see here) <optimize.minimize-trustncg>`\n",
    "        - custom - a callable object (added in version 0.14.0),\n",
    "          see below for description.\n",
    "\n",
    "    If not given, chosen to be one of ``BFGS``, ``L-BFGS-B``, ``SLSQP``,\n",
    "    depending if the problem has constraints or bounds."
   ]
  },
  {
   "cell_type": "code",
   "execution_count": 130,
   "metadata": {
    "collapsed": true
   },
   "outputs": [],
   "source": [
    "from __future__ import division\n",
    "from scipy.optimize import minimize\n",
    "import pandas as pd\n",
    "from math import pi\n",
    "import numpy as np\n",
    "from numpy import std, exp, log, log10\n",
    "\n",
    "import matplotlib.pyplot as plt\n",
    "%matplotlib inline\n"
   ]
  },
  {
   "cell_type": "markdown",
   "metadata": {},
   "source": [
    "### Log-Likelihood function and Linear Model to minimize."
   ]
  },
  {
   "cell_type": "code",
   "execution_count": 131,
   "metadata": {
    "collapsed": true
   },
   "outputs": [],
   "source": [
    "def LogLikelihood(estimate, true, n, sigma):\n",
    "    error = true - estimate   # ydata - yModel, aka residual\n",
    "    L = (-0.5*n*log(2.0*pi*sigma*sigma)) - (sum(error**2)/(2.0*sigma*sigma))\n",
    "    return L\n",
    "    \n",
    "def line(parameters, x, y):\n",
    "    m,b,sigma = parameters # m:slope, b:yintercept\n",
    "    yModel    = m * x + b  # estimate of y based on model. \n",
    "    #f         = LogLikelihood(yModel, y, len(yModel), sigma)\n",
    "    return (-1 * LogLikelihood(yModel, y, len(yModel), sigma) )"
   ]
  },
  {
   "cell_type": "markdown",
   "metadata": {},
   "source": [
    "### READ IN DATA"
   ]
  },
  {
   "cell_type": "code",
   "execution_count": 136,
   "metadata": {
    "collapsed": true
   },
   "outputs": [],
   "source": [
    "data  = pd.read_csv('/Users/KimiZ/GRBs2/Sample/AmatiDataSample.txt', sep=',', header=0)\n",
    "xdata = log10(data.eiso/(1.0E52))\n",
    "ydata = log10(data.epeakRest)\n",
    "\n",
    "lower = log10(data.epeakRest) - log10(data.epeakRest - data.epeakRest_err_low)\n",
    "upper = log10(data.epeakRest - data.epeakRest_err_up) - log10(data.epeakRest) \n",
    "\n",
    "# these errors are symmetric, so the values will be the same, but opposite signs - use either.\n",
    "yerr  = abs(lower)  # or abs(upper) \n",
    "\n",
    "\n",
    "lower = log10(data.eiso/(1.0E52)) - log10(data.eiso/(1.0E52) - data.eiso_err_low/(1.0E52))\n",
    "upper = log10(data.eiso/(1.0E52) - data.eiso_err_up/(1.0E52)) - log10(data.eiso/(1.0E52)) \n",
    "\n",
    "# these errors are symmetric, so the values will be the same, but opposite signs - use either.\n",
    "xerr  = abs(lower)  # or abs(upper) "
   ]
  },
  {
   "cell_type": "code",
   "execution_count": 138,
   "metadata": {
    "collapsed": false
   },
   "outputs": [
    {
     "data": {
      "text/plain": [
       "      fun: -14.637374487584538\n",
       " hess_inv: <3x3 LbfgsInvHessProduct with dtype=float64>\n",
       "      jac: array([-0.00030695,  0.00020606,  0.00014779])\n",
       "  message: 'CONVERGENCE: REL_REDUCTION_OF_F_<=_FACTR*EPSMCH'\n",
       "     nfev: 108\n",
       "      nit: 15\n",
       "   status: 0\n",
       "  success: True\n",
       "        x: array([ 0.52089852,  2.05148981,  0.21989446])"
      ]
     },
     "execution_count": 138,
     "metadata": {},
     "output_type": "execute_result"
    }
   ],
   "source": [
    "# run the calculations\n",
    "res = minimize(fun=line,               # function to minimize (linear model)\n",
    "               x0=np.array([1,1,1]),   # initial guess for all parameters. \n",
    "               method='L-BFGS-B',      # method of solver. \n",
    "               args=(xdata, ydata))    # extra arguments to pass to the function. \n",
    "                                       # Ours are x an y values.  \n",
    "\n",
    "res"
   ]
  },
  {
   "cell_type": "code",
   "execution_count": 139,
   "metadata": {
    "collapsed": false
   },
   "outputs": [
    {
     "data": {
      "image/png": "[encoded data removed]",
      "text/plain": [
       "<matplotlib.figure.Figure at 0x111fb49d0>"
      ]
     },
     "metadata": {},
     "output_type": "display_data"
    }
   ],
   "source": [
    "plt.errorbar(x=xdata, y=ydata,\n",
    "             xerr=xerr,\n",
    "             yerr=yerr,\n",
    "             fmt='k.')\n",
    "plt.show()"
   ]
  },
  {
   "cell_type": "code",
   "execution_count": null,
   "metadata": {
    "collapsed": true
   },
   "outputs": [],
   "source": []
  },
  {
   "cell_type": "code",
   "execution_count": null,
   "metadata": {
    "collapsed": true
   },
   "outputs": [],
   "source": []
  },
  {
   "cell_type": "code",
   "execution_count": null,
   "metadata": {
    "collapsed": true
   },
   "outputs": [],
   "source": []
  },
  {
   "cell_type": "code",
   "execution_count": null,
   "metadata": {
    "collapsed": true
   },
   "outputs": [],
   "source": []
  },
  {
   "cell_type": "code",
   "execution_count": null,
   "metadata": {
    "collapsed": true
   },
   "outputs": [],
   "source": []
  },
  {
   "cell_type": "code",
   "execution_count": null,
   "metadata": {
    "collapsed": true
   },
   "outputs": [],
   "source": []
  },
  {
   "cell_type": "code",
   "execution_count": 52,
   "metadata": {
    "collapsed": false
   },
   "outputs": [],
   "source": [
    "def lnlike(theta, x, y, yerr):\n",
    "    m, b, lnf = theta\n",
    "    model = m * x + b\n",
    "    inv_sigma2 = 1.0/(yerr**2 + model**2*np.exp(2*lnf))\n",
    "    return -0.5*(np.sum((y-model)**2*inv_sigma2 - np.log(inv_sigma2)))\n",
    "\n",
    "def nll(*args):\n",
    "    return -lnlike(*args)\n",
    "\n",
    "#minimize(nll, [m_true, b_true, np.log(f_true)], args=(x, y, yerr))\n",
    "#m_ml, b_ml, lnf_ml = result[\"x\"]"
   ]
  },
  {
   "cell_type": "code",
   "execution_count": 53,
   "metadata": {
    "collapsed": false
   },
   "outputs": [
    {
     "data": {
      "text/plain": [
       "      fun: 182.9868421699436\n",
       " hess_inv: array([[ 0.01151157,  0.00582477, -0.00599263],\n",
       "       [ 0.00582477,  0.0037781 , -0.00335199],\n",
       "       [-0.00599263, -0.00335199,  0.00759249]])\n",
       "      jac: array([ -1.90734863e-06,   0.00000000e+00,   0.00000000e+00])\n",
       "  message: 'Optimization terminated successfully.'\n",
       "     nfev: 85\n",
       "      nit: 14\n",
       "     njev: 17\n",
       "   status: 0\n",
       "  success: True\n",
       "        x: array([ 1.75632929,  1.03234475, -0.33787365])"
      ]
     },
     "execution_count": 53,
     "metadata": {},
     "output_type": "execute_result"
    }
   ],
   "source": [
    "minimize(nll, np.array([1,1,1]), args=(xdata, ydata, yerr))"
   ]
  },
  {
   "cell_type": "code",
   "execution_count": null,
   "metadata": {
    "collapsed": true
   },
   "outputs": [],
   "source": []
  },
  {
   "cell_type": "code",
   "execution_count": null,
   "metadata": {
    "collapsed": true
   },
   "outputs": [],
   "source": []
  },
  {
   "cell_type": "code",
   "execution_count": 75,
   "metadata": {
    "collapsed": false
   },
   "outputs": [
    {
     "data": {
      "text/plain": [
       "      fun: -146.59599372582798\n",
       " hess_inv: <3x3 LbfgsInvHessProduct with dtype=float64>\n",
       "      jac: array([-0.00166267, -0.00166551,  0.00027001])\n",
       "  message: 'CONVERGENCE: REL_REDUCTION_OF_F_<=_FACTR*EPSMCH'\n",
       "     nfev: 64\n",
       "      nit: 12\n",
       "   status: 0\n",
       "  success: True\n",
       "        x: array([ 0.54583405,  2.02100751, -2.54144037])"
      ]
     },
     "execution_count": 75,
     "metadata": {},
     "output_type": "execute_result"
    }
   ],
   "source": [
    "def lnlike(theta, x, y, yerr):\n",
    "    m, b, lnf = theta\n",
    "    model = m * x + b\n",
    "    inv_sigma2 = 1.0/(yerr**2 + model**2*np.exp(2*lnf))\n",
    "    return -0.5*(np.sum((y-model)**2*inv_sigma2 - np.log(inv_sigma2)))\n",
    "\n",
    "nll = lambda *args: -lnlike(*args)\n",
    "\n",
    "# minimize(nll, [m_true, b_true, np.log(f_true)], args=(x, y, yerr))\n",
    "# m_ml, b_ml, lnf_ml = result[\"x\"]\n",
    "\n",
    "minimize(nll, np.array([.5,2,0]), args=(xdata, ydata, yerr),  method='L-BFGS-B')"
   ]
  },
  {
   "cell_type": "raw",
   "metadata": {},
   "source": [
    "x: array([ 0.52089852,  2.05148981,  0.21989446])"
   ]
  },
  {
   "cell_type": "raw",
   "metadata": {},
   "source": [
    "                ** x: array([ 0.52089852,  2.05148981,  0.21989446])"
   ]
  },
  {
   "cell_type": "code",
   "execution_count": 115,
   "metadata": {
    "collapsed": false
   },
   "outputs": [
    {
     "data": {
      "text/plain": [
       "      fun: -151.43101295347972\n",
       " hess_inv: <3x3 LbfgsInvHessProduct with dtype=float64>\n",
       "      jac: array([ -7.02016223e-04,  -9.57811608e-04,  -2.55795385e-05])\n",
       "  message: 'CONVERGENCE: REL_REDUCTION_OF_F_<=_FACTR*EPSMCH'\n",
       "     nfev: 56\n",
       "      nit: 10\n",
       "   status: 0\n",
       "  success: True\n",
       "        x: array([ 0.55650958,  2.02031699, -2.41243382])"
      ]
     },
     "execution_count": 115,
     "metadata": {},
     "output_type": "execute_result"
    }
   ],
   "source": [
    "minimize(nll, np.array([.5,2,-2]), args=(xdata, ydata, 0),  method='L-BFGS-B')"
   ]
  },
  {
   "cell_type": "code",
   "execution_count": null,
   "metadata": {
    "collapsed": true
   },
   "outputs": [],
   "source": []
  },
  {
   "cell_type": "code",
   "execution_count": null,
   "metadata": {
    "collapsed": true
   },
   "outputs": [],
   "source": []
  },
  {
   "cell_type": "code",
   "execution_count": 74,
   "metadata": {
    "collapsed": false
   },
   "outputs": [
    {
     "data": {
      "text/plain": [
       "      fun: -146.59599372656078\n",
       " hess_inv: <3x3 LbfgsInvHessProduct with dtype=float64>\n",
       "      jac: array([  2.84217094e-06,   5.68434189e-06,   0.00000000e+00])\n",
       "  message: 'CONVERGENCE: NORM_OF_PROJECTED_GRADIENT_<=_PGTOL'\n",
       "     nfev: 96\n",
       "      nit: 13\n",
       "   status: 0\n",
       "  success: True\n",
       "        x: array([ 0.54583422,  2.02100796, -2.54144189])"
      ]
     },
     "execution_count": 74,
     "metadata": {},
     "output_type": "execute_result"
    }
   ],
   "source": [
    "minimize(nll, np.array([.6, 3,.3]), args=(xdata, ydata, yerr),  method='L-BFGS-B')"
   ]
  },
  {
   "cell_type": "code",
   "execution_count": 65,
   "metadata": {
    "collapsed": false
   },
   "outputs": [
    {
     "data": {
      "text/plain": [
       "      fun: -151.43101295362538\n",
       " hess_inv: array([[  1.76100932e-04,  -5.29855746e-05,  -2.60356265e-05],\n",
       "       [ -5.29855746e-05,   3.10257057e-04,  -1.05593659e-04],\n",
       "       [ -2.60356265e-05,  -1.05593659e-04,   3.32495508e-03]])\n",
       "      jac: array([  0.00000000e+00,  -3.81469727e-06,  -3.81469727e-06])\n",
       "  message: 'Optimization terminated successfully.'\n",
       "     nfev: 165\n",
       "      nit: 15\n",
       "     njev: 33\n",
       "   status: 0\n",
       "  success: True\n",
       "        x: array([ 0.55650965,  2.02031724, -2.41243386])"
      ]
     },
     "execution_count": 65,
     "metadata": {},
     "output_type": "execute_result"
    }
   ],
   "source": [
    "minimize(nll, np.array([.5, 3,.3]), args=(xdata, ydata, 0))"
   ]
  },
  {
   "cell_type": "code",
   "execution_count": 61,
   "metadata": {
    "collapsed": false
   },
   "outputs": [
    {
     "data": {
      "text/plain": [
       "0.002874472247705048"
      ]
     },
     "execution_count": 61,
     "metadata": {},
     "output_type": "execute_result"
    }
   ],
   "source": [
    "10**(-2.54144188)"
   ]
  },
  {
   "cell_type": "code",
   "execution_count": 63,
   "metadata": {
    "collapsed": false
   },
   "outputs": [
    {
     "data": {
      "text/plain": [
       "0.40483371661993806"
      ]
     },
     "execution_count": 63,
     "metadata": {},
     "output_type": "execute_result"
    }
   ],
   "source": [
    "np.log10(2.54)"
   ]
  },
  {
   "cell_type": "code",
   "execution_count": null,
   "metadata": {
    "collapsed": true
   },
   "outputs": [],
   "source": []
  },
  {
   "cell_type": "code",
   "execution_count": null,
   "metadata": {
    "collapsed": true
   },
   "outputs": [],
   "source": [
    "# run the calculations\n",
    "res = minimize(fun=lnlike,             # function to minimize (linear model)\n",
    "               x0=np.array([1,1,1]),   # initial guess for all parameters. \n",
    "               method='L-BFGS-B',      # method of solver. \n",
    "               args=(xdata, ydata))    # extra arguments to pass to the function. \n",
    "                                       # Ours are x an y values.  \n",
    "\n",
    "res"
   ]
  },
  {
   "cell_type": "code",
   "execution_count": null,
   "metadata": {
    "collapsed": false
   },
   "outputs": [],
   "source": [
    "minimize(lnlike, np.array([1,1,1,1], ), method='L-BFGS-B')"
   ]
  },
  {
   "cell_type": "code",
   "execution_count": null,
   "metadata": {
    "collapsed": true
   },
   "outputs": [],
   "source": []
  },
  {
   "cell_type": "code",
   "execution_count": null,
   "metadata": {
    "collapsed": true
   },
   "outputs": [],
   "source": []
  },
  {
   "cell_type": "code",
   "execution_count": null,
   "metadata": {
    "collapsed": true
   },
   "outputs": [],
   "source": []
  },
  {
   "cell_type": "markdown",
   "metadata": {},
   "source": [
    "## The first example we show uses two separate functions:"
   ]
  },
  {
   "cell_type": "code",
   "execution_count": null,
   "metadata": {
    "collapsed": true
   },
   "outputs": [],
   "source": [
    "data  = pd.read_csv('/Users/KimiZ/GRBs2/Sample/AmatiDataSample.txt', sep=',', header=0)\n",
    "x     = log10(data.eiso/(1.0E52))\n",
    "y     = log10(data.epeakRest)"
   ]
  },
  {
   "cell_type": "code",
   "execution_count": null,
   "metadata": {
    "collapsed": true
   },
   "outputs": [],
   "source": [
    "def calcLogLikelihood(estimate, true, n, sigma):\n",
    "    '''\n",
    "    This is already set up for the chi-squared as the statistic to minimize.\n",
    "    \n",
    "    It is in likelihood format:\n",
    "    f = ((1./(2*pi* (sig^2)))^(n/2)) * exp(- ( np.dot(error.T, error)/(2 * (sig^2))))\n",
    "    f is the likelihood funtion\n",
    "    loglike = log(f)\n",
    "    \n",
    "    In log-likelihood format, this would be:\n",
    "    \n",
    "    l(theta) = -(n/2)*log(2*pi*(sig^2)) - (1/(2*(sig^2))) * np.dot(error.T, error)\n",
    "    where error is the error matrix:\n",
    "    (Y - X * theta).T (Y-X * theta)\n",
    "    \n",
    "    '''\n",
    "    error = true - estimate   # ydata - yModel, aka residual\n",
    "    print('%i: %.8f '%(next(it), sigma))\n",
    "#     f = (-0.5*n*log(2.0*pi*sigma*sigma)) - (sum(error**2)/(2.0*sigma*sigma))\n",
    "#     return f    \n",
    "    f           = ((1.0/(2.0*pi*sigma*sigma))**(n/2))* \\\n",
    "                    exp(-1*((np.dot(error.T, error))/(2*sigma*sigma)))\n",
    "    return np.log(f)\n",
    "\n",
    "    \n",
    "def line(parameters):\n",
    "    '''\n",
    "    \n",
    "    Function to be minimized. This is a linear model. \n",
    "    \n",
    "    '''\n",
    "    m,b,sigma = parameters # m-slope, b-yintercept, scatter\n",
    "    yModel    = m * x + b  # estimate of y based on model. \n",
    "    f         = calcLogLikelihood(yModel, y, len(yModel), sigma)\n",
    "    return (-1*f)"
   ]
  },
  {
   "cell_type": "code",
   "execution_count": null,
   "metadata": {
    "collapsed": false
   },
   "outputs": [],
   "source": [
    "it = iter(np.linspace(1,1000,1000))\n",
    "res = minimize(line, np.array([1,1,1]), method='L-BFGS-B'); res"
   ]
  },
  {
   "cell_type": "code",
   "execution_count": null,
   "metadata": {
    "collapsed": true
   },
   "outputs": [],
   "source": []
  },
  {
   "cell_type": "code",
   "execution_count": null,
   "metadata": {
    "collapsed": true
   },
   "outputs": [],
   "source": []
  },
  {
   "cell_type": "code",
   "execution_count": null,
   "metadata": {
    "collapsed": true
   },
   "outputs": [],
   "source": []
  },
  {
   "cell_type": "code",
   "execution_count": null,
   "metadata": {
    "collapsed": false
   },
   "outputs": [],
   "source": [
    "it = iter(np.linspace(1,1000,1000))\n",
    "res = minimize(line, np.array([1,1,1]), method='L-BFGS-B'); res"
   ]
  },
  {
   "cell_type": "code",
   "execution_count": null,
   "metadata": {
    "collapsed": true
   },
   "outputs": [],
   "source": []
  },
  {
   "cell_type": "code",
   "execution_count": null,
   "metadata": {
    "collapsed": true
   },
   "outputs": [],
   "source": []
  },
  {
   "cell_type": "code",
   "execution_count": null,
   "metadata": {
    "collapsed": true
   },
   "outputs": [],
   "source": [
    "def LogLikelihood(estimate, true, n):\n",
    "    '''\n",
    "    LogLikelihood(estimate, true, n)\n",
    "    -- this function calculates the log-likelihood. To maximize \n",
    "        the likelihood you minimize: -1 * max(likelihood)\n",
    "\n",
    "    \n",
    "    PARAMETERS:\n",
    "    ----------\n",
    "    \n",
    "    estimate: float, is the estimate for y based on the model. \n",
    "    true:     float, is the y-data value. \n",
    "    n:        float, length of the estimate. \n",
    "    \n",
    "    RETURNS:\n",
    "    ----------\n",
    "    returns the log-likelihood. \n",
    "    \n",
    "    \n",
    "    NOTES:\n",
    "    ----------\n",
    "    The error is the true - estimate, or ydata - ymodel. These are also known \n",
    "    as the residuals of the fit; the distances between the actual data point \n",
    "    along the y-axis and the model. Errors/residuals are along y-axis only\n",
    "    meaning they are the vertical offsets and not perpendicular offsets. \n",
    "    Vertical offsets are the most common in linear regression. \n",
    "    \n",
    "    The likelihood function is set up for chi-squared as the statistic to minimize. \n",
    "        \n",
    "    It is in likelihood format:\n",
    "    L = ((1./(2*pi* (sig^2)))^(n/2)) * exp(- ( np.dot(error.T, error)/(2 * (sig^2))))\n",
    "\n",
    "    In log-likelihood format:\n",
    "    LogLike = -(n/2)*log(2*pi*(sig^2)) - (1/(2*(sig^2))) * np.dot(error.T, error)\n",
    "    \n",
    "    L is called the likelihood funtion. LogLike is the log of the likelihood function;\n",
    "    thus, LogLike = log(L).\n",
    "    \n",
    "    error is the error matrix:\n",
    "    (Y - X * theta).T  (Y-X * theta)\n",
    "    \n",
    "    .T stands for the transpose \n",
    "    \n",
    "    '''\n",
    "    error       = true - estimate   # ydata - yModel\n",
    "    sigma       = std(error)        # residual\n",
    "    print('%i: %.8f '%(next(it), sigma))\n",
    "    L = ((1.0/(2.0*pi*sigma*sigma))**(n/2.)) * exp(-1*((np.dot(error.T, error))/(2.*sigma*sigma)))\n",
    "    return log(L) # log-likelihood.\n",
    "\n",
    "    \n",
    "def line(parameters):\n",
    "    '''\n",
    "    line(parameters)\n",
    "    -- Linear model. This is the function that will be minimized \n",
    "        by the LogLikelihood function. \n",
    "    \n",
    "    PARAMETERS:\n",
    "    ----------\n",
    "    parameters: list, [m, b], where m and b are the slope and y-intercept. \n",
    "        \n",
    "    '''\n",
    "    m,b       = parameters # m:slope, b:yintercept\n",
    "    yModel    = m * x + b  # estimate of y based on model. \n",
    "    f         = LogLikelihood(yModel, y, len(yModel))\n",
    "    return (-1*f)"
   ]
  },
  {
   "cell_type": "code",
   "execution_count": null,
   "metadata": {
    "collapsed": false
   },
   "outputs": [],
   "source": [
    "it = iter(np.linspace(1,1000,1000))\n",
    "res = minimize(line, np.array([0.5, 2]), method='L-BFGS-B')\n",
    "res\n",
    "      "
   ]
  },
  {
   "cell_type": "code",
   "execution_count": null,
   "metadata": {
    "collapsed": false
   },
   "outputs": [],
   "source": [
    "it = iter(np.linspace(1,1000,1000))\n",
    "res = minimize(line, np.array([1,1]), method='L-BFGS-B')\n",
    "res\n",
    "   "
   ]
  },
  {
   "cell_type": "code",
   "execution_count": null,
   "metadata": {
    "collapsed": true
   },
   "outputs": [],
   "source": []
  }
 ],
 "metadata": {
  "kernelspec": {
   "display_name": "Python 2",
   "language": "python",
   "name": "python2"
  },
  "language_info": {
   "codemirror_mode": {
    "name": "ipython",
    "version": 2
   },
   "file_extension": ".py",
   "mimetype": "text/x-python",
   "name": "python",
   "nbconvert_exporter": "python",
   "pygments_lexer": "ipython2",
   "version": "2.7.11"
  }
 },
 "nbformat": 4,
 "nbformat_minor": 0
}
