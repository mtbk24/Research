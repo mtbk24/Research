{
 "cells": [
  {
   "cell_type": "raw",
   "metadata": {},
   "source": [
    "# -*- coding: utf-8 -*-\n",
    "\"\"\"\n",
    "Created on Mon Nov 27 02:46:12 2017\n",
    "\n",
    "@author: KimiZ\n",
    "\n",
    "\n",
    "Maximum Likelihood Estimation Linear Regression\n",
    "\n",
    "Sources:\n",
    "   http://jekel.me/2016/Maximum-Likelihood-Linear-Regression/\n",
    "   http://suriyadeepan.github.io/2017-01-22-mle-linear-regression/\n",
    "\n",
    "   Data analysis recipes: Fitting a model to data∗  \n",
    "      David W. Hogg, Jo Bovy, Dustin Lang (2010)\n",
    "        Equations 9-11\n",
    "          https://arxiv.org/pdf/1008.4686.pdf\n",
    "\n",
    "\"\"\""
   ]
  },
  {
   "cell_type": "code",
   "execution_count": 8,
   "metadata": {
    "collapsed": true
   },
   "outputs": [],
   "source": [
    "import sklearn\n",
    "from sklearn import linear_model"
   ]
  },
  {
   "cell_type": "code",
   "execution_count": 4,
   "metadata": {
    "collapsed": false
   },
   "outputs": [
    {
     "data": {
      "text/plain": [
       "'0.18.1'"
      ]
     },
     "execution_count": 4,
     "metadata": {},
     "output_type": "execute_result"
    }
   ],
   "source": [
    "sklearn.__version__"
   ]
  },
  {
   "cell_type": "code",
   "execution_count": 5,
   "metadata": {
    "collapsed": false,
    "scrolled": true
   },
   "outputs": [
    {
     "data": {
      "text/plain": [
       "{'__SKLEARN_SETUP__': False,\n",
       " '__all__': ['calibration',\n",
       "  'cluster',\n",
       "  'covariance',\n",
       "  'cross_decomposition',\n",
       "  'cross_validation',\n",
       "  'datasets',\n",
       "  'decomposition',\n",
       "  'dummy',\n",
       "  'ensemble',\n",
       "  'exceptions',\n",
       "  'externals',\n",
       "  'feature_extraction',\n",
       "  'feature_selection',\n",
       "  'gaussian_process',\n",
       "  'grid_search',\n",
       "  'isotonic',\n",
       "  'kernel_approximation',\n",
       "  'kernel_ridge',\n",
       "  'lda',\n",
       "  'learning_curve',\n",
       "  'linear_model',\n",
       "  'manifold',\n",
       "  'metrics',\n",
       "  'mixture',\n",
       "  'model_selection',\n",
       "  'multiclass',\n",
       "  'multioutput',\n",
       "  'naive_bayes',\n",
       "  'neighbors',\n",
       "  'neural_network',\n",
       "  'pipeline',\n",
       "  'preprocessing',\n",
       "  'qda',\n",
       "  'random_projection',\n",
       "  'semi_supervised',\n",
       "  'svm',\n",
       "  'tree',\n",
       "  'discriminant_analysis',\n",
       "  'clone'],\n",
       " '__builtins__': {'ArithmeticError': ArithmeticError,\n",
       "  'AssertionError': AssertionError,\n",
       "  'AttributeError': AttributeError,\n",
       "  'BaseException': BaseException,\n",
       "  'BufferError': BufferError,\n",
       "  'BytesWarning': BytesWarning,\n",
       "  'DeprecationWarning': DeprecationWarning,\n",
       "  'EOFError': EOFError,\n",
       "  'Ellipsis': Ellipsis,\n",
       "  'EnvironmentError': EnvironmentError,\n",
       "  'Exception': Exception,\n",
       "  'False': False,\n",
       "  'FloatingPointError': FloatingPointError,\n",
       "  'FutureWarning': FutureWarning,\n",
       "  'GeneratorExit': GeneratorExit,\n",
       "  'IOError': IOError,\n",
       "  'ImportError': ImportError,\n",
       "  'ImportWarning': ImportWarning,\n",
       "  'IndentationError': IndentationError,\n",
       "  'IndexError': IndexError,\n",
       "  'KeyError': KeyError,\n",
       "  'KeyboardInterrupt': KeyboardInterrupt,\n",
       "  'LookupError': LookupError,\n",
       "  'MemoryError': MemoryError,\n",
       "  'NameError': NameError,\n",
       "  'None': None,\n",
       "  'NotImplemented': NotImplemented,\n",
       "  'NotImplementedError': NotImplementedError,\n",
       "  'OSError': OSError,\n",
       "  'OverflowError': OverflowError,\n",
       "  'PendingDeprecationWarning': PendingDeprecationWarning,\n",
       "  'ReferenceError': ReferenceError,\n",
       "  'RuntimeError': RuntimeError,\n",
       "  'RuntimeWarning': RuntimeWarning,\n",
       "  'StandardError': StandardError,\n",
       "  'StopIteration': StopIteration,\n",
       "  'SyntaxError': SyntaxError,\n",
       "  'SyntaxWarning': SyntaxWarning,\n",
       "  'SystemError': SystemError,\n",
       "  'SystemExit': SystemExit,\n",
       "  'TabError': TabError,\n",
       "  'True': True,\n",
       "  'TypeError': TypeError,\n",
       "  'UnboundLocalError': UnboundLocalError,\n",
       "  'UnicodeDecodeError': UnicodeDecodeError,\n",
       "  'UnicodeEncodeError': UnicodeEncodeError,\n",
       "  'UnicodeError': UnicodeError,\n",
       "  'UnicodeTranslateError': UnicodeTranslateError,\n",
       "  'UnicodeWarning': UnicodeWarning,\n",
       "  'UserWarning': UserWarning,\n",
       "  'ValueError': ValueError,\n",
       "  'Warning': Warning,\n",
       "  'ZeroDivisionError': ZeroDivisionError,\n",
       "  '__IPYTHON__': True,\n",
       "  '__debug__': True,\n",
       "  '__doc__': \"Built-in functions, exceptions, and other objects.\\n\\nNoteworthy: None is the `nil' object; Ellipsis represents `...' in slices.\",\n",
       "  '__import__': <function __import__>,\n",
       "  '__name__': '__builtin__',\n",
       "  '__package__': None,\n",
       "  'abs': <function abs>,\n",
       "  'all': <function all>,\n",
       "  'any': <function any>,\n",
       "  'apply': <function apply>,\n",
       "  'basestring': basestring,\n",
       "  'bin': <function bin>,\n",
       "  'bool': bool,\n",
       "  'buffer': buffer,\n",
       "  'bytearray': bytearray,\n",
       "  'bytes': str,\n",
       "  'callable': <function callable>,\n",
       "  'chr': <function chr>,\n",
       "  'classmethod': classmethod,\n",
       "  'cmp': <function cmp>,\n",
       "  'coerce': <function coerce>,\n",
       "  'compile': <function compile>,\n",
       "  'complex': complex,\n",
       "  'copyright': Copyright (c) 2001-2015 Python Software Foundation.\n",
       "  All Rights Reserved.\n",
       "  \n",
       "  Copyright (c) 2000 BeOpen.com.\n",
       "  All Rights Reserved.\n",
       "  \n",
       "  Copyright (c) 1995-2001 Corporation for National Research Initiatives.\n",
       "  All Rights Reserved.\n",
       "  \n",
       "  Copyright (c) 1991-1995 Stichting Mathematisch Centrum, Amsterdam.\n",
       "  All Rights Reserved.,\n",
       "  'credits':     Thanks to CWI, CNRI, BeOpen.com, Zope Corporation and a cast of thousands\n",
       "      for supporting Python development.  See www.python.org for more information.,\n",
       "  'delattr': <function delattr>,\n",
       "  'dict': dict,\n",
       "  'dir': <function dir>,\n",
       "  'display': <function IPython.core.display.display>,\n",
       "  'divmod': <function divmod>,\n",
       "  'dreload': <function IPython.lib.deepreload._dreload>,\n",
       "  'enumerate': enumerate,\n",
       "  'eval': <function eval>,\n",
       "  'execfile': <function execfile>,\n",
       "  'file': file,\n",
       "  'filter': <function filter>,\n",
       "  'float': float,\n",
       "  'format': <function format>,\n",
       "  'frozenset': frozenset,\n",
       "  'get_ipython': <bound method ZMQInteractiveShell.get_ipython of <ipykernel.zmqshell.ZMQInteractiveShell object at 0x104112fd0>>,\n",
       "  'getattr': <function getattr>,\n",
       "  'globals': <function globals>,\n",
       "  'hasattr': <function hasattr>,\n",
       "  'hash': <function hash>,\n",
       "  'help': Type help() for interactive help, or help(object) for help about object.,\n",
       "  'hex': <function hex>,\n",
       "  'id': <function id>,\n",
       "  'input': <function ipykernel.ipkernel.<lambda>>,\n",
       "  'int': int,\n",
       "  'intern': <function intern>,\n",
       "  'isinstance': <function isinstance>,\n",
       "  'issubclass': <function issubclass>,\n",
       "  'iter': <function iter>,\n",
       "  'len': <function len>,\n",
       "  'license': Type license() to see the full license text,\n",
       "  'list': list,\n",
       "  'locals': <function locals>,\n",
       "  'long': long,\n",
       "  'map': <function map>,\n",
       "  'max': <function max>,\n",
       "  'memoryview': memoryview,\n",
       "  'min': <function min>,\n",
       "  'next': <function next>,\n",
       "  'object': object,\n",
       "  'oct': <function oct>,\n",
       "  'open': <function open>,\n",
       "  'ord': <function ord>,\n",
       "  'pow': <function pow>,\n",
       "  'print': <function print>,\n",
       "  'property': property,\n",
       "  'range': <function range>,\n",
       "  'raw_input': <bound method IPythonKernel.raw_input of <ipykernel.ipkernel.IPythonKernel object at 0x10413ac10>>,\n",
       "  'reduce': <function reduce>,\n",
       "  'reload': <function reload>,\n",
       "  'repr': <function repr>,\n",
       "  'reversed': reversed,\n",
       "  'round': <function round>,\n",
       "  'set': set,\n",
       "  'setattr': <function setattr>,\n",
       "  'slice': slice,\n",
       "  'sorted': <function sorted>,\n",
       "  'staticmethod': staticmethod,\n",
       "  'str': str,\n",
       "  'sum': <function sum>,\n",
       "  'super': super,\n",
       "  'tuple': tuple,\n",
       "  'type': type,\n",
       "  'unichr': <function unichr>,\n",
       "  'unicode': unicode,\n",
       "  'vars': <function vars>,\n",
       "  'xrange': xrange,\n",
       "  'zip': <function zip>},\n",
       " '__check_build': <module 'sklearn.__check_build' from '/Users/KimiZ/anaconda/lib/python2.7/site-packages/sklearn/__check_build/__init__.pyc'>,\n",
       " '__doc__': '\\nMachine learning module for Python\\n==================================\\n\\nsklearn is a Python module integrating classical machine\\nlearning algorithms in the tightly-knit world of scientific Python\\npackages (numpy, scipy, matplotlib).\\n\\nIt aims to provide simple and efficient solutions to learning problems\\nthat are accessible to everybody and reusable in various contexts:\\nmachine-learning as a versatile tool for science and engineering.\\n\\nSee http://scikit-learn.org for complete documentation.\\n',\n",
       " '__file__': '/Users/KimiZ/anaconda/lib/python2.7/site-packages/sklearn/__init__.pyc',\n",
       " '__name__': 'sklearn',\n",
       " '__package__': 'sklearn',\n",
       " '__path__': ['/Users/KimiZ/anaconda/lib/python2.7/site-packages/sklearn'],\n",
       " '__version__': '0.18.1',\n",
       " 'base': <module 'sklearn.base' from '/Users/KimiZ/anaconda/lib/python2.7/site-packages/sklearn/base.pyc'>,\n",
       " 'clone': <function sklearn.base.clone>,\n",
       " 'exceptions': <module 'sklearn.exceptions' from '/Users/KimiZ/anaconda/lib/python2.7/site-packages/sklearn/exceptions.pyc'>,\n",
       " 'externals': <module 'sklearn.externals' from '/Users/KimiZ/anaconda/lib/python2.7/site-packages/sklearn/externals/__init__.pyc'>,\n",
       " 're': <module 're' from '/Users/KimiZ/anaconda/lib/python2.7/re.pyc'>,\n",
       " 'setup_module': <function sklearn.setup_module>,\n",
       " 'sys': <module 'sys' (built-in)>,\n",
       " 'utils': <module 'sklearn.utils' from '/Users/KimiZ/anaconda/lib/python2.7/site-packages/sklearn/utils/__init__.pyc'>,\n",
       " 'warnings': <module 'warnings' from '/Users/KimiZ/anaconda/lib/python2.7/warnings.pyc'>}"
      ]
     },
     "execution_count": 5,
     "metadata": {},
     "output_type": "execute_result"
    }
   ],
   "source": [
    "sklearn.__dict__"
   ]
  },
  {
   "cell_type": "code",
   "execution_count": 11,
   "metadata": {
    "collapsed": false
   },
   "outputs": [],
   "source": [
    "linmod = linear_model.LinearRegression(fit_intercept=True, \n",
    "                                      normalize=False, \n",
    "                                      copy_X=True, n_jobs=None)#[source]"
   ]
  },
  {
   "cell_type": "code",
   "execution_count": 10,
   "metadata": {
    "collapsed": true
   },
   "outputs": [],
   "source": [
    "?linear_model.LinearRegression"
   ]
  },
  {
   "cell_type": "code",
   "execution_count": 3,
   "metadata": {
    "collapsed": false
   },
   "outputs": [
    {
     "ename": "AttributeError",
     "evalue": "'module' object has no attribute 'linear_model'",
     "output_type": "error",
     "traceback": [
      "\u001b[0;31m---------------------------------------------------------------------------\u001b[0m",
      "\u001b[0;31mAttributeError\u001b[0m                            Traceback (most recent call last)",
      "\u001b[0;32m<ipython-input-3-6bed02cf4a3d>\u001b[0m in \u001b[0;36m<module>\u001b[0;34m()\u001b[0m\n\u001b[0;32m----> 1\u001b[0;31m sklearn.linear_model.LinearRegression(fit_intercept=True, \n\u001b[0m\u001b[1;32m      2\u001b[0m                                       \u001b[0mnormalize\u001b[0m\u001b[0;34m=\u001b[0m\u001b[0mFalse\u001b[0m\u001b[0;34m,\u001b[0m\u001b[0;34m\u001b[0m\u001b[0m\n\u001b[1;32m      3\u001b[0m                                       copy_X=True, n_jobs=None)[source]\n",
      "\u001b[0;31mAttributeError\u001b[0m: 'module' object has no attribute 'linear_model'"
     ]
    }
   ],
   "source": [
    "sklearn.linear_model.LinearRegression(fit_intercept=True, \n",
    "                                      normalize=False, \n",
    "                                      copy_X=True, n_jobs=None)[source]"
   ]
  },
  {
   "cell_type": "code",
   "execution_count": 14,
   "metadata": {
    "collapsed": true
   },
   "outputs": [],
   "source": [
    "                \n",
    "#   perform least squares fit using scikitlearn\n",
    "from sklearn.preprocessing import PolynomialFeatures"
   ]
  },
  {
   "cell_type": "code",
   "execution_count": 15,
   "metadata": {
    "collapsed": true
   },
   "outputs": [],
   "source": [
    "from sklearn.linear_model import LinearRegression"
   ]
  },
  {
   "cell_type": "code",
   "execution_count": 16,
   "metadata": {
    "collapsed": true
   },
   "outputs": [],
   "source": [
    "from sklearn.pipeline import Pipeline"
   ]
  },
  {
   "cell_type": "code",
   "execution_count": 17,
   "metadata": {
    "collapsed": true
   },
   "outputs": [],
   "source": [
    "model = Pipeline([('poly', PolynomialFeatures(degree=2)),\n",
    "    ('linear', LinearRegression(fit_intercept=False))])"
   ]
  },
  {
   "cell_type": "code",
   "execution_count": 18,
   "metadata": {
    "collapsed": false
   },
   "outputs": [
    {
     "ename": "NameError",
     "evalue": "name 'x' is not defined",
     "output_type": "error",
     "traceback": [
      "\u001b[0;31m---------------------------------------------------------------------------\u001b[0m",
      "\u001b[0;31mNameError\u001b[0m                                 Traceback (most recent call last)",
      "\u001b[0;32m<ipython-input-18-b81711597eb0>\u001b[0m in \u001b[0;36m<module>\u001b[0;34m()\u001b[0m\n\u001b[0;32m----> 1\u001b[0;31m \u001b[0mmodel\u001b[0m \u001b[0;34m=\u001b[0m \u001b[0mmodel\u001b[0m\u001b[0;34m.\u001b[0m\u001b[0mfit\u001b[0m\u001b[0;34m(\u001b[0m\u001b[0mx\u001b[0m\u001b[0;34m[\u001b[0m\u001b[0;34m:\u001b[0m\u001b[0;34m,\u001b[0m \u001b[0mnp\u001b[0m\u001b[0;34m.\u001b[0m\u001b[0mnewaxis\u001b[0m\u001b[0;34m]\u001b[0m\u001b[0;34m,\u001b[0m \u001b[0my\u001b[0m\u001b[0;34m)\u001b[0m\u001b[0;34m\u001b[0m\u001b[0m\n\u001b[0m",
      "\u001b[0;31mNameError\u001b[0m: name 'x' is not defined"
     ]
    }
   ],
   "source": [
    "model = model.fit(x[:, np.newaxis], y)"
   ]
  },
  {
   "cell_type": "code",
   "execution_count": null,
   "metadata": {
    "collapsed": true
   },
   "outputs": [],
   "source": [
    "coefs = model.named_steps['linear'].coef_\n",
    "\n",
    "#   perform least squares fit using scikitlearn\n",
    "from sklearn.linear_model import LinearRegression\n",
    "from sklearn.pipeline import Pipeline\n",
    "model2 = Pipeline([('linear', LinearRegression(fit_intercept=True, normalize=True))])\n",
    "model3 = model2.fit(x[:, np.newaxis], y[:, np.newaxis])\n",
    "coefs = model3.named_steps['linear'].coef_\n",
    "residuals = model3.named_steps['linear'].residues_"
   ]
  },
  {
   "cell_type": "code",
   "execution_count": null,
   "metadata": {
    "collapsed": true
   },
   "outputs": [],
   "source": []
  },
  {
   "cell_type": "code",
   "execution_count": null,
   "metadata": {
    "collapsed": true
   },
   "outputs": [],
   "source": []
  },
  {
   "cell_type": "code",
   "execution_count": null,
   "metadata": {
    "collapsed": true
   },
   "outputs": [],
   "source": [
    "'''\n",
    "\n",
    "  Now that we have a function that works, we will use it in conjunction with a MCMC technique for generating data.\n",
    "  We do this to get uncertainty on our slope, y-intercept, and sigma scatter.\n",
    "\n",
    "\n",
    "'''\n",
    "\n",
    "\n",
    "\n",
    "\n",
    "#%%\n",
    "\n",
    "\n",
    "\n",
    "\n",
    "\n",
    "from __future__ import division\n",
    "import matplotlib.pyplot as plt\n",
    "import numpy as np\n",
    "import pandas as pd\n",
    "from scipy.optimize import minimize\n",
    "import emcee\n",
    "import corner\n",
    "#from Amati.tools import *\n",
    "\n",
    "\n",
    "\n",
    "\n",
    "#   AMATI DATA.\n",
    "data = None\n",
    "File            = '/Users/KimiZ/GRBs2/analysis/Sample/AmatiDataSample.txt'\n",
    "data            = pd.read_csv(File , sep=',', header=0)\n",
    "\n",
    "xdata           = np.log10(data.eiso/(1.0E52))\n",
    "ydata           = np.log10(data.epeak)\n",
    "xdataerr        = np.log10(data.eiso_err/(1.0E52))\n",
    "ydataerr        = np.log10(data.epeak_err)\n",
    "\n",
    "\n",
    "\n",
    "# ANOTHER VERSION OF THE SAME, BUT WRITTEN SLIGHTLY DIFFERENT.\n",
    "# THIS TIME WITH THE DOT PRODUCT AND MATRIX.\n",
    "def LogLikelihood(parameters, x, y):\n",
    "    m, b, sigma       = parameters\n",
    "    ymodel            = m * x + b\n",
    "    n                 = float(len(ymodel))\n",
    "    error             = y - ymodel  # true y data - model of a line (y - mx - b) or (y - (mx+b))\n",
    "    L   = ((n/2.) * np.log(2.*np.pi*sigma**2) + 1./(2.*sigma**2)* np.dot(error.T,error))\n",
    "    # SINCE WE LEFT OFF THE (-) SIGN IN THE EQUATION ABOVE FOR L, WE NEED TO DROP IT \n",
    "    # IN THE RETURN AS WELL. \n",
    "    return L\n",
    "\n",
    "#result = minimize(LogLikelihood, np.array([0.52,2,0.3]), method='L-BFGS-B', args=(x, y)); res\n",
    "\n",
    "x             = xdata\n",
    "y             = ydata\n",
    "\n",
    "result = minimize(LogLikelihood, np.array([1,1,1]), method='L-BFGS-B', args=(x, y)); result\n",
    "'''\n",
    "In [3]: result\n",
    "Out[3]: \n",
    "      fun: -14.637374487654924\n",
    " hess_inv: <3x3 LbfgsInvHessProduct with dtype=float64>\n",
    "      jac: array([  5.68434189e-06,   1.42108547e-06,   1.42108547e-06])\n",
    "  message: 'CONVERGENCE: NORM_OF_PROJECTED_GRADIENT_<=_PGTOL'\n",
    "     nfev: 112\n",
    "      nit: 16\n",
    "   status: 0\n",
    "  success: True\n",
    "        x: array([ 0.52089876,  2.05148951,  0.21989444])\n",
    "\n",
    "'''\n",
    "\n",
    "\n",
    "# SAVE THE PARAMETERS FOUND BY MAXIMUM LIKELIHOOD. WILL USE THESE TO GENERATE DATA BASED\n",
    "# OFF OF y = mx + b, WHERE m = m_ml AND b = b_ml, WITH SCATTER f_ml\n",
    "m_ml, b_ml, f_ml  = result[\"x\"]  # or result.x\n",
    "\n",
    "\n",
    "# PLOT THE DATA AND MODEL\n",
    "plt.scatter(x, y)\n",
    "plt.plot(x, result['x'][0] * x + result['x'][1])\n",
    "plt.show()\n",
    "\n",
    "\n",
    "def Prior(parameters):\n",
    "    m, b, f = parameters\n",
    "    #if 0.4 < m < 0.6 and 1.0 < b < 3.0 and 0.1 < f < 0.3:\n",
    "    #if 0.1 < m < 1.0 and 0.1 < b < 5.0 and 0.1 < f < 1.0:\n",
    "    if -1.0 < m < 1.0 and 0 < b < 10.0 and 0 < f < 1.0:\n",
    "        return 0.0\n",
    "    return -np.inf\n",
    "\n",
    "def Prob(parameters, x, y): \n",
    "    lp = Prior(parameters)\n",
    "    if not np.isfinite(lp):\n",
    "        return -np.inf\n",
    "    return lp - LogLikelihood(parameters, x, y) # lp + LogLikelihood(parameters, x, y) # our version needs - sign.\n",
    "\n",
    "\n",
    "ndim, nwalkers = 3, 100\n",
    "pos = [result.x + 1e-4*np.random.randn(ndim) for i in range(nwalkers)]\n",
    "\n",
    "sampler = emcee.EnsembleSampler(nwalkers, ndim, Prob, args=(x, y))\n",
    "sampler.run_mcmc(pos, 500)\n",
    "samples = sampler.chain[:, 50:, :].reshape((-1, ndim))\n",
    "\n",
    "\n",
    "# WE TAKE THE MAXIMUM LIKELIHOOD RETURNED VALUES TO BE THE TRUE ONES.\n",
    "m_true, b_true, f_true = result.x\n",
    "\n",
    "#samples[:, 2] = np.exp(samples[:, 2])  # our f parameter isn't logged.\n",
    "m_mcmc, b_mcmc, f_mcmc = map(lambda v: (v[1], v[2]-v[1], v[1]-v[0]), zip(*np.percentile(samples, [16, 50, 84], axis=0)))\n",
    "\n",
    "m_mcmc, b_mcmc, f_mcmc\n",
    "\n",
    "\n",
    "\n",
    "print('%.3f %.3f  %.3f'%(m_mcmc[0], m_mcmc[1], m_mcmc[2]))\n",
    "print('%.3f %.3f  %.3f'%(b_mcmc[0], b_mcmc[1], b_mcmc[2]))\n",
    "print('%.3f %.3f  %.3f'%(f_mcmc[0], f_mcmc[1], f_mcmc[2]))\n",
    "\n",
    "print('%.3f %.3f'%(m_mcmc[0], m_ml))\n",
    "print('%.3f %.3f'%(b_mcmc[0], b_ml))\n",
    "print('%.2f %.2f'%(f_mcmc[0], f_ml))\n",
    "\n",
    "m_err = (m_mcmc[1] + m_mcmc[2])/(2.0)\n",
    "b_err = (b_mcmc[1] + b_mcmc[2])/(2.0)\n",
    "f_err = (f_mcmc[1] + f_mcmc[2])/(2.0)\n",
    "\n",
    "\n",
    "\n",
    "print('\\n\\n')\n",
    "print('log(Epk) = b + m log(Eiso) \\n\\n b = %.3f (+- %.3f) \\n m = %.3f (+- %.3f) \\n f = %.2f (+- %.2f)'%(b_true,b_err,m_true,m_err,f_true,f_err))\n",
    "print('  f is the extrinsic scatter and sigma in the parameters. ')"
   ]
  },
  {
   "cell_type": "code",
   "execution_count": null,
   "metadata": {
    "collapsed": false
   },
   "outputs": [],
   "source": [
    "'''\n",
    "\n",
    "    PLOTS\n",
    "\n",
    "'''\n",
    "\n",
    "\n",
    "props = dict(boxstyle=None, facecolor='gainsboro', \n",
    "             linewidth=0.0, alpha=0.57)\n",
    "\n",
    "\n",
    "plt.figure(figsize=(6,5))\n",
    "xl = np.array([-10, 10])\n",
    "for m, b, f in samples[np.random.randint(len(samples), size=100)]:\n",
    "    plt.plot(xl, m * xl + b, color=\"k\", alpha=0.1)\n",
    "plt.plot(xl, m_true * xl + b_true, color=\"r\", lw=2, alpha=0.8)\n",
    "plt.errorbar(x, y, xerr=xdataerr, yerr=ydataerr, fmt=\".k\", \n",
    "             capsize=0, alpha=0.2)\n",
    "\n",
    "#plt.plot(x, 0.9 * x + b_true, color='green')\n",
    "plt.plot(x, y, \".\")\n",
    "plt.figtext(0.15,0.8,'$%s=%.3f + %.3f %s$'%('\\log E^*_{pk}',\n",
    "                                  b_true, m_true,\n",
    "                                  ' \\ \\log E_{iso}'), \n",
    "                                    fontsize=18,\n",
    "                                     bbox=props)                                 \n",
    "plt.ylim(0,5)\n",
    "plt.xlim(-5,5)\n",
    "plt.ylabel('$E^{*}_{pk}$ ($keV$)', fontsize=18)\n",
    "plt.xlabel('$E_{iso}$ ($erg$)', fontsize=18)\n",
    "plt.show()\n",
    "#fig.tight_layout(pad=0.25, w_pad=0, h_pad=0)\n",
    "#plt.savefig(\"/Users/KimiZ/GRBs2/python_modeling/plot_Amati_fullsample.png\", dpi=250)\n",
    "\n",
    "#%%\n",
    "\n",
    "print('%.3f %.3f  %.3f'%(m_mcmc[0], m_mcmc[1], m_mcmc[2]))\n",
    "print('%.3f %.3f  %.3f'%(b_mcmc[0], b_mcmc[1], b_mcmc[2]))\n",
    "print('%.3f %.3f  %.3f'%(f_mcmc[0], f_mcmc[1], f_mcmc[2]))\n",
    "\n",
    "m_err = (m_mcmc[1] + m_mcmc[2])/(2.0)\n",
    "b_err = (b_mcmc[1] + b_mcmc[2])/(2.0)\n",
    "f_err = (f_mcmc[1] + f_mcmc[2])/(2.0)\n",
    "\n",
    "\n",
    "\n",
    "props = dict(boxstyle=None, facecolor='gainsboro', linewidth=0.0, alpha=0.57)\n",
    "            \n",
    "label_dict = dict(fontsize=20)\n",
    "fig = corner.corner(samples, labels=[\"$m$\", \"$b$\", \"$\\sigma_{ext}$\"], \n",
    "                    truth_color='red', \n",
    "                    label_kwargs=label_dict,\n",
    "                    truths=[m_true, b_true, f_true])\n",
    "                    \n",
    "plt.figtext(0.5,0.71,'$\\log E^*_{pk} \\ =\\ b + m \\ \\log E_{iso}$ \\n\\n $b \\ =%.3f(\\pm%.3f)$ \\n $m=%.3f(\\pm%.3f)$ \\n $\\sigma_{ext}=%.2f (\\pm%.2f)$'%(b_true,b_err,m_true,m_err,f_true,f_err),\n",
    "                                    fontsize = 20,\n",
    "                                     bbox=props)                                 \n",
    "                                     \n",
    "#fig.savefig(\"/Users/KimiZ/GRBs2/python_modeling/cornerplot_Amati_fullsample.png\", dpi=250)\n",
    "\n",
    "\n",
    "#%%"
   ]
  },
  {
   "cell_type": "code",
   "execution_count": null,
   "metadata": {
    "collapsed": false
   },
   "outputs": [],
   "source": [
    "data  = pd.read_csv('/Users/KimiZ/GRBs2/Sample/AmatiDataSample.txt', sep=',', header=0)\n",
    "x     = np.log10(data.eiso/(1.0E52))\n",
    "y     = np.log10(data.epeak)"
   ]
  },
  {
   "cell_type": "code",
   "execution_count": null,
   "metadata": {
    "collapsed": true
   },
   "outputs": [],
   "source": []
  }
 ],
 "metadata": {
  "kernelspec": {
   "display_name": "Python 2",
   "language": "python",
   "name": "python2"
  },
  "language_info": {
   "codemirror_mode": {
    "name": "ipython",
    "version": 2
   },
   "file_extension": ".py",
   "mimetype": "text/x-python",
   "name": "python",
   "nbconvert_exporter": "python",
   "pygments_lexer": "ipython2",
   "version": "2.7.11"
  }
 },
 "nbformat": 4,
 "nbformat_minor": 0
}
