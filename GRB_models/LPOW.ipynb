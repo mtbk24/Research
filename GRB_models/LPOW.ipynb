{
 "cells": [
  {
   "cell_type": "markdown",
   "metadata": {},
   "source": [
    "# Power-Law\n",
    "\n",
    "This program shows you how to calcualte the integrated photon and energy fluxes of the PL using two different methods.\n",
    "\n",
    "1.  Integrating the Function in Wolfram Alpha and then passing an energy array to the integrated function.\n",
    "2.  Using scipy.integrate to numerically integrate the function. This way is more precise."
   ]
  },
  {
   "cell_type": "markdown",
   "metadata": {},
   "source": [
    "### The equation for the Power-Law :\n"
   ]
  },
  {
   "cell_type": "markdown",
   "metadata": {},
   "source": [
    "Original Function, before integration: \n",
    "    \n",
    "\\begin{equation}\n",
    "f\\left(E\\right) = N \\times \\left( \\frac{E}{100} \\right)^{\\alpha} dE \\ \\ \\ \\ \\ \\ \\ \\         \n",
    "\\end{equation}\n",
    "\n",
    "where $\\alpha$ is the power-law index."
   ]
  },
  {
   "cell_type": "markdown",
   "metadata": {},
   "source": [
    "### My version of this equation:"
   ]
  },
  {
   "cell_type": "markdown",
   "metadata": {},
   "source": [
    "Original Function, before integration: \n",
    "    \n",
    "    a:     power-law index\n",
    "    N:     normalization\n",
    "    E:     energy to integrate over, 10 to 10,000 keV\n",
    "\n",
    "\n",
    "    f(E) = N * ((E/100.0)**a)"
   ]
  },
  {
   "cell_type": "markdown",
   "metadata": {},
   "source": [
    "# Begin Program"
   ]
  },
  {
   "cell_type": "code",
   "execution_count": 1,
   "metadata": {
    "collapsed": true
   },
   "outputs": [],
   "source": [
    "from __future__ import division\n",
    "import numpy as np\n",
    "from scipy import integrate"
   ]
  },
  {
   "cell_type": "markdown",
   "metadata": {},
   "source": [
    "### Constants and Parameters"
   ]
  },
  {
   "cell_type": "code",
   "execution_count": 2,
   "metadata": {
    "collapsed": true
   },
   "outputs": [],
   "source": [
    "keVtoerg    = 1.60217657E-9\n",
    "emin        = 10.0\n",
    "emax        = 10000.0\n",
    "\n",
    "pars     = [-1.492, 4.05928592E-02]  \n",
    "# [plIndex, norm]\n",
    "\n",
    "def get_parVals():\n",
    "    pars     = [-1.492, 4.05928592E-02]  \n",
    "    return pars\n"
   ]
  },
  {
   "cell_type": "markdown",
   "metadata": {},
   "source": [
    "## Wolfram Alpha Integration of the Power-Law Function:\n",
    "\n",
    "http://www.wolframalpha.com/input/?i=((x%2F100)%5Ea)+dx\n",
    "\n",
    "\n",
    "When using Wolfram Alpha to integrate, be careful which letters you use for parameters.  Wolfram alpha has some letters set aside to mean something.  If they are used, you will not get the right answer. For example, E stands for exponential. Do NOT use E for energy.\n",
    "\n",
    "N can be left out of integration. Simply multiply it back on at the end. The more parameters you have, the less likely Wolfram Alpha will calculate the function without a calculation time issue.\n",
    "\n",
    "    a - power-law index\n",
    "    N - normalization\n",
    "    x - energy\n"
   ]
  },
  {
   "cell_type": "code",
   "execution_count": 3,
   "metadata": {
    "collapsed": true
   },
   "outputs": [],
   "source": [
    "def lpow(engs, flux, *params):\n",
    "    plIdx = float(params[0])\n",
    "\n",
    "    for i in range(len(engs)-1):\n",
    "        lowIntegral     = (100.**(-plIdx)) * ((engs[i]**(plIdx+1.)) /(plIdx + 1.))\n",
    "        highIntegral    = (100.**(-plIdx)) * ((engs[i+1]**(plIdx+1.))/(plIdx + 1.))\n",
    "        val     = (highIntegral - lowIntegral)\n",
    "        flux[i] = val"
   ]
  },
  {
   "cell_type": "code",
   "execution_count": 4,
   "metadata": {
    "collapsed": false
   },
   "outputs": [
    {
     "name": "stdout",
     "output_type": "stream",
     "text": [
      "\n",
      "Photon Flux:  24.758399542 \t photons s^-1 cm^-2\n",
      "Energy Flux:  1.287664172e-05 \t ergs s^-1 cm^-2\n",
      "\n"
     ]
    }
   ],
   "source": [
    "N      = 5000\n",
    "engs   = np.logspace(1, 4, N)\n",
    "flux   = np.zeros(N)\n",
    "\n",
    "# WILL STORE CALCULATIONS IN FLUX ARRAY.\n",
    "lpow(engs, flux, *pars)\n",
    "norm   = pars[-1]\n",
    "flux_ph = np.sum(flux) * norm\n",
    "\n",
    "# NO NEED TO MAKE AN ESBPL FUNCTION.  MULTIPLY ENGS BY THE FLUX.\n",
    "flux_en = np.sum(flux * engs * keVtoerg) * norm\n",
    "\n",
    "print(\n",
    "'''\n",
    "Photon Flux:  %.9f \\t photons s^-1 cm^-2\n",
    "Energy Flux:  %.9e \\t ergs s^-1 cm^-2\n",
    "'''%(flux_ph, flux_en))"
   ]
  },
  {
   "cell_type": "markdown",
   "metadata": {},
   "source": [
    "## FUNCTION WITHOUT BEING INTEGRATED."
   ]
  },
  {
   "cell_type": "code",
   "execution_count": 5,
   "metadata": {
    "collapsed": true
   },
   "outputs": [],
   "source": [
    "def pl(energy):\n",
    "    L,N    = get_parVals()\n",
    "    eng    = energy\n",
    "    return N * ((eng/100.0)**L)\n",
    "\n",
    "def epl(energy):\n",
    "    eng    = energy\n",
    "    return eng * pl(eng)"
   ]
  },
  {
   "cell_type": "code",
   "execution_count": 6,
   "metadata": {
    "collapsed": false
   },
   "outputs": [
    {
     "name": "stdout",
     "output_type": "stream",
     "text": [
      "\n",
      "Photon Flux:  24.758399542 \t photons s^-1 cm^-2\n",
      "Energy Flux:  1.288554146e-05 \t ergs s^-1 cm^-2\n",
      "\n"
     ]
    }
   ],
   "source": [
    "Flux_Ph = integrate.quad(pl, emin, emax, limit=10000)[0]\n",
    "Flux_En = integrate.quad(epl, emin, emax, limit=10000)[0] * keVtoerg\n",
    "\n",
    "print(\n",
    "'''\n",
    "Photon Flux:  %.9f \\t photons s^-1 cm^-2\n",
    "Energy Flux:  %.9e \\t ergs s^-1 cm^-2\n",
    "'''%(Flux_Ph, Flux_En))"
   ]
  }
 ],
 "metadata": {
  "kernelspec": {
   "display_name": "Python 2",
   "language": "python",
   "name": "python2"
  },
  "language_info": {
   "codemirror_mode": {
    "name": "ipython",
    "version": 2
   },
   "file_extension": ".py",
   "mimetype": "text/x-python",
   "name": "python",
   "nbconvert_exporter": "python",
   "pygments_lexer": "ipython2",
   "version": "2.7.12"
  }
 },
 "nbformat": 4,
 "nbformat_minor": 0
}
