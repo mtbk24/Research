{
 "cells": [
  {
   "cell_type": "markdown",
   "metadata": {},
   "source": [
    "# Blackbody\n",
    "\n",
    "This program shows you how to calcualte the integrated photon and energy fluxes of the BBODY using two different methods.\n",
    "\n",
    "1.  Integrating the Function in Wolfram Alpha and then passing an energy array to the integrated function.\n",
    "2.  Using scipy.integrate to numerically integrate the function. This way is more precise."
   ]
  },
  {
   "cell_type": "markdown",
   "metadata": {},
   "source": [
    "### The equation for the Blackbody can be found here:\n"
   ]
  },
  {
   "cell_type": "markdown",
   "metadata": {},
   "source": [
    "Original Function, before integration: \n",
    "    \n",
    "\\begin{equation}\n",
    "f\\left(E\\right) = N \\times \\left[ \\frac{(E/1\\ \\text{keV} )^2}{\\exp(E/kT) -1}  \\right] dE \\ \\ \\ \\ \\ \\ \\ \\         \n",
    "\\end{equation}\n",
    "\n",
    "where $kT$ is the temperature of the blackbody in keV.\n",
    "This function is normalized to 1 keV to match RMFIT's version."
   ]
  },
  {
   "cell_type": "markdown",
   "metadata": {},
   "source": [
    "### My version of this equation:"
   ]
  },
  {
   "cell_type": "markdown",
   "metadata": {},
   "source": [
    "Original Function, before integration: \n",
    "    \n",
    "    kT:    blackbody temperature in keV.\n",
    "    N:     normalization\n",
    "    E:     energy to integrate over, 10 to 10,000 keV\n",
    "\n",
    "\n",
    "    f(E) = N * ( E**2 / (exp(E/kT)-1) ) dE"
   ]
  },
  {
   "cell_type": "markdown",
   "metadata": {},
   "source": [
    "# Begin Program"
   ]
  },
  {
   "cell_type": "code",
   "execution_count": 1,
   "metadata": {
    "collapsed": true
   },
   "outputs": [],
   "source": [
    "from __future__ import division\n",
    "import numpy as np\n",
    "from scipy import integrate"
   ]
  },
  {
   "cell_type": "markdown",
   "metadata": {},
   "source": [
    "### Constants and Parameters"
   ]
  },
  {
   "cell_type": "code",
   "execution_count": 2,
   "metadata": {
    "collapsed": true
   },
   "outputs": [],
   "source": [
    "keVtoerg    = 1.60217657E-9\n",
    "emin        = 10.0\n",
    "emax        = 10000.0\n",
    "\n",
    "pars     = [40.213, 4.05928592E-02]  \n",
    "# [kT, norm]\n",
    "\n",
    "def get_parVals():\n",
    "    pars     = [40.213, 4.05928592E-02]  \n",
    "    return pars\n"
   ]
  },
  {
   "cell_type": "markdown",
   "metadata": {},
   "source": [
    "## Wolfram Alpha Integration of the Blackbody Function:\n",
    "\n",
    "http://www.wolframalpha.com/input/?i=(x%5E2%2F+(exp(x%2Ft)-1))+dx\n",
    "\n",
    "\n",
    "\n",
    "When using Wolfram Alpha to integrate, be careful which letters you use for parameters.  Wolfram alpha has some letters set aside to mean something.  If they are used, you will not get the right answer. For example, E stands for exponential. Do NOT use E for energy.\n",
    "\n",
    "N can be left out of integration. Simply multiply it back on at the end. The more parameters you have, the less likely Wolfram Alpha will calculate the function without a calculation time issue.\n",
    "\n",
    "    t - kT the blackbody temperature\n",
    "    N - normalization\n",
    "    x - energy\n"
   ]
  },
  {
   "cell_type": "code",
   "execution_count": 3,
   "metadata": {
    "collapsed": true
   },
   "outputs": [],
   "source": [
    "## SBPL FUNCTION normalized at 1 keV, as the RMFIT version is. (E/1 keV)^2 on the numerator.\n",
    "def blackb(engs, flux, *params):\n",
    "    from mpmath import polylog, exp, log \n",
    "    from mpmath import fp\n",
    "    import time\n",
    "    \n",
    "    t       = float(params[0]) # kT\n",
    "    start_time = time.time()\n",
    "    \n",
    "    for i in range(len(engs)-1):\n",
    "        if engs[i+1] <= (709.666 * t):  # to avoid exp overflow error\n",
    "\n",
    "            lowIntegral = (-2*(t**3)) * \\\n",
    "            fp.polylog(3, fp.exp(engs[i]/t)) \\\n",
    "            + ( 2 * engs[i] * (t**2) ) * \\\n",
    "            fp.polylog(2, fp.exp(engs[i]/t)) \\\n",
    "            + (engs[i]**2) * t * \\\n",
    "            fp.log(1. - fp.exp(engs[i]/t)) - \\\n",
    "            ((engs[i]**3)/3.)\n",
    "            \n",
    "            highIntegral  = (-2*(t**3)) * \\\n",
    "            fp.polylog(3, fp.exp(engs[i+1]/t)) \\\n",
    "            + ( 2 * engs[i+1] * (t**2) ) * \\\n",
    "            fp.polylog(2, fp.exp(engs[i+1]/t)) \\\n",
    "            + (engs[i+1]**2) * t * \\\n",
    "            fp.log(1. - fp.exp(engs[i+1]/t)) - \\\n",
    "            ((engs[i+1]**3)/3.)\n",
    "\n",
    "            \n",
    "            val = (highIntegral - lowIntegral)\n",
    "            flux[i]      = val\n",
    "    stop_time = time.time() - start_time \n",
    "    print('time: %f seconds'%(stop_time))"
   ]
  },
  {
   "cell_type": "code",
   "execution_count": 4,
   "metadata": {
    "collapsed": false
   },
   "outputs": [
    {
     "name": "stdout",
     "output_type": "stream",
     "text": [
      "time: 4.569011 seconds\n",
      "\n",
      "Photon Flux:  6270.996012626 \t photons s^-1 cm^-2\n",
      "Energy Flux:  1.102864420e-03 \t ergs s^-1 cm^-2\n",
      "\n"
     ]
    },
    {
     "name": "stderr",
     "output_type": "stream",
     "text": [
      "/Users/KimiZ/anaconda/lib/python2.7/site-packages/ipykernel/__main__.py:19: ComplexWarning: Casting complex values to real discards the imaginary part\n"
     ]
    }
   ],
   "source": [
    "N      = 5000\n",
    "engs   = np.logspace(1, 4, N)\n",
    "flux   = np.zeros(N)\n",
    "\n",
    "# WILL STORE CALCULATIONS IN FLUX ARRAY.\n",
    "blackb(engs, flux, *pars)\n",
    "\n",
    "norm   = pars[-1]\n",
    "flux_ph = np.sum(flux) * norm\n",
    "\n",
    "# NO NEED TO MAKE AN ESBPL FUNCTION.  MULTIPLY ENGS BY THE FLUX.\n",
    "flux_en = np.sum(flux * engs * keVtoerg) * norm\n",
    "\n",
    "print(\n",
    "'''\n",
    "Photon Flux:  %.9f \\t photons s^-1 cm^-2\n",
    "Energy Flux:  %.9e \\t ergs s^-1 cm^-2\n",
    "'''%(flux_ph, flux_en))"
   ]
  },
  {
   "cell_type": "markdown",
   "metadata": {},
   "source": [
    "## FUNCTION WITHOUT BEING INTEGRATED."
   ]
  },
  {
   "cell_type": "code",
   "execution_count": 5,
   "metadata": {
    "collapsed": false
   },
   "outputs": [],
   "source": [
    "def bbody(energy):\n",
    "    from numpy import exp\n",
    "    kT, norm = get_parVals()\n",
    "    kT     = float(kT)\n",
    "    N      = float(norm)\n",
    "    eng    = energy\n",
    "    if eng <= (709.666 * kT): # to avoid exp overflow error\n",
    "        return N * ((eng**2) / (exp(eng/kT)-1))\n",
    "    else:\n",
    "        return 0\n",
    "\n",
    "def ebbody(energy):\n",
    "    kT, norm = get_parVals()\n",
    "    kT       = float(kT)\n",
    "    eng      = energy\n",
    "    if eng <= (709.666 * kT):\n",
    "        return eng * bbody(eng)\n",
    "    else:\n",
    "        return 0\n",
    "            "
   ]
  },
  {
   "cell_type": "code",
   "execution_count": 6,
   "metadata": {
    "collapsed": false
   },
   "outputs": [
    {
     "name": "stdout",
     "output_type": "stream",
     "text": [
      "\n",
      "Photon Flux:  6270.996010148 \t photons s^-1 cm^-2\n",
      "Energy Flux:  1.103626529e-03 \t ergs s^-1 cm^-2\n",
      "\n"
     ]
    }
   ],
   "source": [
    "Flux_Ph = integrate.quad(bbody, emin, emax, limit=10000)[0]\n",
    "Flux_En = integrate.quad(ebbody, emin, emax, limit=10000)[0] * keVtoerg\n",
    "\n",
    "print(\n",
    "'''\n",
    "Photon Flux:  %.9f \\t photons s^-1 cm^-2\n",
    "Energy Flux:  %.9e \\t ergs s^-1 cm^-2\n",
    "'''%(Flux_Ph, Flux_En))"
   ]
  }
 ],
 "metadata": {
  "kernelspec": {
   "display_name": "Python 2",
   "language": "python",
   "name": "python2"
  },
  "language_info": {
   "codemirror_mode": {
    "name": "ipython",
    "version": 2
   },
   "file_extension": ".py",
   "mimetype": "text/x-python",
   "name": "python",
   "nbconvert_exporter": "python",
   "pygments_lexer": "ipython2",
   "version": "2.7.12"
  }
 },
 "nbformat": 4,
 "nbformat_minor": 0
}
