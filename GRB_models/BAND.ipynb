{
 "cells": [
  {
   "cell_type": "markdown",
   "metadata": {},
   "source": [
    "# Band Function\n",
    "\n",
    "This program shows you how to calcualte the integrated photon and energy fluxes of the Band Function using two different methods.\n",
    "\n",
    "1.  Integrating the Function in Wolfram Alpha and then passing an energy array to the integrated function.\n",
    "2.  Using scipy.integrate to numerically integrate the function. This way is more precise."
   ]
  },
  {
   "cell_type": "markdown",
   "metadata": {},
   "source": [
    "### The equation for the Band Function can be found in the following paper:\n",
    "### Band, D., Matteson, J., Ford, L., et al. 1993, ApJ, 413, 281  Equation 1.\n",
    "http://adsabs.harvard.edu/abs/1993ApJ...413..281B"
   ]
  },
  {
   "cell_type": "markdown",
   "metadata": {
    "collapsed": false
   },
   "source": [
    "\n",
    "Original Function, before integration: \n",
    "\n",
    "<br />\n",
    "<br />\n",
    "\n",
    "for   $E < (\\ (\\alpha - \\beta) \\times E_0 \\ )$\n",
    "<br />\n",
    "<br />\n",
    "\\begin{equation}\n",
    "f\\left(E\\right) = N \\times \\left(\\frac{E}{100}\\right)^{\\alpha} \\times  \\exp \\left( \\frac{-E}{E_0} \\right) dE \\ \\ \\ \\ \n",
    "\\end{equation}\n",
    "<br />\n",
    "<br />\n",
    "for   $E >= (\\ (\\alpha - \\beta) \\times E_0 \\ )$\n",
    "<br />\n",
    "<br />\n",
    "\\begin{equation}\n",
    "f\\left(E\\right) = N \\times \\left(\\frac{(\\alpha-\\beta) \\times E_0}{100}\\right)^{(\\alpha - \\beta)} \\left(\\frac{E}{100}\\right)^{\\beta} \\times \\exp \\left(-(\\alpha - \\beta) \\right) dE \\ \\ \\ \\ \n",
    "\\end{equation}"
   ]
  },
  {
   "cell_type": "markdown",
   "metadata": {},
   "source": [
    "### My version of this equation:\n",
    "\n",
    "We use E-folding energy instead of Epeak here, but Epeak can easily be derived by using the equation in the next block.\n",
    "\n",
    "t is used to represent the e-folding energy because in PYXSPEC, the parameter name for it is 'tem'.  \n",
    "    \n",
    "    alpha: low energy index\n",
    "    beta:  high energy index\n",
    "    a - alpha\n",
    "    b - beta\n",
    "    t:     e-folding energy (E_0, or tem)\n",
    "    N:     normalization\n",
    "    E:     energy to integrate over, 10 to 10,000 keV\n",
    "        \n",
    "\n",
    "    for E < ((a-b) * t):\n",
    "        f(E)= N * (((E/100.0)**a) * exp(-E/t)) dE\n",
    "        \n",
    "    for E >= ((a-b) * t):\n",
    "        f(E)= N * ((((a-b)*t)/100.0)**(a-b)*((E/100)**b)*exp(-(a-b))) dE\n"
   ]
  },
  {
   "cell_type": "markdown",
   "metadata": {},
   "source": [
    "### Converstion between E-folding energy and Epeak energy:\n",
    "Sometimes you'll see the energy as Epeak.\n",
    "\n",
    "    epk    = 516.59979\n",
    "    alpha  = -1.0355458\n",
    "    efold  = (epk)/(alpha + 2.)\n",
    "    efold  = (516.59979)/(-1.0355458 + 2.)"
   ]
  },
  {
   "cell_type": "markdown",
   "metadata": {},
   "source": [
    "\\begin{equation}\n",
    "E_{pk} = E_0 \\times \\left( \\alpha + 2.0 \\right) \\ \\ \\ \\ \\ \n",
    "\\end{equation}"
   ]
  },
  {
   "cell_type": "markdown",
   "metadata": {},
   "source": [
    "# Begin Program"
   ]
  },
  {
   "cell_type": "code",
   "execution_count": 1,
   "metadata": {
    "collapsed": true
   },
   "outputs": [],
   "source": [
    "from __future__ import division\n",
    "import numpy as np\n",
    "from scipy import integrate"
   ]
  },
  {
   "cell_type": "markdown",
   "metadata": {},
   "source": [
    "### Constants"
   ]
  },
  {
   "cell_type": "code",
   "execution_count": 2,
   "metadata": {
    "collapsed": true
   },
   "outputs": [],
   "source": [
    "keVtoerg    = 1.60217657E-9\n",
    "emin        = 10.0\n",
    "emax        = 10000.0"
   ]
  },
  {
   "cell_type": "markdown",
   "metadata": {},
   "source": [
    "### Parameters\n",
    "    pars = [alpha, beta, ebreak, norm]"
   ]
  },
  {
   "cell_type": "code",
   "execution_count": 3,
   "metadata": {
    "collapsed": true
   },
   "outputs": [],
   "source": [
    "pars     = [-1.0355458, -2.2196138, 535.6395254435099, 0.017525647]  \n",
    "\n",
    "# normalization\n",
    "norm   = pars[-1]\n",
    "\n",
    "def get_parVals():\n",
    "    pars     = [-1.0355458, -2.2196138, 535.6395254435099, 0.017525647]  \n",
    "    return pars\n"
   ]
  },
  {
   "cell_type": "markdown",
   "metadata": {},
   "source": [
    "# FUNCTION INTEGRATED\n",
    "\n",
    "Make a flux array of 5000 elements that will be filled with flux increments.\n",
    "An energy array with 5000 energies ranging from 10 to 10,000 keV in log space will be passed to the integrated BAND function and will calculate an increment of flux for each energy element passed to it.  \n",
    "Those increments will be stored in the flux array of 5000 elements.\n",
    "\n",
    "After running band(engs, flux, *pars) the fluxes (un-normalized) will be appended to the flux array.  Then you can multiply each flux element by the normalization factor.  \n",
    "You could pass the normalization to the band function and multiply it within the function instead of at the end.  \n",
    "I do not do that here because the equation (shown below) was the exact one  used during PYXSPEC fitting.  The only difference between this function and the PYXSPEC one is that the order the variables passed to the band function in PYXSPEC are:  band(engs, params, flux)\n",
    "\n",
    "\n",
    "If you sum up the 5000 increments in the flux array and then multiply by the the normalization, you are getting the integrated flux from 10 to 10,000 keV.\n",
    "You are essentially summing up the flux area under the flux curve.\n",
    "\n",
    "\n",
    "In this example, we leave the BAND normalization parameter out of the function and multiply it at the end.  We do this because PYXSPEC uses this exact function for band (as below) during the Maximum Likelihood fitting process of parameter estimation.  \n",
    "\n",
    "This is how PYXSPEC estiamtes its flux calculations when you use the commands:\n",
    "\n",
    "    AllModels.setEnergies(\"10. 10000.\")\n",
    "    AllModels.calcFlux(\"10. 10000.0 err\")\n",
    " \n",
    "This is a crude method to estimate the flux and is not the  most accurate way.  The best way to calculate the integrated flux is to take the original function and numerically integrate it with scipy.integrate.quad for quadrature integration.\n",
    "\n",
    "    Photon Flux Units:  photons s^-1 cm^-2\n",
    "    Energy Flux Units:  ergs s^-1 cm^-2\n",
    "\n",
    "\n"
   ]
  },
  {
   "cell_type": "code",
   "execution_count": 4,
   "metadata": {
    "collapsed": true
   },
   "outputs": [],
   "source": [
    "def band(engs, flux, *params):\n",
    "    from numpy import exp\n",
    "    from mpmath import gammainc\n",
    "    from mpmath import fp   # use fp.gammainc, speeds up calculation\n",
    "    import time\n",
    "    \n",
    "    a   = float(params[0])  # alpha\n",
    "    b   = float(params[1])  # beta\n",
    "    t   = float(params[2])  # e-folding energy, E_0 or tem\n",
    "    \n",
    "    start_time = time.time()\n",
    "\n",
    "    for i in range(len(engs)-1):\n",
    "        if engs[i] < ((a - b) * t):\n",
    "            multiplier    = ((100.**(-a)) * (t**(a+1.)))\n",
    "            lowIntegral   = float( fp.gammainc(a + 1., (engs[i]/t)) )\n",
    "            highIntegral  = float( fp.gammainc(a + 1., (engs[i+1]/t)) )\n",
    "            val           = multiplier * (lowIntegral - highIntegral)\n",
    "            flux[i]       = val\n",
    "        else:\n",
    "            multiplier    = ((1./(b+1.))*((100.**(-a))*((a-b)**(a-b))*-exp(b-a)*(t**(a-b))))\n",
    "            lowIntegral   = engs[i]**(b+1.)\n",
    "            highIntegral  = engs[i+1]**(b+1.)\n",
    "            val           = multiplier * (lowIntegral - highIntegral)\n",
    "            flux[i]       = val\n",
    "    stop_time = time.time() - start_time \n",
    "    print('time: %f seconds'%(stop_time))"
   ]
  },
  {
   "cell_type": "markdown",
   "metadata": {},
   "source": [
    "#### We ran this function twice:\n",
    "Once with fp.gammainc and once without it, gammainc.\n",
    "\n",
    "fp stands for fast low-precision arithmetic.  This speeds up the process.\n",
    "\n",
    "    With fp:     2.11708402634 seconds  \n",
    "        Fluxes: 6.218796647 and 2.047850400e-06 \n",
    "        \n",
    "    Without fp:  6.34235787392 seconds\n",
    "        Fluxes: 6.218796647 and 2.047850400e-06\n",
    "        \n",
    "You can see that the lower precision doesn't change the flux values.\n",
    "http://docs.sympy.org/0.6.7/modules/mpmath/basics.html"
   ]
  },
  {
   "cell_type": "code",
   "execution_count": 5,
   "metadata": {
    "collapsed": false
   },
   "outputs": [
    {
     "name": "stdout",
     "output_type": "stream",
     "text": [
      "time: 1.810383 seconds\n",
      "\n",
      "Photon Flux:  6.218796647 \t photons s^-1 cm^-2\n",
      "Energy Flux:  2.047850400e-06 \t ergs s^-1 cm^-2\n",
      "\n"
     ]
    }
   ],
   "source": [
    "N      = 5000\n",
    "engs   = np.logspace(1, 4, N)\n",
    "flux   = np.zeros(N)\n",
    "\n",
    "# WILL STORE CALCULATIONS IN FLUX ARRAY.\n",
    "band(engs, flux, *pars)\n",
    "flux_ph = np.sum(flux) * norm\n",
    "\n",
    "# NO NEED TO MAKE AN EBAND FUNCTION.  MULTIPLY ENGS BY THE FLUX.\n",
    "flux_en = np.sum(flux * engs * keVtoerg) * norm\n",
    "\n",
    "print(\n",
    "'''\n",
    "Photon Flux:  %.9f \\t photons s^-1 cm^-2\n",
    "Energy Flux:  %.9e \\t ergs s^-1 cm^-2\n",
    "'''%(flux_ph, flux_en))"
   ]
  },
  {
   "cell_type": "markdown",
   "metadata": {},
   "source": [
    "## FUNCTION WITHOUT BEING INTEGRATED."
   ]
  },
  {
   "cell_type": "code",
   "execution_count": 6,
   "metadata": {
    "collapsed": true
   },
   "outputs": [],
   "source": [
    "def band(energy):\n",
    "    from numpy import exp\n",
    "    alpha, beta, tem, norm = get_parVals()\n",
    "    \n",
    "    \n",
    "    a = float(alpha)\n",
    "    b = float(beta)\n",
    "    t = float(tem)\n",
    "    N = float(norm)\n",
    "    eng  = energy\n",
    "    \n",
    "    if eng < ( (a-b) * t ):\n",
    "        return  N * (((eng/100.0)**a) * (exp(-eng/t)))\n",
    "    else:\n",
    "        return  N * (((((a-b)*t)/100.0)**(a-b)) * (exp(b-a))*((eng/100.0)**b))\n",
    "\n",
    "def eband(energy):\n",
    "    eng  = energy\n",
    "    return eng * band(eng)\n"
   ]
  },
  {
   "cell_type": "code",
   "execution_count": 7,
   "metadata": {
    "collapsed": false
   },
   "outputs": [
    {
     "name": "stdout",
     "output_type": "stream",
     "text": [
      "\n",
      "Photon Flux:  6.218796647 \t photons s^-1 cm^-2\n",
      "Energy Flux:  2.049265654e-06 \t ergs s^-1 cm^-2\n",
      "\n"
     ]
    }
   ],
   "source": [
    "Flux_Ph = integrate.quad(band, emin, emax, limit=100)[0]\n",
    "Flux_En = integrate.quad(eband, emin, emax, limit=100)[0] * keVtoerg\n",
    "\n",
    "print(\n",
    "'''\n",
    "Photon Flux:  %.9f \\t photons s^-1 cm^-2\n",
    "Energy Flux:  %.9e \\t ergs s^-1 cm^-2\n",
    "'''%(Flux_Ph, Flux_En))"
   ]
  }
 ],
 "metadata": {
  "kernelspec": {
   "display_name": "Python 2",
   "language": "python",
   "name": "python2"
  },
  "language_info": {
   "codemirror_mode": {
    "name": "ipython",
    "version": 2
   },
   "file_extension": ".py",
   "mimetype": "text/x-python",
   "name": "python",
   "nbconvert_exporter": "python",
   "pygments_lexer": "ipython2",
   "version": "2.7.12"
  }
 },
 "nbformat": 4,
 "nbformat_minor": 0
}
