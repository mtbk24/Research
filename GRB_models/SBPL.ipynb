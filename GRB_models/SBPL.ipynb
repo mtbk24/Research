{
 "cells": [
  {
   "cell_type": "markdown",
   "metadata": {},
   "source": [
    "# Smoothly Broken Power Law\n",
    "\n",
    "This program shows you how to calcualte the integrated photon and energy fluxes of the Smoothly Broken Power Law using two different methods.\n",
    "\n",
    "1.  Integrating the Function in Wolfram Alpha and then passing an energy array to the integrated function.\n",
    "2.  Using scipy.integrate to numerically integrate the function. This way is more precise."
   ]
  },
  {
   "cell_type": "markdown",
   "metadata": {},
   "source": [
    "### The equation for the Smoothly Broken Power Law can be found in the following paper:\n",
    "### F. Ryde 1998, Equation 2.\n",
    "http://arxiv.org/abs/astro-ph/9811462v1"
   ]
  },
  {
   "cell_type": "markdown",
   "metadata": {},
   "source": [
    "### My version of this equation:\n",
    "I use different parameters to represent the variables that can be used within python to run calculations."
   ]
  },
  {
   "cell_type": "code",
   "execution_count": 1,
   "metadata": {
    "collapsed": false
   },
   "outputs": [
    {
     "data": {
      "text/latex": [
       "Original Function, before integration: \n",
       "\\begin{equation}\n",
       "f\\left(E\\right) = N \\times \\left(\\frac{E}{100}\\right)^{p2} \\times  \\left[ \\frac{\\cosh \\left( \\frac{\\log_{10}(E/k)}{d} \\right)}{\\cosh \\left( \\frac{\\log_{10}(100/k)}{d} \\right)} \\right] ^{(p1*d*\\log(10))}  dE \\ \\ \\ \\ \\ \\ \\ \\         \n",
       "\\end{equation}"
      ],
      "text/plain": [
       "<IPython.core.display.Latex object>"
      ]
     },
     "metadata": {},
     "output_type": "display_data"
    }
   ],
   "source": [
    "%%latex\n",
    "Original Function, before integration: \n",
    "\\begin{equation}\n",
    "f\\left(E\\right) = N \\times \\left(\\frac{E}{100}\\right)^{p2} \\times  \\left[ \\frac{\\cosh \\left( \\frac{\\log_{10}(E/k)}{d} \\right)}{\\cosh \\left( \\frac{\\log_{10}(100/k)}{d} \\right)} \\right] ^{(p1*d*\\log(10))}  dE \\ \\ \\ \\ \\ \\ \\ \\         \n",
    "\\end{equation}"
   ]
  },
  {
   "cell_type": "markdown",
   "metadata": {},
   "source": [
    "Original Function, before integration: \n",
    "    \n",
    "    alpha: low energy index\n",
    "    beta:  high energy index\n",
    "    d:     break scale\n",
    "    k:     break energy (Ebreak)\n",
    "    N:     normalization\n",
    "    E:     energy to integrate over, 10 to 10,000 keV\n",
    "\n",
    "    p1 = (beta - alpha)/2.\n",
    "    p2 = (alpha + beta)/2.\n",
    "    d  = 0.3           \n",
    "\n",
    "    f(E) = \n",
    "        N * ((E/100)**p2 * ((cosh(log10(E/k)/d) / \n",
    "            cosh(log10(100/k)/d))**(p1*d*log(10)))) dE"
   ]
  },
  {
   "cell_type": "code",
   "execution_count": 2,
   "metadata": {
    "collapsed": false
   },
   "outputs": [
    {
     "data": {
      "text/latex": [
       "\\begin{equation}\n",
       "\\cosh(x) = \\frac{e^{x} + e^{-x}}{2}\n",
       "\\end{equation}"
      ],
      "text/plain": [
       "<IPython.core.display.Latex object>"
      ]
     },
     "metadata": {},
     "output_type": "display_data"
    }
   ],
   "source": [
    "%%latex\n",
    "\\begin{equation}\n",
    "\\cosh(x) = \\frac{e^{x} + e^{-x}}{2}\n",
    "\\end{equation}"
   ]
  },
  {
   "cell_type": "markdown",
   "metadata": {},
   "source": [
    "# Begin Program"
   ]
  },
  {
   "cell_type": "code",
   "execution_count": 3,
   "metadata": {
    "collapsed": true
   },
   "outputs": [],
   "source": [
    "from __future__ import division\n",
    "import numpy as np\n",
    "from scipy import integrate"
   ]
  },
  {
   "cell_type": "markdown",
   "metadata": {},
   "source": [
    "### Constants"
   ]
  },
  {
   "cell_type": "code",
   "execution_count": 4,
   "metadata": {
    "collapsed": true
   },
   "outputs": [],
   "source": [
    "keVtoerg    = 1.60217657E-9\n",
    "emin        = 10.0\n",
    "emax        = 10000.0"
   ]
  },
  {
   "cell_type": "markdown",
   "metadata": {},
   "source": [
    "### Parameters\n",
    "    pars = [alpha, beta, ebreak, norm]"
   ]
  },
  {
   "cell_type": "code",
   "execution_count": 5,
   "metadata": {
    "collapsed": true
   },
   "outputs": [],
   "source": [
    "pars     = [-1.1128469, -2.2118149, 274.8992, 0.014636453]  \n",
    "\n",
    "# normalization\n",
    "norm   = pars[-1]\n",
    "\n",
    "def get_parVals():\n",
    "    pars     = [-1.1128469, -2.2118149, 274.8992, 0.014636453]  \n",
    "    return pars\n"
   ]
  },
  {
   "cell_type": "markdown",
   "metadata": {},
   "source": [
    "# FUNCTION INTEGRATED\n",
    "\n",
    "Make a flux array of 5000 elements that will be filled with flux increments.\n",
    "An energy array with 5000 energies ranging from 10 to 10,000 keV in log space will be passed to the integrated SBPL function and will calculate an increment of flux for each energy element passed to it.  \n",
    "Those increments will be stored in the flux array of 5000 elements.\n",
    "\n",
    "After running sbpl(engs, flux, *pars) the fluxes (un-normalized) will be appended to the flux array.  Then you can multiply each flux element by the normalization factor.  \n",
    "You could pass the normalization to the sbpl function and multiply it within the function instead of at the end.  \n",
    "I do not do that here because the equation (shown below) was the exact one  used during PYXSPEC fitting.  The only difference between this function and the PYXSPEC one is that the order the variables passed to the sbpl function in PYXSPEC are:  sbpl(engs, params, flux)\n",
    "\n",
    "\n",
    "If you sum up the 5000 increments in the flux array and then multiply by the the normalization, you are getting the integrated flux from 10 to 10,000 keV.\n",
    "You are essentially summing up the flux area under the flux curve.\n",
    "\n",
    "\n",
    "In this example, we leave the SBPL normalization parameter out of the function and multiply it at the end.  We do this because PYXSPEC uses this exact function for sbpl (as below) during the Maximum Likelihood fitting process of parameter estimation.  \n",
    "\n",
    "This is how PYXSPEC estiamtes its flux calculations when you use the commands:\n",
    "\n",
    "    AllModels.setEnergies(\"10. 10000.\")\n",
    "    AllModels.calcFlux(\"10. 10000.0 err\")\n",
    " \n",
    "This is a crude method to estimate the flux and is not the  most accurate way.  The best way to calculate the integrated flux is to take the original function and numerically integrate it with scipy.integrate.quad for quadrature integration.\n",
    "\n",
    "    Photon Flux Units:  photons s^-1 cm^-2\n",
    "    Energy Flux Units:  ergs s^-1 cm^-2\n",
    "\n",
    "\n"
   ]
  },
  {
   "cell_type": "code",
   "execution_count": 6,
   "metadata": {
    "collapsed": true
   },
   "outputs": [],
   "source": [
    "def sbpl(engs, flux, *params):\n",
    "    from scipy.special import hyp2f1\n",
    "    from numpy import log, log10, exp, cosh, sinh\n",
    "    a  = float(params[0])  # alpha \n",
    "    b  = float(params[1])  # beta\n",
    "    k  = float(params[2])  # ebreak\n",
    "    d  = 0.3               # break scale.  delta\n",
    "\n",
    "    for i in range(len(engs)-1):\n",
    "        p1 = (b - a)/2.  # (beta - alpha)/2.\n",
    "        p2 = (a + b)/2.  # (alpha + beta)/2.\n",
    "        # LOG AND LOG10 CONSTANTS TO SIMPLIFY THE FUNCTION\n",
    "        c1 = 4.60517     # log(100)\n",
    "        c2 = 0.868589    # 2*(1./log(10)) see also logarithmic properties of log((1+n)/(1-n))\n",
    "        c3 = 2.30259     # log(10)\n",
    "        c4 = 0.434294    # 1./log(10)\n",
    "        c5 = 1.59603     # log(2)*log(10) = log(2)+log(10)\n",
    "        c6 = 1.15129     # log(10)/2.\n",
    " \n",
    "        multiplier = ( (1./(b+1.)) * -exp(-c1*p2) * (cosh(c5*p1*d)-sinh(c5*p1*d)))\n",
    "\n",
    "        lowIntegral = (\n",
    "            engs[i]**(p2+1)\n",
    "            * ( ((engs[i]/k)**(-c2/d) +1.)**(-c3*p1*d))\n",
    "            * ((((engs[i]/k)**(-c4/d)) + ((engs[i]/k)**(c4/d)))**(c3*p1*d))\n",
    "            * float(hyp2f1(-c3*p1*d, -c6*d*(b+1.), -c6*d*(b+1.)+1., -(engs[i]/k)**(-c2/d)))\n",
    "            * (cosh((c4 * log(engs[i]/k))/d)**(-c3*p1*d))\n",
    "            * (((1./cosh((c4*(log(1/k)+c1))/d)) * cosh((c4*log(engs[i]/k))/d))**(c3*p1*d))\n",
    "            )\n",
    "\n",
    "        highIntegral = (\n",
    "            engs[i+1]**(p2+1)\n",
    "            * ( ((engs[i+1]/k)**(-c2/d) +1.)**(-c3*p1*d))\n",
    "            * ((((engs[i+1]/k)**(-c4/d)) + ((engs[i+1]/k)**(c4/d)))**(c3*p1*d))\n",
    "            * float(hyp2f1(-c3*p1*d, -c6*d*(b+1.), -c6*d*(b+1.)+1., -(engs[i+1]/k)**(-c2/d)))\n",
    "            * (cosh((c4 * log(engs[i+1]/k))/d)**(-c3*p1*d))\n",
    "            * (((1./cosh((c4*(log(1/k)+c1))/d)) * cosh((c4*log(engs[i+1]/k))/d))**(c3*p1*d))\n",
    "            )\n",
    "\n",
    "        val         = multiplier * (lowIntegral - highIntegral)\n",
    "        flux[i]     = val\n",
    "        "
   ]
  },
  {
   "cell_type": "code",
   "execution_count": 7,
   "metadata": {
    "collapsed": false
   },
   "outputs": [
    {
     "name": "stdout",
     "output_type": "stream",
     "text": [
      "\n",
      "Photon Flux:  6.206339480 \t photons s^-1 cm^-2\n",
      "Energy Flux:  2.002501937e-06 \t ergs s^-1 cm^-2\n",
      "\n"
     ]
    }
   ],
   "source": [
    "N      = 5000\n",
    "engs   = np.logspace(1, 4, N)\n",
    "flux   = np.zeros(N)\n",
    "\n",
    "# WILL STORE CALCULATIONS IN FLUX ARRAY.\n",
    "sbpl(engs, flux, *pars)\n",
    "flux_ph = np.sum(flux) * norm\n",
    "\n",
    "# NO NEED TO MAKE AN ESBPL FUNCTION.  MULTIPLY ENGS BY THE FLUX.\n",
    "flux_en = np.sum(flux * engs * keVtoerg) * norm\n",
    "\n",
    "print(\n",
    "'''\n",
    "Photon Flux:  %.9f \\t photons s^-1 cm^-2\n",
    "Energy Flux:  %.9e \\t ergs s^-1 cm^-2\n",
    "'''%(flux_ph, flux_en))"
   ]
  },
  {
   "cell_type": "markdown",
   "metadata": {},
   "source": [
    "## FUNCTION WITHOUT BEING INTEGRATED.\n",
    "### USING COSH"
   ]
  },
  {
   "cell_type": "code",
   "execution_count": 8,
   "metadata": {
    "collapsed": false
   },
   "outputs": [],
   "source": [
    "def sbpl(energy):\n",
    "    from numpy import log, log10, cosh\n",
    "    alpha, beta, ebreak, norm = get_parVals()\n",
    "    eng  = energy\n",
    "    k    = float(ebreak)\n",
    "    N    = float(norm) \n",
    "    d    = 0.3  \n",
    "    p1   = (beta - alpha)/2.\n",
    "    p2   = (alpha + beta)/2.\n",
    "    p3   = ( log10(100.0/k)/d )\n",
    "    p4   = ( log10(eng/k)/d )\n",
    "    return N * (((eng/100.)**p2) * ((cosh(p4) / cosh(p3)) **(p1*d*log(10.))) ) \n",
    "\n",
    "def esbpl(energy):\n",
    "    eng = energy\n",
    "    return eng * sbpl(eng)"
   ]
  },
  {
   "cell_type": "code",
   "execution_count": 9,
   "metadata": {
    "collapsed": false
   },
   "outputs": [
    {
     "name": "stdout",
     "output_type": "stream",
     "text": [
      "\n",
      "Photon Flux:  6.206307228 \t photons s^-1 cm^-2\n",
      "Energy Flux:  2.003884465e-06 \t ergs s^-1 cm^-2\n",
      "\n"
     ]
    }
   ],
   "source": [
    "Flux_Ph = integrate.quad(sbpl, emin, emax, limit=100)[0]\n",
    "Flux_En = integrate.quad(esbpl, emin, emax, limit=100)[0] * keVtoerg\n",
    "\n",
    "print(\n",
    "'''\n",
    "Photon Flux:  %.9f \\t photons s^-1 cm^-2\n",
    "Energy Flux:  %.9e \\t ergs s^-1 cm^-2\n",
    "'''%(Flux_Ph, Flux_En))"
   ]
  },
  {
   "cell_type": "markdown",
   "metadata": {},
   "source": [
    "## FUNCTION WITHOUT BEING INTEGRATED.\n",
    "### WITHOUT COSH"
   ]
  },
  {
   "cell_type": "code",
   "execution_count": 10,
   "metadata": {
    "collapsed": true
   },
   "outputs": [],
   "source": [
    "def sbpl(energy):\n",
    "    from numpy import log, log10, exp\n",
    "    alpha, beta, ebreak, norm = get_parVals()\n",
    "    eng  = energy\n",
    "    k    = float(ebreak)\n",
    "    d    = 0.3              \n",
    "    N    = float(norm)  \n",
    "    p1   = (beta - alpha)/2.\n",
    "    p2   = (alpha + beta)/2.\n",
    "    p3   = ( log10(100.0/k)/d )\n",
    "    p4   = ( log10(eng/k)/d )\n",
    "    return N * ((eng/100.0)**p2) * (10**((p1 * d * log((exp(p4) + exp(-p4))/2.)) - (p1 * d * log((exp(p3) + exp(-p3))/2.))))\n",
    "\n",
    "def esbpl(energy):\n",
    "    eng = energy\n",
    "    return eng * sbpl(eng)"
   ]
  },
  {
   "cell_type": "code",
   "execution_count": 11,
   "metadata": {
    "collapsed": false
   },
   "outputs": [
    {
     "name": "stdout",
     "output_type": "stream",
     "text": [
      "\n",
      "Photon Flux:  6.206307228 \t photons s^-1 cm^-2\n",
      "Energy Flux:  2.003884465e-06 \t ergs s^-1 cm^-2\n",
      "\n"
     ]
    }
   ],
   "source": [
    "FLUX_PH = integrate.quad(sbpl, emin, emax, limit=100)[0]\n",
    "FLUX_EN = integrate.quad(esbpl, emin, emax, limit=100)[0] * keVtoerg\n",
    "\n",
    "print(\n",
    "'''\n",
    "Photon Flux:  %.9f \\t photons s^-1 cm^-2\n",
    "Energy Flux:  %.9e \\t ergs s^-1 cm^-2\n",
    "'''%(FLUX_PH, FLUX_EN))"
   ]
  }
 ],
 "metadata": {
  "kernelspec": {
   "display_name": "Python 2",
   "language": "python",
   "name": "python2"
  },
  "language_info": {
   "codemirror_mode": {
    "name": "ipython",
    "version": 2
   },
   "file_extension": ".py",
   "mimetype": "text/x-python",
   "name": "python",
   "nbconvert_exporter": "python",
   "pygments_lexer": "ipython2",
   "version": "2.7.12"
  }
 },
 "nbformat": 4,
 "nbformat_minor": 0
}
