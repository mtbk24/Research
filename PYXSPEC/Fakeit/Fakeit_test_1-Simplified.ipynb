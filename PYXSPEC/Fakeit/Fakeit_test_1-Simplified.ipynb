{
 "cells": [
  {
   "cell_type": "markdown",
   "metadata": {},
   "source": [
    "## Making 10,000 synthetic spectra for detector 'n3' which is type-I format by using a type-II format file from the 'lle' detector.\n",
    "#### n3:  \n",
    "n3 is a GBM NaI detector from the Fermi Space Telescope\n",
    "#### lle:  \n",
    "LLE is the LAT Low Energy detector from Fermi"
   ]
  },
  {
   "cell_type": "code",
   "execution_count": 1,
   "metadata": {
    "collapsed": true
   },
   "outputs": [],
   "source": [
    "from __future__ import division\n",
    "#from xspec import *\n",
    "#from models import *  # my own models\n",
    "import os\n",
    "import numpy\n",
    "import json\n",
    "import glob\n",
    "from collections import OrderedDict"
   ]
  },
  {
   "cell_type": "raw",
   "metadata": {},
   "source": [
    "detRunning        = 'n3'\n",
    "detAnalysis       = 'L'\n",
    "detDir            = 'GBMwLAT'\n",
    "modName           = 'grbm+powerlaw'\n",
    "verNumber         = '-01-'\n",
    "burstName         = 'bn080916009'"
   ]
  },
  {
   "cell_type": "code",
   "execution_count": 2,
   "metadata": {
    "collapsed": false
   },
   "outputs": [],
   "source": [
    "dataDir = \"/Users/KimiZ/GRBs2/analysis/LAT/bn080916009/integrated/\"\n",
    "modDir  = \"/Users/KimiZ/GRBs2/analysis/LAT/bn080916009/PYXSPEC/GBMwLAT/grbm+powerlaw/\"\n",
    "\n",
    "os.chdir(dataDir)"
   ]
  },
  {
   "cell_type": "code",
   "execution_count": 3,
   "metadata": {
    "collapsed": true
   },
   "outputs": [],
   "source": [
    "Xset.chatter = 0\n",
    "\n",
    "AllData.clear()"
   ]
  },
  {
   "cell_type": "markdown",
   "metadata": {},
   "source": [
    "   "
   ]
  },
  {
   "cell_type": "markdown",
   "metadata": {},
   "source": [
    "### First spectra must be type-II format to trick Fakeit.  This is the one we don't care about.\n",
    "### 2nd spectra is my type-I format file that I want to make 10,000 synthetic spectra of and store into one type-II file."
   ]
  },
  {
   "cell_type": "code",
   "execution_count": 4,
   "metadata": {
    "collapsed": false
   },
   "outputs": [],
   "source": [
    "# FIRST SPECTRUM MUST BE OF TYPE-II FORMAT.  \n",
    "s1              = Spectrum('bn080916009_LAT-LLE_srcspectra.pha{1}')\n",
    "s1              = AllData(1)\n",
    "s1.response     = 'bn080916009_LAT-LLE_weightedrsp.rsp{1}'\n",
    "s1.background   = 'bn080916009_LAT-LLE_bkgspectra.bak{1}'\n",
    "#s1.ignore('*')  \n",
    "#s1_noticed_chs  = '9, 10, 11, 12, 13, 14, 15, 16'\n",
    "#s1.notice(s1_noticed_chs)\n",
    "\n",
    "\n",
    "s2              = Spectrum('glg_tte_n3_bn080916009_v01.pha1')\n",
    "s2              = AllData(2)\n",
    "s2.response     = 'glg_cspec_n3_bn080916009_v00.rsp2'\n",
    "s2.background   = 'glg_tte_n3_bn080916009_v01.bak'\n",
    "s2.ignore('*')\n",
    "s2_noticed_chs  = '[5, 6, 7, 8, 9, 10, 11, 12, 13, 14, 15, 16, 17, 18, 19, 20, \\\n",
    "                    21, 29, 30, 31, 32, 33, 34, 35, 36, 37, 38, 39, 40, 41, 42, \\\n",
    "                    43, 44, 45, 46, 47, 48, 49, 50, 51, 52, 53, 54, 55, 56, 57, \\\n",
    "                    58, 59, 60, 61, 62, 63, 64, 65, 66, 67, 68, 69, 70, 71, 72, \\\n",
    "                    73, 74, 75, 76, 77, 78, 79, 80, 81, 82, 83, 84, 85, 86, 87, \\\n",
    "                    88, 89, 90, 91, 92, 93, 94, 95, 96, 97, 98, 99, 100, 101, \\\n",
    "                    102, 103, 104, 105, 106, 107, 108, 109, 110, 111, 112, 113, \\\n",
    "                    114, 115, 116, 117, 118, 119, 120, 121, 122, 123, 124, 125]'\n",
    "s2.notice(s2_noticed_chs)"
   ]
  },
  {
   "cell_type": "markdown",
   "metadata": {},
   "source": [
    "#### Setting Model and Parameters"
   ]
  },
  {
   "cell_type": "code",
   "execution_count": 5,
   "metadata": {
    "collapsed": true
   },
   "outputs": [],
   "source": [
    "m1 = Model('grbm+powerlaw')"
   ]
  },
  {
   "cell_type": "code",
   "execution_count": 6,
   "metadata": {
    "collapsed": false
   },
   "outputs": [],
   "source": [
    "m1.grbm.alpha.values        = [-0.7429, 0.00742, -10.0, -3.0, 2.0, 5.0]\n",
    "m1.grbm.beta.values         = [-2.177, 0.0217, -10.0, -5.0, 2.0, 10.0]\n",
    "m1.grbm.tem.values          = [305.505, 3.055, 10.0, 30.0, 6000.0, 7000.0]\n",
    "m1.grbm.norm.values         = [0.0190,0.00019, 1e-15, 1e-10, 1.0, 1.0]\n",
    "m1.powerlaw.PhoIndex.values = [2.077, 0.020, -3.0, -2.0, 9.0, 10.0]\n",
    "m1.powerlaw.norm.values     = [0.0009, 9.925e-06, 1e-15, 1e-10, 1.0, 1.0]"
   ]
  },
  {
   "cell_type": "markdown",
   "metadata": {},
   "source": [
    "#### Freezing all parameters"
   ]
  },
  {
   "cell_type": "code",
   "execution_count": 7,
   "metadata": {
    "collapsed": true
   },
   "outputs": [],
   "source": [
    "# FREEZE ALL PARAMETERS\n",
    "for i in range(1, AllModels(1).nParameters+1):\n",
    "    Parameter.frozen.fset(AllModels(1)(i), 1)"
   ]
  },
  {
   "cell_type": "markdown",
   "metadata": {},
   "source": [
    "#### Settings"
   ]
  },
  {
   "cell_type": "code",
   "execution_count": 8,
   "metadata": {
    "collapsed": false
   },
   "outputs": [],
   "source": [
    "# SOME OF THESE MAY NOT BE NECESSARY FOR FAKEIT\n",
    "Plot.xAxis              = 'keV'\n",
    "Fit.method              = 'leven'\n",
    "Fit.statMethod          = 'cstat'\n",
    "Fit.nIterations         = 1000\n",
    "Xset.parallel.leven     = 4\n",
    "\n",
    "Fit.statMethod          = 'pgstat 1'\n",
    "Fit.statMethod          = 'cstat 2'"
   ]
  },
  {
   "cell_type": "markdown",
   "metadata": {},
   "source": [
    "   "
   ]
  },
  {
   "cell_type": "markdown",
   "metadata": {},
   "source": [
    "### This is the file I don't care about.  It's used to trick Fakeit:\n",
    "\n",
    "AllData(1).fileName, \n",
    "\n",
    "AllData(1).response.rmf, \n",
    "\n",
    "AllData(1).background.fileName,\n",
    "\n",
    "AllData(1).exposure\n",
    "\n",
    "    ('bn080916009_LAT-LLE_srcspectra.pha',\n",
    "     'bn080916009_LAT-LLE_weightedrsp.rsp{1}',\n",
    "     'bn080916009_LAT-LLE_bkgspectra.bak',\n",
    "     58.236462396441226)\n",
    "\n",
    "### This is the file I want to run Fakeit on:  (it's type-I)\n",
    "\n",
    "AllData(2).fileName, \n",
    "\n",
    "AllData(2).response.rmf, \n",
    "\n",
    "AllData(2).background.fileName,\n",
    "\n",
    "AllData(2).exposure\n",
    "\n",
    "    ('glg_tte_n3_bn080916009_v01.pha1',\n",
    "     'glg_cspec_n3_bn080916009_v00.rsp2',\n",
    "     'glg_tte_n3_bn080916009_v01.bak',\n",
    "     62.666866302490234)"
   ]
  },
  {
   "cell_type": "markdown",
   "metadata": {},
   "source": [
    "   "
   ]
  },
  {
   "cell_type": "markdown",
   "metadata": {},
   "source": [
    "# Fakeit Settings"
   ]
  },
  {
   "cell_type": "markdown",
   "metadata": {},
   "source": [
    "#### The Output filename is the ONLY one with a '+' sign in the name.\n",
    "If left with a '+' sign in the name, it will output to a type-I file.\n",
    "\n",
    "As soon as that's removed and replaced with a '-' sign, it works again and outputs to type-II format."
   ]
  },
  {
   "cell_type": "code",
   "execution_count": 9,
   "metadata": {
    "collapsed": false
   },
   "outputs": [],
   "source": [
    "#  First one is for the detector I wish to run fakeit for \n",
    "#  and make 10,000 synthetic spectra.  \n",
    "#  It is a PHA type-I file.  \n",
    "FS_det = FakeitSettings(response = 'glg_cspec_n3_bn080916009_v00.rsp2', \n",
    "                           background ='glg_tte_n3_bn080916009_v01.bak', \n",
    "                           exposure = AllData(2).exposure, \n",
    "                           fileName = \"fakespec_n3_grbm+pow_-01-_L_.fak\")\n",
    "\n",
    "\n",
    "#  This one is a PHA-II file just to trick Fakit into outputting type-II format.\n",
    "FS_lle = FakeitSettings(response = 'bn080916009_LAT-LLE_weightedrsp.rsp{1}', \n",
    "                        background = 'bn080916009_LAT-LLE_bkgspectra.bak{1}', \n",
    "                        exposure = AllData(1).exposure)"
   ]
  },
  {
   "cell_type": "markdown",
   "metadata": {},
   "source": [
    "  "
   ]
  },
  {
   "cell_type": "markdown",
   "metadata": {},
   "source": [
    "Making an array of 10,000 of the fakeit settings for my file.  Then inserting the settings for the file I don't care about at the beginning of the list."
   ]
  },
  {
   "cell_type": "code",
   "execution_count": 10,
   "metadata": {
    "collapsed": false
   },
   "outputs": [
    {
     "name": "stdout",
     "output_type": "stream",
     "text": [
      "10002\n"
     ]
    }
   ],
   "source": [
    "# MAKE A LIST OF THE SAME FAKEIT SETTINGS 10,000 TIMES.\n",
    "\n",
    "nSpec = 10001        # 1 + number of spectra you want to create.\n",
    "settingsFake = nSpec * [FS_det] # 1 + nSpectra you want to create\n",
    "settingsFake.insert(0, FS_lle)\n",
    "\n",
    "print len(settingsFake)"
   ]
  },
  {
   "cell_type": "markdown",
   "metadata": {},
   "source": [
    "This is just to show that the first one is the trick file, the rest are the settings I want for the good file."
   ]
  },
  {
   "cell_type": "code",
   "execution_count": 11,
   "metadata": {
    "collapsed": false
   },
   "outputs": [
    {
     "data": {
      "text/plain": [
       "[<xspec.data.FakeitSettings at 0x111347850>,\n",
       " <xspec.data.FakeitSettings at 0x10ac7ca90>,\n",
       " <xspec.data.FakeitSettings at 0x10ac7ca90>,\n",
       " <xspec.data.FakeitSettings at 0x10ac7ca90>,\n",
       " <xspec.data.FakeitSettings at 0x10ac7ca90>]"
      ]
     },
     "execution_count": 11,
     "metadata": {},
     "output_type": "execute_result"
    }
   ],
   "source": [
    "settingsFake[0:5]"
   ]
  },
  {
   "cell_type": "markdown",
   "metadata": {},
   "source": [
    "### Sending it off!"
   ]
  },
  {
   "cell_type": "code",
   "execution_count": 12,
   "metadata": {
    "collapsed": false
   },
   "outputs": [],
   "source": [
    "AllData.fakeit(len(settingsFake), settingsFake)"
   ]
  }
 ],
 "metadata": {
  "kernelspec": {
   "display_name": "Python 2",
   "language": "python",
   "name": "python2"
  },
  "language_info": {
   "codemirror_mode": {
    "name": "ipython",
    "version": 2
   },
   "file_extension": ".py",
   "mimetype": "text/x-python",
   "name": "python",
   "nbconvert_exporter": "python",
   "pygments_lexer": "ipython2",
   "version": "2.7.11"
  }
 },
 "nbformat": 4,
 "nbformat_minor": 0
}
