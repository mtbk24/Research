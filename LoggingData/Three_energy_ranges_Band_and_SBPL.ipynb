{
 "cells": [
  {
   "cell_type": "code",
   "execution_count": 1,
   "metadata": {
    "collapsed": true
   },
   "outputs": [],
   "source": [
    "from __future__ import division\n",
    "import matplotlib.pyplot as plt\n",
    "import itertools\n",
    "import numpy as np\n",
    "import pandas as pd\n",
    "import os\n",
    "\n",
    "\n",
    "import matplotlib.gridspec as gridspec"
   ]
  },
  {
   "cell_type": "code",
   "execution_count": 2,
   "metadata": {
    "collapsed": true
   },
   "outputs": [],
   "source": [
    "def journal():\n",
    "    '''\n",
    "    Appears nearly square. I like this best.\n",
    "    'figure.figsize': [3.1, 2.6]\n",
    "    \n",
    "    Use: plt.tight_layout(pad=0.1, w_pad=0.0, h_pad=0.0)\n",
    "    plt.xlabel('$E_{iso}$ $(erg)$',labelpad=-1)  \n",
    "    plt.ylabel('$E^*_{pk}$ $(keV)$',labelpad=-2)\n",
    "    \n",
    "    '''\n",
    "    params = {'backend': 'pdf',\n",
    "              'axes.labelsize':  10,\n",
    "              'font.size':       10,\n",
    "              'legend.fontsize': 8,\n",
    "              'xtick.labelsize': 8,\n",
    "              'ytick.labelsize': 8,\n",
    "              'xtick.direction': 'in',\n",
    "              'ytick.direction': 'in',\n",
    "              'text.usetex':     True,\n",
    "              'figure.figsize': [4,3], #[4,3], #[3.1, 2.6], # [7,6]\n",
    "              'font.family': 'serif',}\n",
    "    plt.rcParams.update(params)\n",
    "    \n",
    "    "
   ]
  },
  {
   "cell_type": "code",
   "execution_count": 3,
   "metadata": {
    "collapsed": true
   },
   "outputs": [],
   "source": [
    "journal()"
   ]
  },
  {
   "cell_type": "markdown",
   "metadata": {},
   "source": [
    "# Functions"
   ]
  },
  {
   "cell_type": "code",
   "execution_count": 4,
   "metadata": {
    "collapsed": true
   },
   "outputs": [],
   "source": [
    "sum_of_squares    = lambda values: sum( [i**2 for i in values] )\n",
    "root_mean_square  = lambda values: np.sqrt( sum_of_squares(values) / len(values) )"
   ]
  },
  {
   "cell_type": "code",
   "execution_count": 5,
   "metadata": {
    "collapsed": true
   },
   "outputs": [],
   "source": [
    "def fix_dataframe(df):\n",
    "    '''\n",
    "    Dataframes contain unlogged values and unlogged margins of errors on \n",
    "    Eiso, Epeak, and EpeakRest\n",
    "    We must log all of the values and their errors, however, we must \n",
    "    find the upper and lower confidence intervals first and log those. \n",
    "    We can not simply take np.log of a margin of error. \n",
    "    '''\n",
    "    dfc = df.copy()\n",
    "    # LOG10 THE EISO, EPEAK, AND NORM PARAMS\n",
    "    for param in ['eiso','norm','epeak','epeakRest']:\n",
    "        \n",
    "        value     = df[param]  # value must be unlogged\n",
    "        errL      = eval('df.%s_err_low'%param) # leave unlogged\n",
    "        errU      = eval('df.%s_err_up'%param) # leave unlogged\n",
    "        # UNLOGGED CONFIDENCE INTERVALS, LOWER AND UPPER.\n",
    "        CI_L = value - errL\n",
    "        CI_U = value + errU\n",
    "\n",
    "        # COMPUTE LOGGED MARGIN OF ERRORS - moe stands for margin of error\n",
    "        # LOGGED VALUE - LOGGED CI\n",
    "        moeL = np.log10( value ) - np.log10( CI_L )\n",
    "        moeU = np.log10( CI_U ) - np.log10( value )\n",
    "        \n",
    "        dfc[param] = np.log10( df[param] ) \n",
    "        dfc['%s_err_low'%param]  = moeL\n",
    "        dfc['%s_err_up'%param]   = moeU\n",
    "    return dfc\n"
   ]
  },
  {
   "cell_type": "markdown",
   "metadata": {},
   "source": [
    "# BAND FUNCTION"
   ]
  },
  {
   "cell_type": "markdown",
   "metadata": {},
   "source": [
    "# xLab        = '10keV-10MeV'\n",
    "# yLab        = '10keV-10GeV'"
   ]
  },
  {
   "cell_type": "code",
   "execution_count": 15,
   "metadata": {
    "collapsed": false
   },
   "outputs": [
    {
     "name": "stderr",
     "output_type": "stream",
     "text": [
      "/Users/KimiZ/anaconda/lib/python2.7/site-packages/ipykernel_launcher.py:4: SettingWithCopyWarning: \n",
      "A value is trying to be set on a copy of a slice from a DataFrame\n",
      "\n",
      "See the caveats in the documentation: http://pandas.pydata.org/pandas-docs/stable/indexing.html#indexing-view-versus-copy\n",
      "  after removing the cwd from sys.path.\n",
      "/Users/KimiZ/anaconda/lib/python2.7/site-packages/ipykernel_launcher.py:5: SettingWithCopyWarning: \n",
      "A value is trying to be set on a copy of a slice from a DataFrame\n",
      "\n",
      "See the caveats in the documentation: http://pandas.pydata.org/pandas-docs/stable/indexing.html#indexing-view-versus-copy\n",
      "  \"\"\"\n"
     ]
    },
    {
     "name": "stdout",
     "output_type": "stream",
     "text": [
      "/Users/KimiZ/GRBs2/python_modeling/EisoComparisonPlots/eiso_10keV_10MeV_10keV_10GeV_BAND35.pdf\n"
     ]
    },
    {
     "data": {
      "image/png": "[encoded data removed]",
      "text/plain": [
       "<matplotlib.figure.Figure at 0x1004353d0>"
      ]
     },
     "metadata": {},
     "output_type": "display_data"
    }
   ],
   "source": [
    "df1    = pd.read_csv('/Users/KimiZ/GRBs2/Sample/Band_13_GBM+LAT__22_GBMconstrained.txt', sep='\\t', header=0)\n",
    "df1['Eiso2']\n",
    "\n",
    "df1['Eiso2'][df1['trigger'] == 'bn111228657'] = 2.536767E52 # up to 7.1 GeV\n",
    "df1['Eiso2'][df1['trigger'] == 'bn130925173'] = 2.938458E52 # up to 9.5 GeV\n",
    "\n",
    "df2 = df1.copy()\n",
    "\n",
    "df2['eiso'] = df1['Eiso2']\n",
    "df2['eiso_err_low'] = df1['Eiso2_err']\n",
    "df2['eiso_err_up'] = df1['Eiso2_err']\n",
    "\n",
    "# LOG THE APPROPRIATE PARAMETERS IN EACH DATAFRAME.    \n",
    "df1 = fix_dataframe(df1)\n",
    "df2 = fix_dataframe(df2)\n",
    "\n",
    "\n",
    "param = 'eiso'\n",
    "\n",
    "xLab        = '10keV-10MeV'\n",
    "yLab        = '10keV-10GeV'\n",
    "\n",
    "plt.clf()\n",
    "\n",
    "\n",
    "parlab       = r'$E_{iso}$'\n",
    "axesLims     = [51.5, 55]\n",
    "\n",
    "sigma_rms = root_mean_square(eval('df1.%s'%param) - eval('df2.%s'%param))\n",
    "\n",
    "xline = np.linspace(axesLims[0], axesLims[1], 100)\n",
    "yline = 1*xline+0\n",
    "plt.plot(xline, yline, color='black', ls='-', lw=1, alpha=0.75)\n",
    "\n",
    "plt.errorbar(x       = eval('df1.%s'%param), \n",
    "             y       = eval('df2.%s'%param), \n",
    "             xerr    = [eval('df1.%s_err_low'%param), eval('df1.%s_err_up'%param)], \n",
    "             yerr    = [eval('df2.%s_err_low'%param), eval('df2.%s_err_up'%param)], \n",
    "             fmt = 'o', capsize = None, \n",
    "             color = 'red', ecolor = 'red', \n",
    "             ms=5, mec='brown', elinewidth=1, alpha=0.4)\n",
    "\n",
    "plt.xlim(axesLims[0], axesLims[1])\n",
    "plt.ylim(axesLims[0], axesLims[1])\n",
    "\n",
    "plt.figtext(0.15, 0.8, r'$\\sigma_{%i}=%.3f$'%(len(df1), sigma_rms), fontsize=12, color ='black') \n",
    "\n",
    "plt.figtext(0.5, 0.15, '%s/(1+z)'%xLab, fontsize=12,\n",
    "            horizontalalignment='center',)\n",
    "plt.figtext(0.15, 0.5, '%s/(1+z)'%yLab, fontsize=12, \n",
    "            verticalalignment='center', rotation=90)\n",
    "\n",
    "plt.figtext(0.8, 0.2, '%s'%parlab, \n",
    "            horizontalalignment='center', fontsize=22)\n",
    "#plt.show()\n",
    "\n",
    "filename = '/Users/KimiZ/GRBs2/python_modeling/EisoComparisonPlots/%s_%s_%s_BAND%i.pdf'%(param, xLab, yLab, len(df1))\n",
    "filename = filename.replace(' ', '_')\n",
    "filename = filename.replace('-', '_')\n",
    "print(filename)\n",
    "plt.savefig(filename)\n",
    "#os.system('open %s'%filename)\n"
   ]
  },
  {
   "cell_type": "markdown",
   "metadata": {},
   "source": [
    "# SBPL function"
   ]
  },
  {
   "cell_type": "code",
   "execution_count": 16,
   "metadata": {
    "collapsed": false
   },
   "outputs": [
    {
     "name": "stdout",
     "output_type": "stream",
     "text": [
      "/Users/KimiZ/GRBs2/python_modeling/EisoComparisonPlots/eiso_10keV_10MeV_10keV_10GeV_SBPL32.pdf\n"
     ]
    },
    {
     "data": {
      "image/png": "[encoded data removed]",
      "text/plain": [
       "<matplotlib.figure.Figure at 0x11029f510>"
      ]
     },
     "metadata": {},
     "output_type": "display_data"
    }
   ],
   "source": [
    "\n",
    "df1    = pd.read_csv('/Users/KimiZ/GRBs2/Sample/SBPL_13_GBM+LAT__19_GBMconstrained.txt', sep='\\t', header=0)\n",
    "\n",
    "df2 = df1.copy()\n",
    "\n",
    "df2['eiso'] = df1['Eiso2']\n",
    "df2['eiso_err_low'] = df1['Eiso2_err']\n",
    "df2['eiso_err_up'] = df1['Eiso2_err']\n",
    "\n",
    "# LOG THE APPROPRIATE PARAMETERS IN EACH DATAFRAME.    \n",
    "df1 = fix_dataframe(df1)\n",
    "df2 = fix_dataframe(df2)\n",
    "\n",
    "\n",
    "param = 'eiso'\n",
    "\n",
    "xLab        = '10keV-10MeV'\n",
    "yLab        = '10keV-10GeV'\n",
    "\n",
    "plt.clf()\n",
    "\n",
    "\n",
    "parlab       = r'$E_{iso}$'\n",
    "axesLims     = [51.5, 55]\n",
    "\n",
    "sigma_rms = root_mean_square(eval('df1.%s'%param) - eval('df2.%s'%param))\n",
    "\n",
    "xline = np.linspace(axesLims[0], axesLims[1], 100)\n",
    "yline = 1*xline+0\n",
    "plt.plot(xline, yline, color='black', ls='-', lw=1, alpha=0.75)\n",
    "\n",
    "plt.errorbar(x       = eval('df1.%s'%param), \n",
    "             y       = eval('df2.%s'%param), \n",
    "             xerr    = [eval('df1.%s_err_low'%param), eval('df1.%s_err_up'%param)], \n",
    "             yerr    = [eval('df2.%s_err_low'%param), eval('df2.%s_err_up'%param)], \n",
    "             fmt = 'o', capsize = None, \n",
    "             color = 'blue', ecolor = 'blue', \n",
    "             ms=5, mec='black', elinewidth=1, alpha=0.4)\n",
    "\n",
    "plt.xlim(axesLims[0], axesLims[1])\n",
    "plt.ylim(axesLims[0], axesLims[1])\n",
    "\n",
    "plt.figtext(0.15, 0.8, r'$\\sigma_{%i}=%.3f$'%(len(df1), sigma_rms), fontsize=12, color ='black') \n",
    "\n",
    "plt.figtext(0.5, 0.15, '%s/(1+z)'%xLab, fontsize=12,\n",
    "            horizontalalignment='center',)\n",
    "plt.figtext(0.15, 0.5, '%s/(1+z)'%yLab, fontsize=12, \n",
    "            verticalalignment='center', rotation=90)\n",
    "\n",
    "plt.figtext(0.8, 0.2, '%s'%parlab, \n",
    "            horizontalalignment='center', fontsize=22)\n",
    "#plt.show()\n",
    "\n",
    "filename = '/Users/KimiZ/GRBs2/python_modeling/EisoComparisonPlots/%s_%s_%s_SBPL%i.pdf'%(param, xLab, yLab, len(df1))\n",
    "filename = filename.replace(' ', '_')\n",
    "filename = filename.replace('-', '_')\n",
    "print(filename)\n",
    "plt.savefig(filename)\n",
    "#os.system('open %s'%filename)\n"
   ]
  },
  {
   "cell_type": "markdown",
   "metadata": {},
   "source": [
    "#  xLab        = '10keV-10MeV'\n",
    "#  yLab        = '1keV-10MeV'"
   ]
  },
  {
   "cell_type": "code",
   "execution_count": 17,
   "metadata": {
    "collapsed": false
   },
   "outputs": [
    {
     "name": "stderr",
     "output_type": "stream",
     "text": [
      "/Users/KimiZ/anaconda/lib/python2.7/site-packages/ipykernel_launcher.py:5: SettingWithCopyWarning: \n",
      "A value is trying to be set on a copy of a slice from a DataFrame\n",
      "\n",
      "See the caveats in the documentation: http://pandas.pydata.org/pandas-docs/stable/indexing.html#indexing-view-versus-copy\n",
      "  \"\"\"\n",
      "/Users/KimiZ/anaconda/lib/python2.7/site-packages/ipykernel_launcher.py:6: SettingWithCopyWarning: \n",
      "A value is trying to be set on a copy of a slice from a DataFrame\n",
      "\n",
      "See the caveats in the documentation: http://pandas.pydata.org/pandas-docs/stable/indexing.html#indexing-view-versus-copy\n",
      "  \n"
     ]
    },
    {
     "name": "stdout",
     "output_type": "stream",
     "text": [
      "/Users/KimiZ/GRBs2/python_modeling/EisoComparisonPlots/eiso_10keV_10MeV_1keV_10MeV_BAND35.pdf\n"
     ]
    },
    {
     "data": {
      "image/png": "[encoded data removed]",
      "text/plain": [
       "<matplotlib.figure.Figure at 0x1050b5c90>"
      ]
     },
     "metadata": {},
     "output_type": "display_data"
    }
   ],
   "source": [
    "df1    = pd.read_csv('/Users/KimiZ/GRBs2/Sample/Band_13_GBM+LAT__22_GBMconstrained.txt', sep='\\t', header=0)\n",
    "df1['Eiso2']\n",
    "#df1     = data[data.LATburst == 'Y'] # GBM+LAT\n",
    "\n",
    "df1['Eiso2'][df1['trigger'] == 'bn111228657'] = 2.536767E52 # up to 7.1 GeV\n",
    "df1['Eiso2'][df1['trigger'] == 'bn130925173'] = 2.938458E52 # up to 9.5 GeV\n",
    "\n",
    "df2 = df1.copy()\n",
    "\n",
    "df2['eiso']            = df1['Eiso3']\n",
    "df2['eiso_err_low']    = df1['Eiso3_err']\n",
    "df2['eiso_err_up']     = df1['Eiso3_err']\n",
    "\n",
    "# LOG THE APPROPRIATE PARAMETERS IN EACH DATAFRAME.    \n",
    "df1 = fix_dataframe(df1)\n",
    "df2 = fix_dataframe(df2)\n",
    "\n",
    "\n",
    "param = 'eiso'\n",
    "\n",
    "xLab        = '10keV-10MeV'\n",
    "yLab        = '1keV-10MeV'\n",
    "\n",
    "plt.clf()\n",
    "\n",
    "\n",
    "parlab       = r'$E_{iso}$'\n",
    "axesLims     = [51.5, 55]\n",
    "\n",
    "sigma_rms = root_mean_square(eval('df1.%s'%param) - eval('df2.%s'%param))\n",
    "\n",
    "xline = np.linspace(axesLims[0], axesLims[1], 100)\n",
    "yline = 1*xline+0\n",
    "plt.plot(xline, yline, color='black', ls='-', lw=1, alpha=0.75)\n",
    "\n",
    "plt.errorbar(x       = eval('df1.%s'%param), \n",
    "             y       = eval('df2.%s'%param), \n",
    "             xerr    = [eval('df1.%s_err_low'%param), eval('df1.%s_err_up'%param)], \n",
    "             yerr    = [eval('df2.%s_err_low'%param), eval('df2.%s_err_up'%param)], \n",
    "             fmt = 'o', capsize = None, \n",
    "             color = 'red', ecolor = 'red', \n",
    "             ms=5, mec='brown', elinewidth=1, alpha=0.4)\n",
    "\n",
    "plt.xlim(axesLims[0], axesLims[1])\n",
    "plt.ylim(axesLims[0], axesLims[1])\n",
    "\n",
    "plt.figtext(0.15, 0.8, r'$\\sigma_{%i}=%.3f$'%(len(df1), sigma_rms), fontsize=12, color ='black') \n",
    "\n",
    "plt.figtext(0.5, 0.15, '%s/(1+z)'%xLab, fontsize=12,\n",
    "            horizontalalignment='center',)\n",
    "plt.figtext(0.15, 0.5, '%s/(1+z)'%yLab, fontsize=12, \n",
    "            verticalalignment='center', rotation=90)\n",
    "\n",
    "plt.figtext(0.8, 0.2, '%s'%parlab, \n",
    "            horizontalalignment='center', fontsize=22)\n",
    "#plt.show()\n",
    "\n",
    "filename = '/Users/KimiZ/GRBs2/python_modeling/EisoComparisonPlots/%s_%s_%s_BAND%i.pdf'%(param, xLab, yLab, len(df1))\n",
    "filename = filename.replace(' ', '_')\n",
    "filename = filename.replace('-', '_')\n",
    "print(filename)\n",
    "plt.savefig(filename)\n",
    "#os.system('open %s'%filename)\n"
   ]
  },
  {
   "cell_type": "markdown",
   "metadata": {},
   "source": [
    "# SBPL function"
   ]
  },
  {
   "cell_type": "code",
   "execution_count": 18,
   "metadata": {
    "collapsed": false,
    "scrolled": true
   },
   "outputs": [
    {
     "name": "stdout",
     "output_type": "stream",
     "text": [
      "/Users/KimiZ/GRBs2/python_modeling/EisoComparisonPlots/eiso_10keV_10MeV_1keV_10MeV_SBPL32.pdf\n"
     ]
    },
    {
     "data": {
      "image/png": "[encoded data removed]",
      "text/plain": [
       "<matplotlib.figure.Figure at 0x10da5d550>"
      ]
     },
     "metadata": {},
     "output_type": "display_data"
    }
   ],
   "source": [
    "df1    = pd.read_csv('/Users/KimiZ/GRBs2/Sample/SBPL_13_GBM+LAT__19_GBMconstrained.txt', sep='\\t', header=0)\n",
    "\n",
    "df2 = df1.copy()\n",
    "\n",
    "df2['eiso']            = df1['Eiso3']\n",
    "df2['eiso_err_low']    = df1['Eiso3_err']\n",
    "df2['eiso_err_up']     = df1['Eiso3_err']\n",
    "\n",
    "# LOG THE APPROPRIATE PARAMETERS IN EACH DATAFRAME.    \n",
    "df1 = fix_dataframe(df1)\n",
    "df2 = fix_dataframe(df2)\n",
    "\n",
    "\n",
    "param = 'eiso'\n",
    "\n",
    "xLab        = '10keV-10MeV'\n",
    "yLab        = '1keV-10MeV'\n",
    "\n",
    "plt.clf()\n",
    "\n",
    "\n",
    "parlab       = r'$E_{iso}$'\n",
    "axesLims     = [51.5, 55]\n",
    "\n",
    "sigma_rms = root_mean_square(eval('df1.%s'%param) - eval('df2.%s'%param))\n",
    "\n",
    "xline = np.linspace(axesLims[0], axesLims[1], 100)\n",
    "yline = 1*xline+0\n",
    "plt.plot(xline, yline, color='black', ls='-', lw=1, alpha=0.75)\n",
    "\n",
    "plt.errorbar(x       = eval('df1.%s'%param), \n",
    "             y       = eval('df2.%s'%param), \n",
    "             xerr    = [eval('df1.%s_err_low'%param), eval('df1.%s_err_up'%param)], \n",
    "             yerr    = [eval('df2.%s_err_low'%param), eval('df2.%s_err_up'%param)], \n",
    "             fmt = 'o', capsize = None, \n",
    "             color = 'blue', ecolor = 'blue', \n",
    "             ms=5, mec='black', elinewidth=1, alpha=0.4)\n",
    "\n",
    "plt.xlim(axesLims[0], axesLims[1])\n",
    "plt.ylim(axesLims[0], axesLims[1])\n",
    "\n",
    "plt.figtext(0.15, 0.8, r'$\\sigma_{%i}=%.3f$'%(len(df1), sigma_rms), fontsize=12, color ='black') \n",
    "\n",
    "plt.figtext(0.5, 0.15, '%s/(1+z)'%xLab, fontsize=12,\n",
    "            horizontalalignment='center',)\n",
    "plt.figtext(0.15, 0.5, '%s/(1+z)'%yLab, fontsize=12, \n",
    "            verticalalignment='center', rotation=90)\n",
    "\n",
    "plt.figtext(0.8, 0.2, '%s'%parlab, \n",
    "            horizontalalignment='center', fontsize=22)\n",
    "#plt.show()\n",
    "\n",
    "filename = '/Users/KimiZ/GRBs2/python_modeling/EisoComparisonPlots/%s_%s_%s_SBPL%i.pdf'%(param, xLab, yLab, len(df1))\n",
    "filename = filename.replace(' ', '_')\n",
    "filename = filename.replace('-', '_')\n",
    "print(filename)\n",
    "plt.savefig(filename)\n",
    "#os.system('open %s'%filename)\n"
   ]
  },
  {
   "cell_type": "code",
   "execution_count": null,
   "metadata": {
    "collapsed": true
   },
   "outputs": [],
   "source": []
  }
 ],
 "metadata": {
  "kernelspec": {
   "display_name": "Python 2",
   "language": "python",
   "name": "python2"
  },
  "language_info": {
   "codemirror_mode": {
    "name": "ipython",
    "version": 2
   },
   "file_extension": ".py",
   "mimetype": "text/x-python",
   "name": "python",
   "nbconvert_exporter": "python",
   "pygments_lexer": "ipython2",
   "version": "2.7.11"
  }
 },
 "nbformat": 4,
 "nbformat_minor": 0
}
