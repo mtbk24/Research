{
 "cells": [
  {
   "cell_type": "code",
   "execution_count": 1,
   "metadata": {
    "collapsed": false
   },
   "outputs": [],
   "source": [
    "from __future__ import division\n",
    "import numpy as np\n",
    "import pandas as pd\n",
    "import matplotlib.pyplot as plt\n",
    "%matplotlib inline\n",
    "\n",
    "from loggingdata import log_margin_of_error"
   ]
  },
  {
   "cell_type": "code",
   "execution_count": 2,
   "metadata": {
    "collapsed": false
   },
   "outputs": [],
   "source": [
    "df1 = pd.read_csv('/Users/KimiZ/GRBs2/Sample/RMFIT_Band_46_GBMbursts.txt', sep='\\t', header=0)"
   ]
  },
  {
   "cell_type": "code",
   "execution_count": 3,
   "metadata": {
    "collapsed": false
   },
   "outputs": [
    {
     "data": {
      "text/html": [
       "<div>\n",
       "<table border=\"1\" class=\"dataframe\">\n",
       "  <thead>\n",
       "    <tr style=\"text-align: right;\">\n",
       "      <th></th>\n",
       "      <th>iteration</th>\n",
       "      <th>trigger</th>\n",
       "      <th>name</th>\n",
       "      <th>number</th>\n",
       "      <th>z</th>\n",
       "      <th>LumDist</th>\n",
       "      <th>trigtime</th>\n",
       "      <th>t90</th>\n",
       "      <th>t90Rest</th>\n",
       "      <th>t90start</th>\n",
       "      <th>...</th>\n",
       "      <th>Flue2</th>\n",
       "      <th>Flue2_err</th>\n",
       "      <th>Flue3</th>\n",
       "      <th>Flue3_err</th>\n",
       "      <th>Eiso1</th>\n",
       "      <th>Eiso1_err</th>\n",
       "      <th>Eiso2</th>\n",
       "      <th>Eiso2_err</th>\n",
       "      <th>Eiso3</th>\n",
       "      <th>Eiso3_err</th>\n",
       "    </tr>\n",
       "  </thead>\n",
       "  <tbody>\n",
       "    <tr>\n",
       "      <th>0</th>\n",
       "      <td>1</td>\n",
       "      <td>bn080804972</td>\n",
       "      <td>80804</td>\n",
       "      <td>0</td>\n",
       "      <td>2.2045</td>\n",
       "      <td>5.536738e+28</td>\n",
       "      <td>54682.97239</td>\n",
       "      <td>24.704</td>\n",
       "      <td>7.709159</td>\n",
       "      <td>0.256</td>\n",
       "      <td>...</td>\n",
       "      <td>0.000010</td>\n",
       "      <td>0.000002</td>\n",
       "      <td>0.000010</td>\n",
       "      <td>1.743566e-06</td>\n",
       "      <td>1.159516e+53</td>\n",
       "      <td>2.096977e+52</td>\n",
       "      <td>1.165993e+53</td>\n",
       "      <td>2.687305e+52</td>\n",
       "      <td>1.163744e+53</td>\n",
       "      <td>2.096022e+52</td>\n",
       "    </tr>\n",
       "    <tr>\n",
       "      <th>1</th>\n",
       "      <td>6</td>\n",
       "      <td>bn080810549</td>\n",
       "      <td>80810</td>\n",
       "      <td>1</td>\n",
       "      <td>3.3604</td>\n",
       "      <td>9.206175e+28</td>\n",
       "      <td>54688.54876</td>\n",
       "      <td>107.456</td>\n",
       "      <td>24.643611</td>\n",
       "      <td>-20.096</td>\n",
       "      <td>...</td>\n",
       "      <td>0.000031</td>\n",
       "      <td>0.000010</td>\n",
       "      <td>0.000027</td>\n",
       "      <td>1.885465e-06</td>\n",
       "      <td>6.407256e+53</td>\n",
       "      <td>4.536912e+52</td>\n",
       "      <td>7.456679e+53</td>\n",
       "      <td>2.533761e+53</td>\n",
       "      <td>6.508130e+53</td>\n",
       "      <td>4.605327e+52</td>\n",
       "    </tr>\n",
       "    <tr>\n",
       "      <th>2</th>\n",
       "      <td>11</td>\n",
       "      <td>bn080905499</td>\n",
       "      <td>080905A</td>\n",
       "      <td>2</td>\n",
       "      <td>0.1218</td>\n",
       "      <td>1.810691e+27</td>\n",
       "      <td>54714.49925</td>\n",
       "      <td>0.960</td>\n",
       "      <td>0.855768</td>\n",
       "      <td>-0.064</td>\n",
       "      <td>...</td>\n",
       "      <td>0.000008</td>\n",
       "      <td>0.000011</td>\n",
       "      <td>0.000002</td>\n",
       "      <td>4.575722e-07</td>\n",
       "      <td>6.499566e+49</td>\n",
       "      <td>1.680600e+49</td>\n",
       "      <td>3.120250e+50</td>\n",
       "      <td>4.161769e+50</td>\n",
       "      <td>6.501236e+49</td>\n",
       "      <td>1.680517e+49</td>\n",
       "    </tr>\n",
       "    <tr>\n",
       "      <th>3</th>\n",
       "      <td>34</td>\n",
       "      <td>bn080928628</td>\n",
       "      <td>80928</td>\n",
       "      <td>6</td>\n",
       "      <td>1.6919</td>\n",
       "      <td>4.006108e+28</td>\n",
       "      <td>54737.62843</td>\n",
       "      <td>14.336</td>\n",
       "      <td>5.325606</td>\n",
       "      <td>-1.792</td>\n",
       "      <td>...</td>\n",
       "      <td>0.000002</td>\n",
       "      <td>0.000001</td>\n",
       "      <td>0.000002</td>\n",
       "      <td>5.836189e-07</td>\n",
       "      <td>1.377612e+52</td>\n",
       "      <td>4.425007e+51</td>\n",
       "      <td>1.480658e+52</td>\n",
       "      <td>1.018460e+52</td>\n",
       "      <td>1.609213e+52</td>\n",
       "      <td>4.372458e+51</td>\n",
       "    </tr>\n",
       "    <tr>\n",
       "      <th>4</th>\n",
       "      <td>38</td>\n",
       "      <td>bn081008832</td>\n",
       "      <td>81008</td>\n",
       "      <td>7</td>\n",
       "      <td>1.9670</td>\n",
       "      <td>4.818115e+28</td>\n",
       "      <td>54747.83197</td>\n",
       "      <td>150.016</td>\n",
       "      <td>50.561510</td>\n",
       "      <td>0.000</td>\n",
       "      <td>...</td>\n",
       "      <td>0.000113</td>\n",
       "      <td>0.000037</td>\n",
       "      <td>0.000017</td>\n",
       "      <td>1.517899e-06</td>\n",
       "      <td>1.698696e+53</td>\n",
       "      <td>1.470818e+52</td>\n",
       "      <td>1.109155e+54</td>\n",
       "      <td>3.655387e+53</td>\n",
       "      <td>1.707400e+53</td>\n",
       "      <td>1.492415e+52</td>\n",
       "    </tr>\n",
       "  </tbody>\n",
       "</table>\n",
       "<p>5 rows × 62 columns</p>\n",
       "</div>"
      ],
      "text/plain": [
       "   iteration      trigger     name  number       z       LumDist     trigtime  \\\n",
       "0          1  bn080804972    80804       0  2.2045  5.536738e+28  54682.97239   \n",
       "1          6  bn080810549    80810       1  3.3604  9.206175e+28  54688.54876   \n",
       "2         11  bn080905499  080905A       2  0.1218  1.810691e+27  54714.49925   \n",
       "3         34  bn080928628    80928       6  1.6919  4.006108e+28  54737.62843   \n",
       "4         38  bn081008832    81008       7  1.9670  4.818115e+28  54747.83197   \n",
       "\n",
       "       t90    t90Rest  t90start      ...          Flue2 Flue2_err     Flue3  \\\n",
       "0   24.704   7.709159     0.256      ...       0.000010  0.000002  0.000010   \n",
       "1  107.456  24.643611   -20.096      ...       0.000031  0.000010  0.000027   \n",
       "2    0.960   0.855768    -0.064      ...       0.000008  0.000011  0.000002   \n",
       "3   14.336   5.325606    -1.792      ...       0.000002  0.000001  0.000002   \n",
       "4  150.016  50.561510     0.000      ...       0.000113  0.000037  0.000017   \n",
       "\n",
       "      Flue3_err         Eiso1     Eiso1_err         Eiso2     Eiso2_err  \\\n",
       "0  1.743566e-06  1.159516e+53  2.096977e+52  1.165993e+53  2.687305e+52   \n",
       "1  1.885465e-06  6.407256e+53  4.536912e+52  7.456679e+53  2.533761e+53   \n",
       "2  4.575722e-07  6.499566e+49  1.680600e+49  3.120250e+50  4.161769e+50   \n",
       "3  5.836189e-07  1.377612e+52  4.425007e+51  1.480658e+52  1.018460e+52   \n",
       "4  1.517899e-06  1.698696e+53  1.470818e+52  1.109155e+54  3.655387e+53   \n",
       "\n",
       "          Eiso3     Eiso3_err  \n",
       "0  1.163744e+53  2.096022e+52  \n",
       "1  6.508130e+53  4.605327e+52  \n",
       "2  6.501236e+49  1.680517e+49  \n",
       "3  1.609213e+52  4.372458e+51  \n",
       "4  1.707400e+53  1.492415e+52  \n",
       "\n",
       "[5 rows x 62 columns]"
      ]
     },
     "execution_count": 3,
     "metadata": {},
     "output_type": "execute_result"
    }
   ],
   "source": [
    "df1.head()"
   ]
  },
  {
   "cell_type": "raw",
   "metadata": {},
   "source": [
    "log_margin_of_error?  # activeate this for help on function. Or see loggingdata.py"
   ]
  },
  {
   "cell_type": "code",
   "execution_count": 4,
   "metadata": {
    "collapsed": false
   },
   "outputs": [
    {
     "data": {
      "text/plain": [
       "(array([ 53.06427683,  53.8066721 ,  49.81288433,  52.13912707,\n",
       "         53.23011557,  53.50577425,  53.5529516 ,  53.3790005 ,\n",
       "         53.33430111,  52.34911019,  52.79341752,  52.6214454 ,\n",
       "         53.38880257,  52.5927724 ,  51.06442376,  53.00513144,\n",
       "         52.98710513,  52.16047493,  51.23796464,  53.73827855,\n",
       "         52.80329793,  52.60744439,  53.10608741,  51.8850159 ,\n",
       "         53.41045807,  51.70628871,  51.52963041,  52.4580306 ,\n",
       "         52.93947387,  53.46675865,  52.39290272,  53.55206349,\n",
       "         52.55165743,  54.26252753,  53.28786323,  52.26208418,\n",
       "         51.34137285,  53.33547042,  53.09571029,  52.67471883,\n",
       "         51.89953524,  52.45143844,  51.04598967,  53.29400987,\n",
       "         53.49451716,  52.98435175]),\n",
       " array([ 0.0866362 ,  0.03189499,  0.12993054,  0.16826355,  0.03933193,\n",
       "         0.03105123,  0.0077397 ,  0.02681155,  0.02474766,  0.07622266,\n",
       "         0.11434231,  0.01020568,  0.00674089,  0.02671388,  0.16931673,\n",
       "         0.04548537,  0.08613118,  0.00756268,  0.1403005 ,  0.01113331,\n",
       "         0.03460902,  0.08652547,  0.05466728,  0.03473503,  0.03537852,\n",
       "         0.06288724,  1.09804537,  0.12174058,  0.02583558,  0.04165979,\n",
       "         0.03896814,  0.01879567,  0.0274765 ,  0.00575705,  0.04802903,\n",
       "         0.04820999,  0.35098488,         nan,  0.02272782,         nan,\n",
       "         0.16632437,  0.01232184,  0.0914985 ,  0.05520936,  0.02029849,\n",
       "         0.01214853]),\n",
       " array([ 0.07219448,  0.029712  ,  0.09987779,  0.12097133,  0.03606376,\n",
       "         0.0289785 ,  0.00760418,  0.02525212,  0.02341315,  0.06482111,\n",
       "         0.09042579,  0.00997135,  0.00663786,  0.02516547,  0.12151143,\n",
       "         0.04116991,  0.0718438 ,  0.00743324,  0.10587284,  0.01085503,\n",
       "         0.03205342,  0.07211765,  0.04854896,  0.03216147,  0.03271235,\n",
       "         0.05492219,  0.28334847,  0.09497976,  0.02438457,  0.03801103,\n",
       "         0.03575772,  0.01801585,  0.0258411 ,  0.00568173,  0.04324242,\n",
       "         0.04338903,  0.19154274,         nan,  0.02159733,         nan,\n",
       "         0.11997167,  0.01198187,  0.07553574,  0.04897589,  0.01939197,\n",
       "         0.01181792]))"
      ]
     },
     "execution_count": 4,
     "metadata": {},
     "output_type": "execute_result"
    }
   ],
   "source": [
    "# works with pandas Series (columns of a dataframe are \"Series\", rows are 1D dataframes)\n",
    "log_margin_of_error(value     = df1.eiso, \n",
    "                    moe_lower = df1.eiso_err_low, \n",
    "                    moe_upper = df1.eiso_err_up)"
   ]
  },
  {
   "cell_type": "code",
   "execution_count": 5,
   "metadata": {
    "collapsed": false
   },
   "outputs": [
    {
     "data": {
      "text/plain": [
       "(array([ 53.06427683,  53.8066721 ,  49.81288433,  52.13912707,\n",
       "         53.23011557,  53.50577425,  53.5529516 ,  53.3790005 ,\n",
       "         53.33430111,  52.34911019,  52.79341752,  52.6214454 ,\n",
       "         53.38880257,  52.5927724 ,  51.06442376,  53.00513144,\n",
       "         52.98710513,  52.16047493,  51.23796464,  53.73827855,\n",
       "         52.80329793,  52.60744439,  53.10608741,  51.8850159 ,\n",
       "         53.41045807,  51.70628871,  51.52963041,  52.4580306 ,\n",
       "         52.93947387,  53.46675865,  52.39290272,  53.55206349,\n",
       "         52.55165743,  54.26252753,  53.28786323,  52.26208418,\n",
       "         51.34137285,  53.33547042,  53.09571029,  52.67471883,\n",
       "         51.89953524,  52.45143844,  51.04598967,  53.29400987,\n",
       "         53.49451716,  52.98435175]),\n",
       " array([ 0.0866362 ,  0.03189499,  0.12993054,  0.16826355,  0.03933193,\n",
       "         0.03105123,  0.0077397 ,  0.02681155,  0.02474766,  0.07622266,\n",
       "         0.11434231,  0.01020568,  0.00674089,  0.02671388,  0.16931673,\n",
       "         0.04548537,  0.08613118,  0.00756268,  0.1403005 ,  0.01113331,\n",
       "         0.03460902,  0.08652547,  0.05466728,  0.03473503,  0.03537852,\n",
       "         0.06288724,  1.09804537,  0.12174058,  0.02583558,  0.04165979,\n",
       "         0.03896814,  0.01879567,  0.0274765 ,  0.00575705,  0.04802903,\n",
       "         0.04820999,  0.35098488,         nan,  0.02272782,         nan,\n",
       "         0.16632437,  0.01232184,  0.0914985 ,  0.05520936,  0.02029849,\n",
       "         0.01214853]),\n",
       " array([ 0.07219448,  0.029712  ,  0.09987779,  0.12097133,  0.03606376,\n",
       "         0.0289785 ,  0.00760418,  0.02525212,  0.02341315,  0.06482111,\n",
       "         0.09042579,  0.00997135,  0.00663786,  0.02516547,  0.12151143,\n",
       "         0.04116991,  0.0718438 ,  0.00743324,  0.10587284,  0.01085503,\n",
       "         0.03205342,  0.07211765,  0.04854896,  0.03216147,  0.03271235,\n",
       "         0.05492219,  0.28334847,  0.09497976,  0.02438457,  0.03801103,\n",
       "         0.03575772,  0.01801585,  0.0258411 ,  0.00568173,  0.04324242,\n",
       "         0.04338903,  0.19154274,         nan,  0.02159733,         nan,\n",
       "         0.11997167,  0.01198187,  0.07553574,  0.04897589,  0.01939197,\n",
       "         0.01181792]))"
      ]
     },
     "execution_count": 5,
     "metadata": {},
     "output_type": "execute_result"
    }
   ],
   "source": [
    "# works with lists \n",
    "log_margin_of_error(value     = df1.eiso.tolist(), \n",
    "                    moe_lower = df1.eiso_err_low.tolist(), \n",
    "                    moe_upper = df1.eiso_err_up.tolist())"
   ]
  },
  {
   "cell_type": "code",
   "execution_count": 6,
   "metadata": {
    "collapsed": false
   },
   "outputs": [
    {
     "data": {
      "text/plain": [
       "(array([ 53.06427683,  53.8066721 ,  49.81288433,  52.13912707,\n",
       "         53.23011557,  53.50577425,  53.5529516 ,  53.3790005 ,\n",
       "         53.33430111,  52.34911019,  52.79341752,  52.6214454 ,\n",
       "         53.38880257,  52.5927724 ,  51.06442376,  53.00513144,\n",
       "         52.98710513,  52.16047493,  51.23796464,  53.73827855,\n",
       "         52.80329793,  52.60744439,  53.10608741,  51.8850159 ,\n",
       "         53.41045807,  51.70628871,  51.52963041,  52.4580306 ,\n",
       "         52.93947387,  53.46675865,  52.39290272,  53.55206349,\n",
       "         52.55165743,  54.26252753,  53.28786323,  52.26208418,\n",
       "         51.34137285,  53.33547042,  53.09571029,  52.67471883,\n",
       "         51.89953524,  52.45143844,  51.04598967,  53.29400987,\n",
       "         53.49451716,  52.98435175]),\n",
       " array([ 0.0866362 ,  0.03189499,  0.12993054,  0.16826355,  0.03933193,\n",
       "         0.03105123,  0.0077397 ,  0.02681155,  0.02474766,  0.07622266,\n",
       "         0.11434231,  0.01020568,  0.00674089,  0.02671388,  0.16931673,\n",
       "         0.04548537,  0.08613118,  0.00756268,  0.1403005 ,  0.01113331,\n",
       "         0.03460902,  0.08652547,  0.05466728,  0.03473503,  0.03537852,\n",
       "         0.06288724,  1.09804537,  0.12174058,  0.02583558,  0.04165979,\n",
       "         0.03896814,  0.01879567,  0.0274765 ,  0.00575705,  0.04802903,\n",
       "         0.04820999,  0.35098488,         nan,  0.02272782,         nan,\n",
       "         0.16632437,  0.01232184,  0.0914985 ,  0.05520936,  0.02029849,\n",
       "         0.01214853]),\n",
       " array([ 0.07219448,  0.029712  ,  0.09987779,  0.12097133,  0.03606376,\n",
       "         0.0289785 ,  0.00760418,  0.02525212,  0.02341315,  0.06482111,\n",
       "         0.09042579,  0.00997135,  0.00663786,  0.02516547,  0.12151143,\n",
       "         0.04116991,  0.0718438 ,  0.00743324,  0.10587284,  0.01085503,\n",
       "         0.03205342,  0.07211765,  0.04854896,  0.03216147,  0.03271235,\n",
       "         0.05492219,  0.28334847,  0.09497976,  0.02438457,  0.03801103,\n",
       "         0.03575772,  0.01801585,  0.0258411 ,  0.00568173,  0.04324242,\n",
       "         0.04338903,  0.19154274,         nan,  0.02159733,         nan,\n",
       "         0.11997167,  0.01198187,  0.07553574,  0.04897589,  0.01939197,\n",
       "         0.01181792]))"
      ]
     },
     "execution_count": 6,
     "metadata": {},
     "output_type": "execute_result"
    }
   ],
   "source": [
    "# works with numpy arrays\n",
    "log_margin_of_error(value     = np.asarray(df1.eiso.tolist()), \n",
    "                    moe_lower = np.asarray(df1.eiso_err_low.tolist()), \n",
    "                    moe_upper = np.asarray(df1.eiso_err_up.tolist()))"
   ]
  },
  {
   "cell_type": "code",
   "execution_count": 7,
   "metadata": {
    "collapsed": false
   },
   "outputs": [
    {
     "data": {
      "text/plain": [
       "(53.06427683381078, 0.086636195952117134, 0.072194478333685197)"
      ]
     },
     "execution_count": 7,
     "metadata": {},
     "output_type": "execute_result"
    }
   ],
   "source": [
    "# works for a single float value. \n",
    "log_margin_of_error(value     = df1.eiso.tolist()[0], \n",
    "                    moe_lower = df1.eiso_err_low.tolist()[0], \n",
    "                    moe_upper = df1.eiso_err_up.tolist()[0])"
   ]
  },
  {
   "cell_type": "code",
   "execution_count": 8,
   "metadata": {
    "collapsed": false
   },
   "outputs": [
    {
     "data": {
      "text/plain": [
       "(1.1760912590556813, 0.062147906748844628, 0.079181246047624665)"
      ]
     },
     "execution_count": 8,
     "metadata": {},
     "output_type": "execute_result"
    }
   ],
   "source": [
    "# works with single integer values. \n",
    "log_margin_of_error(value     = 15, \n",
    "                    moe_lower = 2, \n",
    "                    moe_upper = 3)"
   ]
  },
  {
   "cell_type": "markdown",
   "metadata": {},
   "source": [
    "## Plots:"
   ]
  },
  {
   "cell_type": "code",
   "execution_count": 9,
   "metadata": {
    "collapsed": true
   },
   "outputs": [],
   "source": [
    "x,xerrL,xerrU = log_margin_of_error(value     = df1.eiso, \n",
    "                                    moe_lower = df1.eiso_err_low, \n",
    "                                    moe_upper = df1.eiso_err_up)\n",
    "\n",
    "y,yerrL,yerrU = log_margin_of_error(value     = df1.epeakRest, \n",
    "                                    moe_lower = df1.epeakRest_err_low, \n",
    "                                    moe_upper = df1.epeakRest_err_up)"
   ]
  },
  {
   "cell_type": "code",
   "execution_count": 10,
   "metadata": {
    "collapsed": false
   },
   "outputs": [
    {
     "data": {
      "text/plain": [
       "Text(0,0.5,u'E$_{pk}$ (keV)')"
      ]
     },
     "execution_count": 10,
     "metadata": {},
     "output_type": "execute_result"
    },
    {
     "data": {
      "image/png": "[encoded data removed]",
      "text/plain": [
       "<matplotlib.figure.Figure at 0x10da44e10>"
      ]
     },
     "metadata": {},
     "output_type": "display_data"
    }
   ],
   "source": [
    "# THIS WORKS!\n",
    "\n",
    "# Using the pandas Series in their original form.\n",
    "plt.figure(figsize=(9,6))\n",
    "plt.errorbar(x, y, xerr=[xerrL, xerrU], yerr=[yerrL, yerrU],\n",
    "             fmt='.', color='blue', capsize=None, alpha=0.75)\n",
    "plt.xlim(49,55)\n",
    "plt.ylim(1.25, 4)\n",
    "plt.xlabel('E$_{iso}$ (erg)', fontsize=16)\n",
    "plt.ylabel('E$_{pk}$ (keV)', fontsize=16)"
   ]
  },
  {
   "cell_type": "code",
   "execution_count": 11,
   "metadata": {
    "collapsed": false
   },
   "outputs": [
    {
     "data": {
      "text/plain": [
       "Text(0,0.5,u'E$_{pk}$ (keV)')"
      ]
     },
     "execution_count": 11,
     "metadata": {},
     "output_type": "execute_result"
    },
    {
     "data": {
      "image/png": "[encoded data removed]",
      "text/plain": [
       "<matplotlib.figure.Figure at 0x1100d2990>"
      ]
     },
     "metadata": {},
     "output_type": "display_data"
    }
   ],
   "source": [
    "# THIS WORKS!\n",
    "\n",
    "# Converting the pandas Series into lists using .tolist() .\n",
    "plt.figure(figsize=(9,6))\n",
    "plt.errorbar(x, y, \n",
    "             xerr=[xerrL.tolist(), xerrU.tolist()], # .tolist()\n",
    "             yerr=[yerrL.tolist(), yerrU.tolist()],\n",
    "             fmt='.', color='blue', capsize=None, alpha=0.75)\n",
    "plt.xlim(49,55)\n",
    "plt.ylim(1.25, 4)\n",
    "plt.xlabel('E$_{iso}$ (erg)', fontsize=16)\n",
    "plt.ylabel('E$_{pk}$ (keV)', fontsize=16)"
   ]
  },
  {
   "cell_type": "code",
   "execution_count": 12,
   "metadata": {
    "collapsed": false
   },
   "outputs": [
    {
     "data": {
      "text/plain": [
       "Text(0,0.5,u'E$_{pk}$ (keV)')"
      ]
     },
     "execution_count": 12,
     "metadata": {},
     "output_type": "execute_result"
    },
    {
     "data": {
      "image/png": "[encoded data removed]",
      "text/plain": [
       "<matplotlib.figure.Figure at 0x10da7a790>"
      ]
     },
     "metadata": {},
     "output_type": "display_data"
    }
   ],
   "source": [
    "# THIS WORKS!\n",
    "\n",
    "# Converting the pandas Series into numpy arrays. With .tolist()\n",
    "plt.figure(figsize=(9,6))\n",
    "plt.errorbar(x, y, \n",
    "             xerr= np.asarray([xerrL.tolist(), xerrU.tolist()]), \n",
    "             yerr= np.asarray([yerrL.tolist(), yerrU.tolist()]),\n",
    "             fmt='.', color='blue', capsize=None, alpha=0.75)\n",
    "plt.xlim(49,55)\n",
    "plt.ylim(1.25, 4)\n",
    "plt.xlabel('E$_{iso}$ (erg)', fontsize=16)\n",
    "plt.ylabel('E$_{pk}$ (keV)', fontsize=16)"
   ]
  },
  {
   "cell_type": "code",
   "execution_count": 13,
   "metadata": {
    "collapsed": false
   },
   "outputs": [
    {
     "data": {
      "text/plain": [
       "Text(0,0.5,u'E$_{pk}$ (keV)')"
      ]
     },
     "execution_count": 13,
     "metadata": {},
     "output_type": "execute_result"
    },
    {
     "data": {
      "image/png": "[encoded data removed]",
      "text/plain": [
       "<matplotlib.figure.Figure at 0x110244dd0>"
      ]
     },
     "metadata": {},
     "output_type": "display_data"
    }
   ],
   "source": [
    "# THIS WORKS!\n",
    "\n",
    "# Converting the pandas Series into numpy arrays. Removed .tolist()\n",
    "plt.figure(figsize=(9,6))\n",
    "plt.errorbar(x, y, \n",
    "             xerr= np.asarray([xerrL, xerrU]), \n",
    "             yerr= np.asarray([yerrL, yerrU]),\n",
    "             fmt='.', color='blue', capsize=None, alpha=0.75)\n",
    "plt.xlim(49,55)\n",
    "plt.ylim(1.25, 4)\n",
    "plt.xlabel('E$_{iso}$ (erg)', fontsize=16)\n",
    "plt.ylabel('E$_{pk}$ (keV)', fontsize=16)"
   ]
  },
  {
   "cell_type": "code",
   "execution_count": 14,
   "metadata": {
    "collapsed": false
   },
   "outputs": [
    {
     "data": {
      "text/plain": [
       "Text(0,0.5,u'E$_{pk}$ (keV)')"
      ]
     },
     "execution_count": 14,
     "metadata": {},
     "output_type": "execute_result"
    },
    {
     "data": {
      "image/png": "[encoded data removed]",
      "text/plain": [
       "<matplotlib.figure.Figure at 0x10524fa90>"
      ]
     },
     "metadata": {},
     "output_type": "display_data"
    }
   ],
   "source": [
    "# THIS WORKS!\n",
    "\n",
    "# Converting each error Series into numpy arrays.\n",
    "plt.figure(figsize=(9,6))\n",
    "plt.errorbar(x, y, \n",
    "             xerr= [np.asarray(xerrL), np.asarray(xerrU)], \n",
    "             yerr= [np.asarray(yerrL), np.asarray(yerrU)], \n",
    "             fmt='.', color='blue', capsize=None, alpha=0.75)\n",
    "plt.xlim(49,55)\n",
    "plt.ylim(1.25, 4)\n",
    "plt.xlabel('E$_{iso}$ (erg)', fontsize=16)\n",
    "plt.ylabel('E$_{pk}$ (keV)', fontsize=16)"
   ]
  },
  {
   "cell_type": "markdown",
   "metadata": {},
   "source": [
    "---\n",
    "\n",
    "---"
   ]
  },
  {
   "cell_type": "markdown",
   "metadata": {},
   "source": [
    "# When problems crop up:\n",
    "All of these plots show our asymetric error bars, as desired. What happens if we only want to plot a SINGLE data point from our sample? Using the same format as with multiple data points, we get a ValueError:\n",
    "\n",
    "    ValueError: err must be [ scalar | N, Nx1 or 2xN array-like ]\n",
    "\n",
    "The proper way to do this is to use nested lists, transform them into numpy arrays and then take the transpose. "
   ]
  },
  {
   "cell_type": "raw",
   "metadata": {},
   "source": [
    "# THIS THROWS A VALUE ERROR. \n",
    "\n",
    "# Using the pandas Series in their original form.\n",
    "plt.figure(figsize=(9,6))\n",
    "plt.errorbar(x = x[3], y = y[3], \n",
    "             xerr=[xerrL[3], xerrU[3]], \n",
    "             yerr=[yerrL[3], yerrU[3]],\n",
    "             fmt='.', color='blue', capsize=None, alpha=0.75)\n",
    "plt.xlim(49,55)\n",
    "plt.ylim(1.25, 4)\n",
    "plt.xlabel('E$_{iso}$ (erg)', fontsize=16)\n",
    "plt.ylabel('E$_{pk}$ (keV)', fontsize=16)"
   ]
  },
  {
   "cell_type": "markdown",
   "metadata": {},
   "source": [
    "The first instinct may be to used nested lists:"
   ]
  },
  {
   "cell_type": "raw",
   "metadata": {},
   "source": [
    "# THIS PLOTS SYMMETRIC ERRORS USING ONLY THE LOWER ERRORS.\n",
    "plt.figure(figsize=(9,6))\n",
    "plt.errorbar(x = x[3], y = y[3], \n",
    "             xerr= [[xerrL[3], xerrU[3]]], \n",
    "             yerr= [[yerrL[3], yerrU[3]]],\n",
    "             fmt='.', color='blue', capsize=None, alpha=0.75)\n",
    "plt.xlim(49,55)\n",
    "plt.ylim(1.25, 4)\n",
    "plt.xlabel('E$_{iso}$ (erg)', fontsize=16)\n",
    "plt.ylabel('E$_{pk}$ (keV)', fontsize=16)"
   ]
  },
  {
   "cell_type": "code",
   "execution_count": 15,
   "metadata": {
    "collapsed": false
   },
   "outputs": [
    {
     "data": {
      "text/plain": [
       "Text(0,0.5,u'E$_{pk}$ (keV)')"
      ]
     },
     "execution_count": 15,
     "metadata": {},
     "output_type": "execute_result"
    },
    {
     "data": {
      "image/png": "[encoded data removed]",
      "text/plain": [
       "<matplotlib.figure.Figure at 0x110b7ab50>"
      ]
     },
     "metadata": {},
     "output_type": "display_data"
    }
   ],
   "source": [
    "# THIS IS THE CORRECT WAY!!! \n",
    "\n",
    "plt.figure(figsize=(9,6))\n",
    "plt.errorbar(x = x[3], y = y[3], \n",
    "             xerr= np.transpose(np.asarray([[xerrL[3], xerrU[3]]])), \n",
    "             yerr= np.transpose(np.asarray([[yerrL[3], yerrU[3]]])),\n",
    "             fmt='.', color='blue', capsize=None, alpha=0.75)\n",
    "plt.xlim(49,55)\n",
    "plt.ylim(1.25, 4)\n",
    "plt.xlabel('E$_{iso}$ (erg)', fontsize=16)\n",
    "plt.ylabel('E$_{pk}$ (keV)', fontsize=16)"
   ]
  },
  {
   "cell_type": "markdown",
   "metadata": {},
   "source": [
    "Make sure data point has shape (2, 1)"
   ]
  },
  {
   "cell_type": "code",
   "execution_count": 16,
   "metadata": {
    "collapsed": false
   },
   "outputs": [
    {
     "data": {
      "text/plain": [
       "(2, 1)"
      ]
     },
     "execution_count": 16,
     "metadata": {},
     "output_type": "execute_result"
    }
   ],
   "source": [
    "np.transpose( np.asarray( [[xerrL[3], xerrU[3]]] )).shape"
   ]
  },
  {
   "cell_type": "markdown",
   "metadata": {},
   "source": [
    "with format:\n",
    "    \n",
    "    array([[ lower_error ],\n",
    "           [ upper_error ]])"
   ]
  },
  {
   "cell_type": "code",
   "execution_count": 17,
   "metadata": {
    "collapsed": false
   },
   "outputs": [
    {
     "data": {
      "text/plain": [
       "array([[ 0.16826355],\n",
       "       [ 0.12097133]])"
      ]
     },
     "execution_count": 17,
     "metadata": {},
     "output_type": "execute_result"
    }
   ],
   "source": [
    "np.transpose( np.asarray( [[xerrL[3], xerrU[3]]] ))"
   ]
  },
  {
   "cell_type": "markdown",
   "metadata": {},
   "source": [
    "## See asymmetric_errorbars notebook for more details."
   ]
  }
 ],
 "metadata": {
  "kernelspec": {
   "display_name": "Python 2",
   "language": "python",
   "name": "python2"
  },
  "language_info": {
   "codemirror_mode": {
    "name": "ipython",
    "version": 2
   },
   "file_extension": ".py",
   "mimetype": "text/x-python",
   "name": "python",
   "nbconvert_exporter": "python",
   "pygments_lexer": "ipython2",
   "version": "2.7.11"
  }
 },
 "nbformat": 4,
 "nbformat_minor": 0
}
