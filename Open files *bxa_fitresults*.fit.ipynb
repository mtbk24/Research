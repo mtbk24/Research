{
 "cells": [
  {
   "cell_type": "markdown",
   "metadata": {},
   "source": [
    "This file holds the results from the bxa fitting process.  It holds the best fit parameters based on the Multinest algorithm use of the Maximum Likelihood.  Holds best fit parameters, errors, and statistics."
   ]
  },
  {
   "cell_type": "markdown",
   "metadata": {},
   "source": [
    "For the 'PARAM' lists, the values are as in the following order:\n",
    "    - best-fit parameter\n",
    "    - 1-sigma lower\n",
    "    - 1-sigma upper\n",
    "    - 2-sigma lower\n",
    "    - 2-sigma upper\n",
    "    - 3-sigma lower\n",
    "    - 3-sigma upper"
   ]
  },
  {
   "cell_type": "code",
   "execution_count": 1,
   "metadata": {
    "collapsed": true
   },
   "outputs": [],
   "source": [
    "from __future__ import division\n",
    "import os\n",
    "import numpy as np\n",
    "import pandas as pd\n",
    "from collections import OrderedDict\n",
    "from astropy.io import fits as pyfits\n",
    "#import pyfits\n",
    "import json\n",
    "#from scipy.stats import lognorm, norm\n",
    "#import matplotlib.pyplot as plt\n",
    "#%matplotlib inline"
   ]
  },
  {
   "cell_type": "code",
   "execution_count": 2,
   "metadata": {
    "collapsed": true
   },
   "outputs": [],
   "source": [
    "modName      = 'grbm+blackb'\n",
    "version      = '-01-'\n",
    "det          = 'G'\n",
    "detector     = 'GBM'\n",
    "burst        = 'bn080916009'"
   ]
  },
  {
   "cell_type": "code",
   "execution_count": 3,
   "metadata": {
    "collapsed": true
   },
   "outputs": [],
   "source": [
    "data_dir = \"/Users/KimiZ/GRBs2/analysis/LAT/%s/integrated/\"%burst\n",
    "mod_dir = \"/Users/KimiZ/GRBs2/analysis/LAT/%s/BXA/%s/%s/\"%(burst, detector, modName)"
   ]
  },
  {
   "cell_type": "code",
   "execution_count": 4,
   "metadata": {
    "collapsed": true
   },
   "outputs": [],
   "source": [
    "filename = os.path.join(mod_dir, \"bxa_fitresults_%s_%s_%s_.fit\"%(modName, version, det))\n",
    "\n",
    "if os.path.exists(filename):\n",
    "    pass\n",
    "else:\n",
    "    raise Exception, \"File does not exist.\""
   ]
  },
  {
   "cell_type": "code",
   "execution_count": 5,
   "metadata": {
    "collapsed": true
   },
   "outputs": [],
   "source": [
    "def get_ParNames(model):\n",
    "    '''\n",
    "    Given a model name, it will return the parameter names of the model.\n",
    "    See file 'ParameterNames.json in the $PYX/Analysis/ directory.\n",
    "    '\n",
    "    '''\n",
    "    fname   = \"/Users/KimiZ/GRBs2/analysis/pyxspec_programs/Analysis/ParameterNames.json\"\n",
    "    f       = json.load(open(fname, 'r'), encoding='utf-8')\n",
    "    names   = f[model] # DICTIONARY OF PARAMETERS\n",
    "    names   = [str(i) for i in names]\n",
    "    return names\n",
    "\n",
    "Pars = get_ParNames(modName)"
   ]
  },
  {
   "cell_type": "code",
   "execution_count": 6,
   "metadata": {
    "collapsed": false
   },
   "outputs": [
    {
     "data": {
      "text/plain": [
       "['alpha', 'beta', 'tem', 'norm', 'kT', 'norm']"
      ]
     },
     "execution_count": 6,
     "metadata": {},
     "output_type": "execute_result"
    }
   ],
   "source": [
    "Pars"
   ]
  },
  {
   "cell_type": "code",
   "execution_count": 7,
   "metadata": {
    "collapsed": true
   },
   "outputs": [],
   "source": [
    "# OPEN FILE\n",
    "f          = pyfits.open(filename)"
   ]
  },
  {
   "cell_type": "code",
   "execution_count": 8,
   "metadata": {
    "collapsed": false
   },
   "outputs": [],
   "source": [
    "f1 = f[1]"
   ]
  },
  {
   "cell_type": "code",
   "execution_count": 9,
   "metadata": {
    "collapsed": false
   },
   "outputs": [
    {
     "data": {
      "text/plain": [
       "ColDefs(\n",
       "    name = 'PARAM1'; format = '1PD(7)'\n",
       "    name = 'PARAM2'; format = '1PD(7)'\n",
       "    name = 'PARAM3'; format = '1PD(7)'\n",
       "    name = 'PARAM4'; format = '1PD(7)'\n",
       "    name = 'PARAM5'; format = '1PD(7)'\n",
       "    name = 'PARAM6'; format = '1PD(7)'\n",
       "    name = 'NDATA'; format = '1I'\n",
       "    name = 'DOF'; format = '1I'\n",
       "    name = 'CSTAT'; format = '1D'\n",
       "    name = 'LOGLIKE'; format = '1D'\n",
       "    name = 'AIC'; format = '1D'\n",
       "    name = 'BIC'; format = '1D'\n",
       "    name = 'EVIDENCE'; format = '1PD(2)'\n",
       ")"
      ]
     },
     "execution_count": 9,
     "metadata": {},
     "output_type": "execute_result"
    }
   ],
   "source": [
    "f1.columns"
   ]
  },
  {
   "cell_type": "code",
   "execution_count": 10,
   "metadata": {
    "collapsed": false
   },
   "outputs": [
    {
     "data": {
      "text/plain": [
       "rec.array([ (array([-1.24304897, -1.28394028, -1.21715277, -1.31086483, -1.17869474,\n",
       "       -1.3346307 , -1.13841141]), array([-2.45116391, -8.25770432, -2.6624999 , -9.72968798, -2.28977138,\n",
       "       -9.9868321 , -2.07006974]), array([ 1449.76343961,  1260.64232481,  2210.1624184 ,   981.47801688,\n",
       "        2884.45876647,   787.03486795,  3665.81015112]), array([-1.91517457, -1.94799828, -1.89872772, -1.96699996, -1.87104455,\n",
       "       -1.98528641, -1.83864597]), array([ 42.21666076,  39.90339723,  44.02930978,  37.93441153,\n",
       "        46.36136149,  35.70420913,  49.75834625]), array([-5.36095625, -5.42835426, -5.25254218, -5.55243002, -5.18955724,\n",
       "       -5.71438657, -5.11389037]), 353, 347, 254.51404277316487, -127.25702138658244, 266.51404277316487, 289.71285111476465, array([ -1.53911573e+02,   2.28415791e-02]))], \n",
       "          dtype=[('PARAM1', '>i4', (2,)), ('PARAM2', '>i4', (2,)), ('PARAM3', '>i4', (2,)), ('PARAM4', '>i4', (2,)), ('PARAM5', '>i4', (2,)), ('PARAM6', '>i4', (2,)), ('NDATA', '>i2'), ('DOF', '>i2'), ('CSTAT', '>f8'), ('LOGLIKE', '>f8'), ('AIC', '>f8'), ('BIC', '>f8'), ('EVIDENCE', '>i4', (2,))])"
      ]
     },
     "execution_count": 10,
     "metadata": {},
     "output_type": "execute_result"
    }
   ],
   "source": [
    "f1.data"
   ]
  },
  {
   "cell_type": "code",
   "execution_count": 11,
   "metadata": {
    "collapsed": false
   },
   "outputs": [
    {
     "data": {
      "text/plain": [
       "['PARAM1',\n",
       " 'PARAM2',\n",
       " 'PARAM3',\n",
       " 'PARAM4',\n",
       " 'PARAM5',\n",
       " 'PARAM6',\n",
       " 'NDATA',\n",
       " 'DOF',\n",
       " 'CSTAT',\n",
       " 'LOGLIKE',\n",
       " 'AIC',\n",
       " 'BIC',\n",
       " 'EVIDENCE']"
      ]
     },
     "execution_count": 11,
     "metadata": {},
     "output_type": "execute_result"
    }
   ],
   "source": [
    "f1.data.columns.names"
   ]
  },
  {
   "cell_type": "code",
   "execution_count": 13,
   "metadata": {
    "collapsed": false
   },
   "outputs": [],
   "source": [
    "param_dict = OrderedDict()\n",
    "\n",
    "for i,name in enumerate(f1.data.columns.names):\n",
    "    if 'PARAM' in name:\n",
    "        values = list(f1.data[name][0])\n",
    "        param_dict[\"%s__%i\"%(Pars[i],i+1)] = values\n",
    "    else:\n",
    "        if 'EVIDENCE' in name:\n",
    "            param_dict[name] = list(f1.data[name][0])\n",
    "        else:\n",
    "            param_dict[name] = f1.data[name][0]\n",
    "        "
   ]
  },
  {
   "cell_type": "code",
   "execution_count": 14,
   "metadata": {
    "collapsed": false
   },
   "outputs": [
    {
     "data": {
      "text/plain": [
       "OrderedDict([('alpha__1',\n",
       "              [-1.243048970373966,\n",
       "               -1.2839402811863061,\n",
       "               -1.2171527691188138,\n",
       "               -1.3108648326988719,\n",
       "               -1.1786947413770821,\n",
       "               -1.3346306996220934,\n",
       "               -1.1384114142455]),\n",
       "             ('beta__2',\n",
       "              [-2.4511639145716533,\n",
       "               -8.2577043242606667,\n",
       "               -2.6624999014863242,\n",
       "               -9.7296879798730789,\n",
       "               -2.2897713815978205,\n",
       "               -9.9868320961398336,\n",
       "               -2.0700697387160343]),\n",
       "             ('tem__3',\n",
       "              [1449.7634396113542,\n",
       "               1260.6423248125486,\n",
       "               2210.1624183989506,\n",
       "               981.47801688394145,\n",
       "               2884.4587664682472,\n",
       "               787.03486795214769,\n",
       "               3665.8101511176815]),\n",
       "             ('norm__4',\n",
       "              [-1.9151745673606104,\n",
       "               -1.9479982798534161,\n",
       "               -1.8987277229286037,\n",
       "               -1.9669999608222266,\n",
       "               -1.8710445479737836,\n",
       "               -1.985286408421475,\n",
       "               -1.8386459659919963]),\n",
       "             ('kT__5',\n",
       "              [42.216660755063053,\n",
       "               39.903397229508222,\n",
       "               44.029309784962386,\n",
       "               37.93441152716624,\n",
       "               46.361361492121887,\n",
       "               35.704209125637945,\n",
       "               49.758346249779265]),\n",
       "             ('norm__6',\n",
       "              [-5.3609562487896412,\n",
       "               -5.4283542554362052,\n",
       "               -5.2525421802556576,\n",
       "               -5.5524300240830833,\n",
       "               -5.1895572353887447,\n",
       "               -5.7143865743851308,\n",
       "               -5.113890368030912]),\n",
       "             ('NDATA', 353),\n",
       "             ('DOF', 347),\n",
       "             ('CSTAT', 254.51404277316487),\n",
       "             ('LOGLIKE', -127.25702138658244),\n",
       "             ('AIC', 266.51404277316487),\n",
       "             ('BIC', 289.71285111476465),\n",
       "             ('EVIDENCE', [-153.9115730085768, 0.022841579064159422])])"
      ]
     },
     "execution_count": 14,
     "metadata": {},
     "output_type": "execute_result"
    }
   ],
   "source": [
    "param_dict"
   ]
  },
  {
   "cell_type": "code",
   "execution_count": null,
   "metadata": {
    "collapsed": true
   },
   "outputs": [],
   "source": []
  }
 ],
 "metadata": {
  "kernelspec": {
   "display_name": "Python 2",
   "language": "python",
   "name": "python2"
  },
  "language_info": {
   "codemirror_mode": {
    "name": "ipython",
    "version": 2
   },
   "file_extension": ".py",
   "mimetype": "text/x-python",
   "name": "python",
   "nbconvert_exporter": "python",
   "pygments_lexer": "ipython2",
   "version": "2.7.12"
  }
 },
 "nbformat": 4,
 "nbformat_minor": 0
}
